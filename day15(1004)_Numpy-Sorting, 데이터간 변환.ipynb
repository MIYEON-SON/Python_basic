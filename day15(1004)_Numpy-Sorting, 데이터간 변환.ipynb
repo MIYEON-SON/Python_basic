{
 "cells": [
  {
   "cell_type": "markdown",
   "id": "c35dedeb",
   "metadata": {},
   "source": [
    "# Numpy의 정렬 종류"
   ]
  },
  {
   "cell_type": "code",
   "execution_count": 6,
   "id": "fd964887",
   "metadata": {},
   "outputs": [
    {
     "name": "stdout",
     "output_type": "stream",
     "text": [
      "원본 array: [3 1 9 5]\n",
      "np.sort() 호출 후 반환된 정렬 행렬: [1 3 5 9]\n",
      "np.sort() 호출 후 반환된 원본 행렬: [3 1 9 5]\n",
      "원본데이터.sort() 호출 후 반환된 정렬 행렬: None\n",
      "원본데이터.sort() 호출 후 반환된 원본 행렬: [1 3 5 9]\n"
     ]
    }
   ],
   "source": [
    "# Numpy의 sorting advance 버전\n",
    "# np.sort()\n",
    "# 원본데이터.sort()  <-원본 변경됨\n",
    "\n",
    "import numpy as np\n",
    "import pandas as pd\n",
    "\n",
    "org_array=np.array([3,1,9,5])\n",
    "print('원본 array:',org_array)\n",
    "\n",
    "# np.sort()로 정렬\n",
    "sort_array1=np.sort(org_array)\n",
    "print('np.sort() 호출 후 반환된 정렬 행렬:', sort_array1)\n",
    "print('np.sort() 호출 후 반환된 원본 행렬:', org_array)\n",
    "\n",
    "# 원본데이터.sort()로 정렬\n",
    "sort_array2=org_array.sort()\n",
    "print('원본데이터.sort() 호출 후 반환된 정렬 행렬:', sort_array2)\n",
    "print('원본데이터.sort() 호출 후 반환된 원본 행렬:', org_array)"
   ]
  },
  {
   "cell_type": "code",
   "execution_count": 12,
   "id": "c667577f",
   "metadata": {},
   "outputs": [
    {
     "name": "stdout",
     "output_type": "stream",
     "text": [
      "내림차순 정렬: [9 5 3 1]\n"
     ]
    }
   ],
   "source": [
    "# 내림차순\n",
    "sort_array1_desc=np.sort(org_array)[::-1]\n",
    "print('내림차순 정렬:',sort_array1_desc)"
   ]
  },
  {
   "cell_type": "code",
   "execution_count": 45,
   "id": "7d1c744b",
   "metadata": {},
   "outputs": [
    {
     "name": "stdout",
     "output_type": "stream",
     "text": [
      "[[ 8 12]\n",
      " [ 7  1]\n",
      " [ 3  4]]\n",
      "row방향으로 정렬\n",
      " [[ 3  1]\n",
      " [ 7  4]\n",
      " [ 8 12]]\n",
      "col방향으로 정렬\n",
      " [[ 8 12]\n",
      " [ 1  7]\n",
      " [ 3  4]]\n"
     ]
    }
   ],
   "source": [
    "####### 행방향 및 열방향 정렬 - 이해하기***\n",
    "array2d=np.array([[8,12],[7,1],[3,4]])\n",
    "sort_array2d_axis0=np.sort(array2d, axis=0)\n",
    "print(array2d)\n",
    "print('row방향으로 정렬\\n',sort_array2d_axis0)\n",
    "sort_array2d_axis1=np.sort(array2d, axis=1)\n",
    "print('col방향으로 정렬\\n',sort_array2d_axis1)"
   ]
  },
  {
   "cell_type": "code",
   "execution_count": 22,
   "id": "d5a5a7c0",
   "metadata": {},
   "outputs": [
    {
     "name": "stdout",
     "output_type": "stream",
     "text": [
      "[[ 8 12]\n",
      " [ 7  1]]\n",
      "row방향으로 정렬\n",
      " [[ 7  1]\n",
      " [ 8 12]]\n",
      "col방향으로 정렬\n",
      " [[ 8 12]\n",
      " [ 1  7]]\n"
     ]
    }
   ],
   "source": [
    "# 행방향 및 열방향 정렬\n",
    "array2d=np.array([[8,12],[7,1]])\n",
    "sort_array2d_axis0=np.sort(array2d, axis=0)\n",
    "print(array2d)\n",
    "print('row방향으로 정렬\\n',sort_array2d_axis0)\n",
    "\n",
    "sort_array2d_axis1=np.sort(array2d, axis=1)\n",
    "print('col방향으로 정렬\\n',sort_array2d_axis1)"
   ]
  },
  {
   "cell_type": "code",
   "execution_count": 28,
   "id": "cab71b18",
   "metadata": {},
   "outputs": [
    {
     "name": "stdout",
     "output_type": "stream",
     "text": [
      "원본 array: [3 1 9 5]\n",
      "[1 0 3 2]\n",
      "[2 3 0 1]\n"
     ]
    }
   ],
   "source": [
    "# argsort() - 오름차순/내림차순\n",
    "org_array=np.array([3,1,9,5])\n",
    "print('원본 array:',org_array)\n",
    "\n",
    "sort_indices=np.argsort(org_array)\n",
    "print(sort_indices)\n",
    "\n",
    "sort_indices_desc=np.argsort(org_array)[::-1]\n",
    "print(sort_indices_desc)"
   ]
  },
  {
   "cell_type": "markdown",
   "id": "8bff4a37",
   "metadata": {},
   "source": [
    "# 데이터간 변환"
   ]
  },
  {
   "cell_type": "code",
   "execution_count": 30,
   "id": "138f4e5d",
   "metadata": {},
   "outputs": [],
   "source": [
    "# DF, 리스트, 딕셔너리, ndarray 상호 변환"
   ]
  },
  {
   "cell_type": "code",
   "execution_count": 35,
   "id": "c2f6d901",
   "metadata": {},
   "outputs": [
    {
     "name": "stdout",
     "output_type": "stream",
     "text": [
      "array1 shape: (3,)\n",
      "1차원 list로 만든 df:\n",
      "    col1\n",
      "0     1\n",
      "1     2\n",
      "2     3\n",
      "1차원 array로 만든 df:\n",
      "    col1\n",
      "0     1\n",
      "1     2\n",
      "2     3\n"
     ]
    }
   ],
   "source": [
    "import numpy as np\n",
    "import pandas as pd\n",
    "\n",
    "col_name1=['col1']\n",
    "l1=[1,2,3]\n",
    "\n",
    "# array1 생성\n",
    "array1=np.array(l1)\n",
    "print('array1 shape:', array1.shape)\n",
    "\n",
    "# 데이터프레임 만들기 - list를 통해\n",
    "l1_df=pd.DataFrame(l1,columns=col_name1)\n",
    "print('1차원 list로 만든 df:\\n',l1_df)\n",
    "\n",
    "# 데이터프레임 만들기 - array를 통해\n",
    "array1_df=pd.DataFrame(array1,columns=col_name1)\n",
    "print('1차원 array로 만든 df:\\n',array1_df)"
   ]
  },
  {
   "cell_type": "code",
   "execution_count": 37,
   "id": "9ab31a3c",
   "metadata": {},
   "outputs": [
    {
     "name": "stdout",
     "output_type": "stream",
     "text": [
      "array2 shape: (2, 3)\n",
      "2차원 list로 만든 df:\n",
      "    col1  col2  col3\n",
      "0     1     2     3\n",
      "1    11    12    13\n",
      "2차원 array로 만든 df:\n",
      "    col1  col2  col3\n",
      "0     1     2     3\n",
      "1    11    12    13\n"
     ]
    }
   ],
   "source": [
    "# 2차원 데이터로 DF생성\n",
    "\n",
    "col_name2=['col1','col2','col3']\n",
    "\n",
    "# 2x3 형태의 리스트와 ndarray 생성 후 df로 변환\n",
    "l2=[[1,2,3],[11,12,13]]\n",
    "\n",
    "# array2 생성\n",
    "array2=np.array(l2)\n",
    "print('array2 shape:', array2.shape)\n",
    "\n",
    "# 데이터프레임 만들기 - list를 통해\n",
    "l2_df=pd.DataFrame(l2,columns=col_name2)\n",
    "print('2차원 list로 만든 df:\\n',l2_df)\n",
    "\n",
    "# 데이터프레임 만들기 - array를 통해\n",
    "array2_df=pd.DataFrame(array2,columns=col_name2)\n",
    "print('2차원 array로 만든 df:\\n',array2_df)"
   ]
  },
  {
   "cell_type": "code",
   "execution_count": 61,
   "id": "9f225d44",
   "metadata": {},
   "outputs": [
    {
     "name": "stdout",
     "output_type": "stream",
     "text": [
      "dict로 만든 df:\n",
      "    col1  col2  col3\n",
      "0     1     2     3\n",
      "1    11    12    13\n",
      "<class 'pandas.core.frame.DataFrame'>\n"
     ]
    }
   ],
   "source": [
    "# dict로 DF 만들어보기\n",
    "# {key:value} 값으로 구성됨..\n",
    "# key는 문자열 컬럼명, value는 리스트 또는 ndarray로 매핑\n",
    "\n",
    "dict1={'col1':[1,11],'col2':[2,12],'col3':[3,13]}  # 비관계형 데이터베이스: 행과 열로 구성되어 있지 않음\n",
    "df_dict=pd.DataFrame(dict1)\n",
    "print('dict로 만든 df:\\n',df_dict)\n",
    "print(type(df_dict))"
   ]
  },
  {
   "cell_type": "code",
   "execution_count": 51,
   "id": "1c096b75",
   "metadata": {},
   "outputs": [
    {
     "name": "stdout",
     "output_type": "stream",
     "text": [
      "<class 'numpy.ndarray'>\n",
      "(2, 3)\n"
     ]
    }
   ],
   "source": [
    "# 1. df을 ndarray로 변환\n",
    "# .values\n",
    "df_array3=df_dict.values\n",
    "print(type(df_array3))\n",
    "print(df_array3.shape)"
   ]
  },
  {
   "cell_type": "code",
   "execution_count": 53,
   "id": "76d321b8",
   "metadata": {},
   "outputs": [
    {
     "name": "stdout",
     "output_type": "stream",
     "text": [
      "\n",
      " df_dict.tolist()의 타입: <class 'list'>\n"
     ]
    }
   ],
   "source": [
    "# 2. df를 list로 변환\n",
    "# tolist()\n",
    "list3=df_dict.values.tolist()  # array 'df_dict.values'를 tolist()로 변환\n",
    "print('\\n df_dict.tolist()의 타입:',type(list3))"
   ]
  },
  {
   "cell_type": "code",
   "execution_count": 60,
   "id": "83af5d21",
   "metadata": {},
   "outputs": [
    {
     "name": "stdout",
     "output_type": "stream",
     "text": [
      "<class 'dict'>\n"
     ]
    },
    {
     "data": {
      "text/plain": [
       "{'col1': [1, 11], 'col2': [2, 12], 'col3': [3, 13]}"
      ]
     },
     "execution_count": 60,
     "metadata": {},
     "output_type": "execute_result"
    }
   ],
   "source": [
    "# 3. df를 dict로 변환\n",
    "# to_dict('list')\n",
    "df_dict.to_dict()  # index도 함께 나옴\n",
    "dict3=df_dict.to_dict('list')\n",
    "print(type(dict3))\n",
    "dict3"
   ]
  }
 ],
 "metadata": {
  "kernelspec": {
   "display_name": "Python 3 (ipykernel)",
   "language": "python",
   "name": "python3"
  },
  "language_info": {
   "codemirror_mode": {
    "name": "ipython",
    "version": 3
   },
   "file_extension": ".py",
   "mimetype": "text/x-python",
   "name": "python",
   "nbconvert_exporter": "python",
   "pygments_lexer": "ipython3",
   "version": "3.9.12"
  }
 },
 "nbformat": 4,
 "nbformat_minor": 5
}
