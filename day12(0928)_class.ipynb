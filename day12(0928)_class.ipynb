{
 "cells": [
  {
   "cell_type": "markdown",
   "id": "85d78809",
   "metadata": {},
   "source": [
    "# 클래스(class)"
   ]
  },
  {
   "cell_type": "markdown",
   "id": "665e205c",
   "metadata": {},
   "source": [
    "C언어에는 클래스가 없다. 이 뜻은 클래스가 없어도 프로그래밍이 가능하다는 말이 된다. 파이썬의 잘 짜여진 코드들을 살펴보아도 클래스가 없이 작성한 코드들이 상당하다. \n",
    "\n",
    "클래스는 앞서 공부한 내용처럼 반드시 필요한 내용은 아니다. 하지만 클래스를 이해하고 나면 우리가 코딩할 때 얻을 수 있는 효익이 상당하다."
   ]
  },
  {
   "cell_type": "code",
   "execution_count": 6,
   "id": "dbbaadf8",
   "metadata": {},
   "outputs": [],
   "source": [
    "# 1대의 계산기를 만든다고 가정한다.\n",
    "result=0\n",
    "def add(num):\n",
    "    global result\n",
    "    result +=num\n",
    "    return result"
   ]
  },
  {
   "cell_type": "code",
   "execution_count": 7,
   "id": "b57313d8",
   "metadata": {},
   "outputs": [
    {
     "name": "stdout",
     "output_type": "stream",
     "text": [
      "1\n",
      "4\n"
     ]
    }
   ],
   "source": [
    "print(add(1))\n",
    "print(add(3))"
   ]
  },
  {
   "cell_type": "code",
   "execution_count": 8,
   "id": "12efea63",
   "metadata": {},
   "outputs": [
    {
     "data": {
      "text/plain": [
       "102"
      ]
     },
     "execution_count": 8,
     "metadata": {},
     "output_type": "execute_result"
    }
   ],
   "source": [
    "result=101\n",
    "add(1)"
   ]
  },
  {
   "cell_type": "code",
   "execution_count": 11,
   "id": "1aab0cbb",
   "metadata": {},
   "outputs": [
    {
     "name": "stdout",
     "output_type": "stream",
     "text": [
      "계산기 1번 1\n",
      "계산기 1번 4\n",
      "계산기 2번 3\n",
      "계산기 2번 8\n"
     ]
    }
   ],
   "source": [
    "# 2대의 계산기를 만든다고 가정한다.\n",
    "result1=0\n",
    "def add1(num):\n",
    "    global result1\n",
    "    result1 +=num\n",
    "    return result1\n",
    "\n",
    "print('계산기 1번',add1(1))\n",
    "print('계산기 1번',add1(3))\n",
    "\n",
    "result2=0\n",
    "def add2(num):\n",
    "    global result2\n",
    "    result2 +=num\n",
    "    return result2\n",
    "\n",
    "print('계산기 2번',add2(3))\n",
    "print('계산기 2번',add2(5))"
   ]
  },
  {
   "cell_type": "markdown",
   "id": "e215b5ee",
   "metadata": {},
   "source": [
    "위의 2대의 계산기는 서로에게 아무런 영향을 미치지 않는다. 그런데 만약 계산기가 3대 5대 10대 등으로 늘어나면 그때마다 계산기를 추가해야 할까?\n",
    "게다가, 덧셈 외에 뺄셈 함수, 곱셈 함수, 나눗셈 함수 등의 기능이 늘어나게 되면 그 때마다 기능이 추가된 함수를 추가해야 할까?\n",
    "\n",
    "그렇지 않다. 위와 같은 상황이 발생할 것을 예상해서 배울 내용이 class이다."
   ]
  },
  {
   "cell_type": "code",
   "execution_count": 15,
   "id": "ba210d93",
   "metadata": {},
   "outputs": [],
   "source": [
    "# 간단한 클래스 예제\n",
    "class calculator:\n",
    "    def __init__(self):\n",
    "        self.result=0\n",
    "    def add(self,num):\n",
    "        self.result += num\n",
    "        return self.result"
   ]
  },
  {
   "cell_type": "code",
   "execution_count": 20,
   "id": "3ae21fe5",
   "metadata": {},
   "outputs": [],
   "source": [
    "cal1=calculator()  # 1번 계산기\n",
    "cal2=calculator()  # 2번 계산기"
   ]
  },
  {
   "cell_type": "code",
   "execution_count": 21,
   "id": "2bcae8bd",
   "metadata": {},
   "outputs": [
    {
     "name": "stdout",
     "output_type": "stream",
     "text": [
      "1\n",
      "3\n",
      "3\n",
      "7\n"
     ]
    }
   ],
   "source": [
    "# 1번 계산기\n",
    "print(cal1.add(1))\n",
    "print(cal1.add(2))\n",
    "\n",
    "# 2번 계산기\n",
    "print(cal2.add(3))\n",
    "print(cal2.add(4))"
   ]
  },
  {
   "cell_type": "markdown",
   "id": "0acaad5b",
   "metadata": {},
   "source": [
    "### 덧셈, 뺄셈, 곱셈, 나눗셈이 가능한 클래스를 생성"
   ]
  },
  {
   "cell_type": "code",
   "execution_count": 22,
   "id": "9adfb7cd",
   "metadata": {},
   "outputs": [
    {
     "ename": "NameError",
     "evalue": "name 'Fourcal' is not defined",
     "output_type": "error",
     "traceback": [
      "\u001b[1;31m---------------------------------------------------------------------------\u001b[0m",
      "\u001b[1;31mNameError\u001b[0m                                 Traceback (most recent call last)",
      "Input \u001b[1;32mIn [22]\u001b[0m, in \u001b[0;36m<cell line: 2>\u001b[1;34m()\u001b[0m\n\u001b[0;32m      1\u001b[0m \u001b[38;5;66;03m# Class 이름이 Fourcal()\u001b[39;00m\n\u001b[1;32m----> 2\u001b[0m a\u001b[38;5;241m=\u001b[39m\u001b[43mFourcal\u001b[49m()\n\u001b[0;32m      3\u001b[0m a\u001b[38;5;241m.\u001b[39mselect(\u001b[38;5;241m3\u001b[39m,\u001b[38;5;241m2\u001b[39m)\n",
      "\u001b[1;31mNameError\u001b[0m: name 'Fourcal' is not defined"
     ]
    }
   ],
   "source": [
    "# Class 이름이 Fourcal()\n",
    "a=Fourcal()\n",
    "a.select(3,2)  # 숫자 3와 2를 a에 지정 --> Fourcal()에 지정"
   ]
  },
  {
   "cell_type": "code",
   "execution_count": null,
   "id": "98204f86",
   "metadata": {},
   "outputs": [],
   "source": [
    "a.add()\n",
    "[out] : 5"
   ]
  },
  {
   "cell_type": "code",
   "execution_count": null,
   "id": "e7536d6f",
   "metadata": {},
   "outputs": [],
   "source": [
    "a.mul()\n",
    "[out] : 6"
   ]
  },
  {
   "cell_type": "markdown",
   "id": "9b699006",
   "metadata": {},
   "source": [
    "### 클래스 구조 만들기"
   ]
  },
  {
   "cell_type": "code",
   "execution_count": 23,
   "id": "8e702df8",
   "metadata": {},
   "outputs": [],
   "source": [
    "class Fourcal:\n",
    "    pass"
   ]
  },
  {
   "cell_type": "code",
   "execution_count": 25,
   "id": "980a4c59",
   "metadata": {},
   "outputs": [
    {
     "name": "stdout",
     "output_type": "stream",
     "text": [
      "<class '__main__.Fourcal'>\n"
     ]
    }
   ],
   "source": [
    "a=Fourcal()  # 객체a가 Fourcal의 인스턴스이다.\n",
    "print(type(a))"
   ]
  },
  {
   "cell_type": "markdown",
   "id": "148d36ed",
   "metadata": {},
   "source": [
    "##### Fourcal 클래스에 기능을 추가"
   ]
  },
  {
   "cell_type": "code",
   "execution_count": 26,
   "id": "6769bd81",
   "metadata": {},
   "outputs": [],
   "source": [
    "class Fourcal:  # Fourcal 클래스명\n",
    "    def select(self, x, y):  # select함수 -> 매서드(클래스 하의 함수를 지칭)\n",
    "        self.x=x\n",
    "        self.y=y"
   ]
  },
  {
   "cell_type": "code",
   "execution_count": 33,
   "id": "1d394258",
   "metadata": {},
   "outputs": [],
   "source": [
    "# 위의 내용에 적용 1\n",
    "a=Fourcal()\n",
    "a.select(4,2)  # a는 self 에 대응, (4,2)는 (x,y)에 대응"
   ]
  },
  {
   "cell_type": "code",
   "execution_count": 34,
   "id": "2491c1ae",
   "metadata": {},
   "outputs": [],
   "source": [
    "# 위의 내용에 적용 2\n",
    "#Fourcal().select(4,2)"
   ]
  },
  {
   "cell_type": "code",
   "execution_count": 35,
   "id": "deb45538",
   "metadata": {},
   "outputs": [
    {
     "name": "stdout",
     "output_type": "stream",
     "text": [
      "4\n",
      "2\n"
     ]
    }
   ],
   "source": [
    "# 위에서 할당된 값을 확인\n",
    "print(a.x) # class fourcal의 메서드 :: x\n",
    "print(a.y) # class fourcal의 메서드 :: y"
   ]
  },
  {
   "cell_type": "code",
   "execution_count": 37,
   "id": "65020b60",
   "metadata": {},
   "outputs": [],
   "source": [
    "# 두 개의 서로 다른 계산기를 위한 값을 먼저 세팅해보자.\n",
    "a1=Fourcal()  # a 계산기\n",
    "b1=Fourcal()  # b 계산기\n",
    "\n",
    "a1.select(4,2)\n",
    "b1.select(3,7)"
   ]
  },
  {
   "cell_type": "code",
   "execution_count": 38,
   "id": "023669e2",
   "metadata": {},
   "outputs": [
    {
     "name": "stdout",
     "output_type": "stream",
     "text": [
      "4\n",
      "3\n"
     ]
    }
   ],
   "source": [
    "print(a1.x)\n",
    "print(b1.x)"
   ]
  },
  {
   "cell_type": "code",
   "execution_count": 45,
   "id": "a9e0d21b",
   "metadata": {},
   "outputs": [
    {
     "name": "stdout",
     "output_type": "stream",
     "text": [
      "<__main__.Fourcal object at 0x0000029125513AC0>\n"
     ]
    }
   ],
   "source": [
    "print(a1)"
   ]
  },
  {
   "cell_type": "markdown",
   "id": "08bcc2ec",
   "metadata": {},
   "source": [
    "### 더하기 기능 만들기"
   ]
  },
  {
   "cell_type": "code",
   "execution_count": 41,
   "id": "35723d01",
   "metadata": {},
   "outputs": [],
   "source": [
    "class Fourcal:  # Fourcal 클래스명\n",
    "    def select(self, x, y):  # select함수 -> 매서드(클래스 하의 함수를 지칭)\n",
    "        self.x=x\n",
    "        self.y=y\n",
    "    def add(self):  # add 메서드가 추가됨\n",
    "        result=self.x+self.y\n",
    "        return result"
   ]
  },
  {
   "cell_type": "code",
   "execution_count": 43,
   "id": "effef878",
   "metadata": {},
   "outputs": [
    {
     "name": "stdout",
     "output_type": "stream",
     "text": [
      "10\n"
     ]
    }
   ],
   "source": [
    "a=Fourcal()  # 객체화\n",
    "a.select(3,7)  # 숫자를 할당 -> class Fourcal에 할당\n",
    "print(a.add())  # a.add라는 메서드를 활용"
   ]
  },
  {
   "cell_type": "code",
   "execution_count": 49,
   "id": "e82582f7",
   "metadata": {},
   "outputs": [],
   "source": [
    "# 곱하기, 빼기, 나누기 기능 추가하기**** \n",
    "# mul, sub, div <- 각 메서드명\n",
    "\n",
    "class Fourcal:  # Fourcal 클래스명\n",
    "    def select(self, x, y):  # select함수 -> 매서드(클래스 하의 함수를 지칭)\n",
    "        self.x=x\n",
    "        self.y=y\n",
    "    def add(self):  # add 메서드가 추가됨\n",
    "        result=self.x+self.y\n",
    "        return result\n",
    "    def mul(self):  # mul 메서드가 추가됨\n",
    "        result=self.x*self.y\n",
    "        return result\n",
    "    def sub(self):  # sub 메서드가 추가됨\n",
    "        result=self.x-self.y\n",
    "        return result\n",
    "    def div(self):  # div 메서드가 추가됨\n",
    "        result=self.x/self.y\n",
    "        return result"
   ]
  },
  {
   "cell_type": "code",
   "execution_count": 52,
   "id": "561c087a",
   "metadata": {},
   "outputs": [
    {
     "name": "stdout",
     "output_type": "stream",
     "text": [
      "5.0\n",
      "8\n"
     ]
    }
   ],
   "source": [
    "# a 계산기와 b 계산기를 따로 생성\n",
    "a=Fourcal() \n",
    "b=Fourcal()\n",
    "\n",
    "a.select(10,2)\n",
    "b.select(4,2)\n",
    "\n",
    "print(a.div())\n",
    "print(b.mul())"
   ]
  },
  {
   "cell_type": "markdown",
   "id": "70894c32",
   "metadata": {},
   "source": [
    "### 생성자(constructor)"
   ]
  },
  {
   "cell_type": "code",
   "execution_count": 53,
   "id": "9a480fb6",
   "metadata": {},
   "outputs": [
    {
     "ename": "AttributeError",
     "evalue": "'Fourcal' object has no attribute 'x'",
     "output_type": "error",
     "traceback": [
      "\u001b[1;31m---------------------------------------------------------------------------\u001b[0m",
      "\u001b[1;31mAttributeError\u001b[0m                            Traceback (most recent call last)",
      "Input \u001b[1;32mIn [53]\u001b[0m, in \u001b[0;36m<cell line: 2>\u001b[1;34m()\u001b[0m\n\u001b[0;32m      1\u001b[0m a\u001b[38;5;241m=\u001b[39mFourcal()\n\u001b[1;32m----> 2\u001b[0m \u001b[43ma\u001b[49m\u001b[38;5;241;43m.\u001b[39;49m\u001b[43madd\u001b[49m\u001b[43m(\u001b[49m\u001b[43m)\u001b[49m\n",
      "Input \u001b[1;32mIn [49]\u001b[0m, in \u001b[0;36mFourcal.add\u001b[1;34m(self)\u001b[0m\n\u001b[0;32m      9\u001b[0m \u001b[38;5;28;01mdef\u001b[39;00m \u001b[38;5;21madd\u001b[39m(\u001b[38;5;28mself\u001b[39m):  \u001b[38;5;66;03m# add 메서드가 추가됨\u001b[39;00m\n\u001b[1;32m---> 10\u001b[0m     result\u001b[38;5;241m=\u001b[39m\u001b[38;5;28;43mself\u001b[39;49m\u001b[38;5;241;43m.\u001b[39;49m\u001b[43mx\u001b[49m\u001b[38;5;241m+\u001b[39m\u001b[38;5;28mself\u001b[39m\u001b[38;5;241m.\u001b[39my\n\u001b[0;32m     11\u001b[0m     \u001b[38;5;28;01mreturn\u001b[39;00m result\n",
      "\u001b[1;31mAttributeError\u001b[0m: 'Fourcal' object has no attribute 'x'"
     ]
    }
   ],
   "source": [
    "a=Fourcal()\n",
    "a.add()"
   ]
  },
  {
   "cell_type": "code",
   "execution_count": 62,
   "id": "166a1c03",
   "metadata": {},
   "outputs": [],
   "source": [
    "class Fourcal:  # Fourcal 클래스명\n",
    "    def __init__(self, x, y):  # __init__ 생성자 *****\n",
    "        self.x=x\n",
    "        self.y=y\n",
    "        \n",
    "    def select(self, x, y):  # select함수 -> 매서드(클래스 하의 함수를 지칭)\n",
    "        self.x=x\n",
    "        self.y=y\n",
    "    def add(self):  # add 메서드가 추가됨\n",
    "        result=self.x+self.y\n",
    "        return result\n",
    "    def mul(self):  # mul 메서드가 추가됨\n",
    "        result=self.x*self.y\n",
    "        return result\n",
    "    def sub(self):  # sub 메서드가 추가됨\n",
    "        result=self.x-self.y\n",
    "        return result\n",
    "    def div(self):  # div 메서드가 추가됨\n",
    "        result=self.x/self.y\n",
    "        return result"
   ]
  },
  {
   "cell_type": "code",
   "execution_count": 57,
   "id": "88d7f5ee",
   "metadata": {},
   "outputs": [
    {
     "data": {
      "text/plain": [
       "30"
      ]
     },
     "execution_count": 57,
     "metadata": {},
     "output_type": "execute_result"
    }
   ],
   "source": [
    "a=Fourcal(5,6)  # 값을 미리 할당\n",
    "a.mul()"
   ]
  },
  {
   "cell_type": "markdown",
   "id": "696e0b61",
   "metadata": {},
   "source": [
    "### 클래스의 상속"
   ]
  },
  {
   "cell_type": "markdown",
   "id": "3a695b9b",
   "metadata": {},
   "source": [
    "상속(Inheritance)이란 \"물려받다\"라는 뜻으로, \"재산을 상속받다\"라고 할 때의 상속과 같은 의미이다. 클래스에도 이 개념을 적용할 수 있다. 어떤 클래스를 만들 때 다른 클래스의 기능을 물려받을 수 있게 만드는 것이다. 이번에는 상속 개념을 사용하여 우리가 만든 FourCal 클래스에 ab (a의 b제곱)을 구할 수 있는 기능을 추가해 보자."
   ]
  },
  {
   "cell_type": "code",
   "execution_count": 63,
   "id": "34097eb8",
   "metadata": {},
   "outputs": [],
   "source": [
    "class More_cal(Fourcal):\n",
    "    pass"
   ]
  },
  {
   "cell_type": "code",
   "execution_count": 71,
   "id": "60d231cf",
   "metadata": {},
   "outputs": [
    {
     "data": {
      "text/plain": [
       "50"
      ]
     },
     "execution_count": 71,
     "metadata": {},
     "output_type": "execute_result"
    }
   ],
   "source": [
    "test=More_cal(5,10)\n",
    "test.mul()"
   ]
  },
  {
   "cell_type": "code",
   "execution_count": 72,
   "id": "e2f7d783",
   "metadata": {},
   "outputs": [
    {
     "name": "stdout",
     "output_type": "stream",
     "text": [
      "-5\n",
      "15\n"
     ]
    }
   ],
   "source": [
    "print(test.sub())\n",
    "print(test.add())"
   ]
  },
  {
   "cell_type": "markdown",
   "id": "a2e24caf",
   "metadata": {},
   "source": [
    "### 상속을 하는 이유"
   ]
  },
  {
   "cell_type": "markdown",
   "id": "84357a92",
   "metadata": {},
   "source": [
    "보통 상속이라는 것은 기존의 클래스를 변경하지 않고 기능을 추가하거나, 기존 기능을 변경할때 활용"
   ]
  },
  {
   "cell_type": "code",
   "execution_count": 74,
   "id": "ae29565d",
   "metadata": {},
   "outputs": [],
   "source": [
    "# More_cal에 새로운 pow라고 하는 제곱기능을 추가해보자.\n",
    "\n",
    "class More_cal(Fourcal):\n",
    "    def Pow(self):\n",
    "        result=self.x**self.y\n",
    "        return result"
   ]
  },
  {
   "cell_type": "code",
   "execution_count": 75,
   "id": "5dea73c9",
   "metadata": {},
   "outputs": [
    {
     "data": {
      "text/plain": [
       "8"
      ]
     },
     "execution_count": 75,
     "metadata": {},
     "output_type": "execute_result"
    }
   ],
   "source": [
    "test_a=More_cal(2,3)\n",
    "test_a.Pow()"
   ]
  },
  {
   "cell_type": "markdown",
   "id": "ffd1cf76",
   "metadata": {},
   "source": [
    "### 메서드 오버라이딩(overriding)"
   ]
  },
  {
   "cell_type": "code",
   "execution_count": 83,
   "id": "c8452168",
   "metadata": {},
   "outputs": [
    {
     "ename": "ZeroDivisionError",
     "evalue": "division by zero",
     "output_type": "error",
     "traceback": [
      "\u001b[1;31m---------------------------------------------------------------------------\u001b[0m",
      "\u001b[1;31mZeroDivisionError\u001b[0m                         Traceback (most recent call last)",
      "Input \u001b[1;32mIn [83]\u001b[0m, in \u001b[0;36m<cell line: 3>\u001b[1;34m()\u001b[0m\n\u001b[0;32m      1\u001b[0m \u001b[38;5;66;03m# 0으로 나누는 사례\u001b[39;00m\n\u001b[0;32m      2\u001b[0m test_0\u001b[38;5;241m=\u001b[39mFourcal(\u001b[38;5;241m4\u001b[39m,\u001b[38;5;241m0\u001b[39m)\n\u001b[1;32m----> 3\u001b[0m \u001b[43mtest_0\u001b[49m\u001b[38;5;241;43m.\u001b[39;49m\u001b[43mdiv\u001b[49m\u001b[43m(\u001b[49m\u001b[43m)\u001b[49m\n",
      "Input \u001b[1;32mIn [62]\u001b[0m, in \u001b[0;36mFourcal.div\u001b[1;34m(self)\u001b[0m\n\u001b[0;32m     18\u001b[0m \u001b[38;5;28;01mdef\u001b[39;00m \u001b[38;5;21mdiv\u001b[39m(\u001b[38;5;28mself\u001b[39m):  \u001b[38;5;66;03m# div 메서드가 추가됨\u001b[39;00m\n\u001b[1;32m---> 19\u001b[0m     result\u001b[38;5;241m=\u001b[39m\u001b[38;5;28;43mself\u001b[39;49m\u001b[38;5;241;43m.\u001b[39;49m\u001b[43mx\u001b[49m\u001b[38;5;241;43m/\u001b[39;49m\u001b[38;5;28;43mself\u001b[39;49m\u001b[38;5;241;43m.\u001b[39;49m\u001b[43my\u001b[49m\n\u001b[0;32m     20\u001b[0m     \u001b[38;5;28;01mreturn\u001b[39;00m result\n",
      "\u001b[1;31mZeroDivisionError\u001b[0m: division by zero"
     ]
    }
   ],
   "source": [
    "# 0으로 나누는 사례\n",
    "test_0=Fourcal(4,0)\n",
    "test_0.div()"
   ]
  },
  {
   "cell_type": "code",
   "execution_count": 81,
   "id": "c7e79f11",
   "metadata": {},
   "outputs": [],
   "source": [
    "# 위의 Fourcal의 오류가 나지 않도록 하자.\n",
    "class except_fourcal(Fourcal):\n",
    "    def div(self):\n",
    "        if self.y==0:\n",
    "            return 0\n",
    "        else:\n",
    "            return self.x/self.y"
   ]
  },
  {
   "cell_type": "code",
   "execution_count": 84,
   "id": "4b5afb6f",
   "metadata": {},
   "outputs": [
    {
     "data": {
      "text/plain": [
       "0"
      ]
     },
     "execution_count": 84,
     "metadata": {},
     "output_type": "execute_result"
    }
   ],
   "source": [
    "test_0=except_fourcal(4,0)\n",
    "test_0.div()"
   ]
  }
 ],
 "metadata": {
  "kernelspec": {
   "display_name": "Python 3 (ipykernel)",
   "language": "python",
   "name": "python3"
  },
  "language_info": {
   "codemirror_mode": {
    "name": "ipython",
    "version": 3
   },
   "file_extension": ".py",
   "mimetype": "text/x-python",
   "name": "python",
   "nbconvert_exporter": "python",
   "pygments_lexer": "ipython3",
   "version": "3.9.12"
  }
 },
 "nbformat": 4,
 "nbformat_minor": 5
}
