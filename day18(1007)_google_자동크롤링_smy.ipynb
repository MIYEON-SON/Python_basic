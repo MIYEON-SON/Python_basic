{
 "cells": [
  {
   "cell_type": "code",
   "execution_count": 2,
   "id": "131d6bf3",
   "metadata": {},
   "outputs": [
    {
     "data": {
      "text/plain": [
       "'C:\\\\Users\\\\ASIA-16\\\\Desktop\\\\Digital_dev\\\\Python practice 2'"
      ]
     },
     "execution_count": 2,
     "metadata": {},
     "output_type": "execute_result"
    }
   ],
   "source": [
    "import os\n",
    "os.getcwd()"
   ]
  },
  {
   "cell_type": "code",
   "execution_count": 10,
   "id": "fa0d603b",
   "metadata": {},
   "outputs": [],
   "source": [
    "from selenium import webdriver\n",
    "from selenium.webdriver.common.keys import Keys\n",
    "from selenium.webdriver.common.by import By\n",
    "\n",
    "driver = webdriver.Chrome()\n",
    "driver.get(\"https://www.google.com/\")\n",
    "\n",
    "driver.refresh()  # 새로고침 in selenium\n",
    "\n",
    "elem = driver.find_element(By.NAME, \"q\")\n",
    "elem.clear()\n",
    "elem.send_keys(\"pycon\")\n",
    "elem.send_keys(Keys.RETURN)  # Typing the Enter key in selenium\n",
    "# assert \"No results found.\" not in driver.page_source\n",
    "# driver.close()"
   ]
  },
  {
   "cell_type": "code",
   "execution_count": 20,
   "id": "3e09b9f6",
   "metadata": {},
   "outputs": [
    {
     "data": {
      "text/plain": [
       "('image1.jpg', <email.message.Message at 0x24c927473a0>)"
      ]
     },
     "execution_count": 20,
     "metadata": {},
     "output_type": "execute_result"
    }
   ],
   "source": [
    "# 이미지 가져오기\n",
    "from selenium import webdriver\n",
    "from selenium.webdriver.common.keys import Keys\n",
    "from selenium.webdriver.common.by import By\n",
    "import time\n",
    "\n",
    "driver = webdriver.Chrome()\n",
    "driver.get(\"https://www.google.co.kr/imghp?hl=ko&tab=ri&ogbl\")\n",
    "\n",
    "#driver.refresh()  # 새로고침 in selenium\n",
    "\n",
    "elem = driver.find_element(By.NAME, \"q\")\n",
    "elem.clear()\n",
    "elem.send_keys(\"pycon\")\n",
    "elem.send_keys(Keys.RETURN)  # Typing the Enter key in selenium\n",
    "\n",
    "# CSS_selector에 따른 element 찾기\n",
    "driver.find_element(By.CSS_SELECTOR, \".rg_i.Q4LuWd\").click()  # 시작점 & 빈공백 '.'으로 변경\n",
    "img_url=driver.find_element(By.CSS_SELECTOR,'.n3VNCb').get_attribute('src')\n",
    "\n",
    "import urllib.request\n",
    "urllib.request.urlretrieve(img_url,\"image1.jpg\")"
   ]
  },
  {
   "cell_type": "code",
   "execution_count": 30,
   "id": "83386d4c",
   "metadata": {},
   "outputs": [],
   "source": [
    "from selenium import webdriver\n",
    "from selenium.webdriver.common.keys import Keys\n",
    "from selenium.webdriver.common.by import By\n",
    "import urllib.request\n",
    "import time\n",
    "\n",
    "driver = webdriver.Chrome()\n",
    "driver.get(\"https://www.google.co.kr/imghp?hl=ko&tab=ri&ogbl\")\n",
    "\n",
    "#driver.refresh()  # 새로고침 in selenium\n",
    "\n",
    "elem = driver.find_element(By.NAME, \"q\")\n",
    "elem.clear()\n",
    "elem.send_keys(\"enhypen\")\n",
    "elem.send_keys(Keys.RETURN)  # Typing the Enter key in selenium\n",
    "\n",
    "images=driver.find_elements(By.CSS_SELECTOR, \".rg_i.Q4LuWd\")\n",
    "# len(images)=50\n",
    "\n",
    "## JavaScript와 Python을 복합한 코드\n",
    "SCROLL_PAUSE_TIME = 2.3\n",
    "\n",
    "# Get scroll height\n",
    "last_height = driver.execute_script(\"return document.body.scrollHeight\")\n",
    "\n",
    "while True:\n",
    "    # Scroll down to bottom\n",
    "    driver.execute_script(\"window.scrollTo(0, document.body.scrollHeight);\")\n",
    "\n",
    "    # Wait to load page\n",
    "    time.sleep(SCROLL_PAUSE_TIME)\n",
    "\n",
    "    # Calculate new scroll height and compare with last scroll height\n",
    "    new_height = driver.execute_script(\"return document.body.scrollHeight\")\n",
    "    if new_height == last_height:\n",
    "        # 예외 처리\n",
    "        try:\n",
    "            driver.find_element(By.CSS_SELECTOR,'.mye4qd').click()\n",
    "        except:\n",
    "            break\n",
    "    last_height = new_height \n",
    "\n",
    "# 원하는 폴더에 자동으로 그림 저장하기\n",
    "cnt=1\n",
    "for img in images:\n",
    "    try:\n",
    "        time.sleep(2.3)\n",
    "        img.click()\n",
    "        # image 주소 가져오기\n",
    "        img_url=driver.find_element(By.CSS_SELECTOR,'.n3VNCb').get_attribute('src')\n",
    "        urllib.request.urlretrieve(img_url,\"./test_image/test{0}.jpg\".format(cnt))\n",
    "        cnt += 1\n",
    "    except:\n",
    "        pass"
   ]
  },
  {
   "cell_type": "code",
   "execution_count": 32,
   "id": "8575204d",
   "metadata": {},
   "outputs": [
    {
     "data": {
      "text/plain": [
       "48"
      ]
     },
     "execution_count": 32,
     "metadata": {},
     "output_type": "execute_result"
    }
   ],
   "source": [
    "len(images)"
   ]
  },
  {
   "cell_type": "code",
   "execution_count": null,
   "id": "62cea988",
   "metadata": {},
   "outputs": [],
   "source": []
  },
  {
   "cell_type": "code",
   "execution_count": null,
   "id": "df2ede6f",
   "metadata": {},
   "outputs": [],
   "source": []
  }
 ],
 "metadata": {
  "kernelspec": {
   "display_name": "Python 3 (ipykernel)",
   "language": "python",
   "name": "python3"
  },
  "language_info": {
   "codemirror_mode": {
    "name": "ipython",
    "version": 3
   },
   "file_extension": ".py",
   "mimetype": "text/x-python",
   "name": "python",
   "nbconvert_exporter": "python",
   "pygments_lexer": "ipython3",
   "version": "3.9.12"
  }
 },
 "nbformat": 4,
 "nbformat_minor": 5
}
