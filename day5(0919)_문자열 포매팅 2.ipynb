{
 "cells": [
  {
   "cell_type": "markdown",
   "id": "76ba1a93",
   "metadata": {},
   "source": [
    "## 문자열 관련 함수"
   ]
  },
  {
   "cell_type": "markdown",
   "id": "d685cb3b",
   "metadata": {},
   "source": [
    "### 문자열 바꾸기(replace)"
   ]
  },
  {
   "cell_type": "code",
   "execution_count": 3,
   "id": "6aea2c8a",
   "metadata": {},
   "outputs": [
    {
     "data": {
      "text/plain": [
       "'Your height is too short'"
      ]
     },
     "execution_count": 3,
     "metadata": {},
     "output_type": "execute_result"
    }
   ],
   "source": [
    "a=\"Life is too short\"\n",
    "a.replace('Life','Your height')"
   ]
  },
  {
   "cell_type": "markdown",
   "id": "e72d7ad3",
   "metadata": {},
   "source": [
    "### 문자열 삽입(join)"
   ]
  },
  {
   "cell_type": "code",
   "execution_count": 4,
   "id": "2af1f729",
   "metadata": {},
   "outputs": [
    {
     "data": {
      "text/plain": [
       "'a#b#c#d'"
      ]
     },
     "execution_count": 4,
     "metadata": {},
     "output_type": "execute_result"
    }
   ],
   "source": [
    "'#'.join('abcd')"
   ]
  },
  {
   "cell_type": "code",
   "execution_count": 5,
   "id": "4beaa209",
   "metadata": {},
   "outputs": [
    {
     "data": {
      "text/plain": [
       "'a b c d'"
      ]
     },
     "execution_count": 5,
     "metadata": {},
     "output_type": "execute_result"
    }
   ],
   "source": [
    "' '.join('abcd')"
   ]
  },
  {
   "cell_type": "markdown",
   "id": "44e7034e",
   "metadata": {},
   "source": [
    "### 문자열 나누기(split)"
   ]
  },
  {
   "cell_type": "code",
   "execution_count": 6,
   "id": "514a72e2",
   "metadata": {},
   "outputs": [
    {
     "data": {
      "text/plain": [
       "['Life', 'is', 'too', 'short']"
      ]
     },
     "execution_count": 6,
     "metadata": {},
     "output_type": "execute_result"
    }
   ],
   "source": [
    "a=\"Life is too short\"\n",
    "a.split()"
   ]
  },
  {
   "cell_type": "code",
   "execution_count": 7,
   "id": "fcb75bcb",
   "metadata": {},
   "outputs": [
    {
     "data": {
      "text/plain": [
       "['a', 'b', 'c', 'd']"
      ]
     },
     "execution_count": 7,
     "metadata": {},
     "output_type": "execute_result"
    }
   ],
   "source": [
    "b='a#b#c#d'\n",
    "b.split('#')"
   ]
  },
  {
   "cell_type": "markdown",
   "id": "b40fca14",
   "metadata": {},
   "source": [
    "### 소문자 대문자 간 변환"
   ]
  },
  {
   "cell_type": "code",
   "execution_count": 9,
   "id": "cef27d08",
   "metadata": {},
   "outputs": [],
   "source": [
    "# upper 소문자 -> 대문자\n",
    "a='ai'\n",
    "b=a.upper()"
   ]
  },
  {
   "cell_type": "code",
   "execution_count": 10,
   "id": "b20e3a00",
   "metadata": {},
   "outputs": [
    {
     "name": "stdout",
     "output_type": "stream",
     "text": [
      "AI ai\n"
     ]
    }
   ],
   "source": [
    "# lower 대문자 -> 소문자\n",
    "c=b.lower()\n",
    "\n",
    "print(b,c)"
   ]
  },
  {
   "cell_type": "markdown",
   "id": "39c1b8cf",
   "metadata": {},
   "source": [
    "#### 위치를 찾아주는 함수 (find, index)"
   ]
  },
  {
   "cell_type": "code",
   "execution_count": 11,
   "id": "4b7f8c02",
   "metadata": {},
   "outputs": [
    {
     "data": {
      "text/plain": [
       "14"
      ]
     },
     "execution_count": 11,
     "metadata": {},
     "output_type": "execute_result"
    }
   ],
   "source": [
    "# find -1\n",
    "test=\"Python is the best\"\n",
    "test.find('b')  # 문자열 중 맨 처음 'b' 가 나온 위치를 반환"
   ]
  },
  {
   "cell_type": "code",
   "execution_count": 13,
   "id": "af5feab1",
   "metadata": {},
   "outputs": [
    {
     "data": {
      "text/plain": [
       "-1"
      ]
     },
     "execution_count": 13,
     "metadata": {},
     "output_type": "execute_result"
    }
   ],
   "source": [
    "test.find('k')  # 대응하는 값이 없다면 -1 호출"
   ]
  },
  {
   "cell_type": "code",
   "execution_count": 15,
   "id": "b0f5f246",
   "metadata": {},
   "outputs": [
    {
     "data": {
      "text/plain": [
       "14"
      ]
     },
     "execution_count": 15,
     "metadata": {},
     "output_type": "execute_result"
    }
   ],
   "source": [
    "# index -2\n",
    "test1=\"Python is the best\"\n",
    "test1.index('b')"
   ]
  },
  {
   "cell_type": "code",
   "execution_count": 17,
   "id": "ed5f6b4d",
   "metadata": {},
   "outputs": [
    {
     "ename": "ValueError",
     "evalue": "substring not found",
     "output_type": "error",
     "traceback": [
      "\u001b[1;31m---------------------------------------------------------------------------\u001b[0m",
      "\u001b[1;31mValueError\u001b[0m                                Traceback (most recent call last)",
      "Input \u001b[1;32mIn [17]\u001b[0m, in \u001b[0;36m<cell line: 2>\u001b[1;34m()\u001b[0m\n\u001b[0;32m      1\u001b[0m test1\u001b[38;5;241m=\u001b[39m\u001b[38;5;124m\"\u001b[39m\u001b[38;5;124mPython is the best\u001b[39m\u001b[38;5;124m\"\u001b[39m\n\u001b[1;32m----> 2\u001b[0m \u001b[43mtest1\u001b[49m\u001b[38;5;241;43m.\u001b[39;49m\u001b[43mindex\u001b[49m\u001b[43m(\u001b[49m\u001b[38;5;124;43m'\u001b[39;49m\u001b[38;5;124;43mk\u001b[39;49m\u001b[38;5;124;43m'\u001b[39;49m\u001b[43m)\u001b[49m\n",
      "\u001b[1;31mValueError\u001b[0m: substring not found"
     ]
    }
   ],
   "source": [
    "test1=\"Python is the best\"\n",
    "test1.index('k')  # index 함수는 찾는 값이 없으면 에러 반환"
   ]
  },
  {
   "cell_type": "markdown",
   "id": "e1b0b49e",
   "metadata": {},
   "source": [
    "#### 문자 개수 세기(count)"
   ]
  },
  {
   "cell_type": "code",
   "execution_count": 19,
   "id": "b4d51766",
   "metadata": {},
   "outputs": [
    {
     "data": {
      "text/plain": [
       "2"
      ]
     },
     "execution_count": 19,
     "metadata": {},
     "output_type": "execute_result"
    }
   ],
   "source": [
    "a='hobby'\n",
    "a.count('b')"
   ]
  },
  {
   "cell_type": "markdown",
   "id": "acc7a9bd",
   "metadata": {},
   "source": [
    "#### strip 계열 함수 - 공백 지우기"
   ]
  },
  {
   "cell_type": "code",
   "execution_count": 20,
   "id": "202ae141",
   "metadata": {},
   "outputs": [
    {
     "data": {
      "text/plain": [
       "'hi    '"
      ]
     },
     "execution_count": 20,
     "metadata": {},
     "output_type": "execute_result"
    }
   ],
   "source": [
    "x=\"    hi    \"\n",
    "x.lstrip()"
   ]
  },
  {
   "cell_type": "code",
   "execution_count": 21,
   "id": "68a4304f",
   "metadata": {},
   "outputs": [
    {
     "data": {
      "text/plain": [
       "'    hi'"
      ]
     },
     "execution_count": 21,
     "metadata": {},
     "output_type": "execute_result"
    }
   ],
   "source": [
    "x.rstrip()"
   ]
  },
  {
   "cell_type": "code",
   "execution_count": 22,
   "id": "3bc03d2a",
   "metadata": {},
   "outputs": [
    {
     "data": {
      "text/plain": [
       "'hi'"
      ]
     },
     "execution_count": 22,
     "metadata": {},
     "output_type": "execute_result"
    }
   ],
   "source": [
    "x.strip()"
   ]
  },
  {
   "cell_type": "code",
   "execution_count": null,
   "id": "5e7e7558",
   "metadata": {},
   "outputs": [],
   "source": []
  }
 ],
 "metadata": {
  "kernelspec": {
   "display_name": "Python 3 (ipykernel)",
   "language": "python",
   "name": "python3"
  },
  "language_info": {
   "codemirror_mode": {
    "name": "ipython",
    "version": 3
   },
   "file_extension": ".py",
   "mimetype": "text/x-python",
   "name": "python",
   "nbconvert_exporter": "python",
   "pygments_lexer": "ipython3",
   "version": "3.9.12"
  }
 },
 "nbformat": 4,
 "nbformat_minor": 5
}
