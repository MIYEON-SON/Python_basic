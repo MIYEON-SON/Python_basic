{
 "cells": [
  {
   "cell_type": "markdown",
   "id": "556c3097",
   "metadata": {},
   "source": [
    "## web_scrapping"
   ]
  },
  {
   "cell_type": "markdown",
   "id": "5f6b9e8a",
   "metadata": {},
   "source": [
    "### 웹 브라우저로 웹 사이트 접속하기"
   ]
  },
  {
   "cell_type": "code",
   "execution_count": 2,
   "id": "7cced225",
   "metadata": {},
   "outputs": [
    {
     "data": {
      "text/plain": [
       "True"
      ]
     },
     "execution_count": 2,
     "metadata": {},
     "output_type": "execute_result"
    }
   ],
   "source": [
    "import webbrowser\n",
    "\n",
    "url='www.naver.com'\n",
    "webbrowser.open(url)"
   ]
  },
  {
   "cell_type": "code",
   "execution_count": 5,
   "id": "dc6aed67",
   "metadata": {},
   "outputs": [
    {
     "name": "stdout",
     "output_type": "stream",
     "text": [
      "enhypen\n"
     ]
    },
    {
     "data": {
      "text/plain": [
       "True"
      ]
     },
     "execution_count": 5,
     "metadata": {},
     "output_type": "execute_result"
    }
   ],
   "source": [
    "# Naver\n",
    "naver_search_url='https://search.naver.com/search.naver?query='\n",
    "search_word=input()\n",
    "url=naver_search_url+search_word\n",
    "webbrowser.open_new_tab(url)"
   ]
  },
  {
   "cell_type": "code",
   "execution_count": 7,
   "id": "581b2f93",
   "metadata": {
    "scrolled": true
   },
   "outputs": [
    {
     "name": "stdout",
     "output_type": "stream",
     "text": [
      "enhypen concert\n"
     ]
    },
    {
     "data": {
      "text/plain": [
       "True"
      ]
     },
     "execution_count": 7,
     "metadata": {},
     "output_type": "execute_result"
    }
   ],
   "source": [
    "# Google\n",
    "google_search_url='https://www.google.com/search?q='\n",
    "search_word=input()\n",
    "url=google_search_url+search_word\n",
    "webbrowser.open_new_tab(url)"
   ]
  },
  {
   "cell_type": "markdown",
   "id": "fdb3f18a",
   "metadata": {},
   "source": [
    "### 여러 개의 웹사이트에 접속하기"
   ]
  },
  {
   "cell_type": "code",
   "execution_count": 10,
   "id": "ccede7d0",
   "metadata": {},
   "outputs": [],
   "source": [
    "urls=['www.naver.com','www.google.com','www.daum.net']\n",
    "for url in urls:\n",
    "    webbrowser.open_new(url)"
   ]
  },
  {
   "cell_type": "markdown",
   "id": "d45fbe8d",
   "metadata": {},
   "source": [
    "### HTML의 구조"
   ]
  },
  {
   "cell_type": "code",
   "execution_count": 11,
   "id": "61f128cf",
   "metadata": {},
   "outputs": [
    {
     "name": "stdout",
     "output_type": "stream",
     "text": [
      "Writing C:\\Users\\ASIA-16\\HTML_example.html\n"
     ]
    }
   ],
   "source": [
    "%%writefile C:\\Users\\ASIA-16\\HTML_example.html \n",
    "<!doctype html>\n",
    "<html>\n",
    " <head>\n",
    "  <meta charset=\"utf-8\">\n",
    "  <title>이것은 HTML 예제</title>\n",
    " </head>\n",
    " <body>\n",
    "  <h1>출간된 책 정보</h1>\n",
    "  <p id=\"book_title\">이해가 쏙쏙 되는 파이썬</p>\n",
    "  <p id=\"author\">홍길동</p>\n",
    "  <p id=\"publisher\">위키북스 출판사</p>\n",
    "  <p id=\"year\">2018</p>\n",
    " </body>\n",
    "</html>"
   ]
  },
  {
   "cell_type": "markdown",
   "id": "271921d6",
   "metadata": {},
   "source": [
    "### 웹 페이지의 HTML 소스코드 가져 오기"
   ]
  },
  {
   "cell_type": "code",
   "execution_count": 12,
   "id": "441d795d",
   "metadata": {},
   "outputs": [
    {
     "data": {
      "text/plain": [
       "<Response [200]>"
      ]
     },
     "execution_count": 12,
     "metadata": {},
     "output_type": "execute_result"
    }
   ],
   "source": [
    "import requests\n",
    "r=requests.get('https://www.google.co.kr')\n",
    "r"
   ]
  },
  {
   "cell_type": "code",
   "execution_count": 14,
   "id": "5cf3e7fa",
   "metadata": {},
   "outputs": [
    {
     "data": {
      "text/plain": [
       "'<!doctype html><html itemscope=\"\" itemtype=\"http://schema.org/WebPage\" lang=\"ko\"><head><meta content'"
      ]
     },
     "execution_count": 14,
     "metadata": {},
     "output_type": "execute_result"
    }
   ],
   "source": [
    "# text를 뽑아 보자.\n",
    "r.text[:100]"
   ]
  },
  {
   "cell_type": "code",
   "execution_count": 16,
   "id": "ebb496cd",
   "metadata": {},
   "outputs": [
    {
     "name": "stdout",
     "output_type": "stream",
     "text": [
      "<html>\n",
      " <body>\n",
      "  <div>\n",
      "   <span>\n",
      "    <a href=\"http://www.naver.com\">\n",
      "     naver\n",
      "    </a>\n",
      "    <a href=\"https://www.google.com\">\n",
      "     google\n",
      "    </a>\n",
      "    <a href=\"http://www.daum.net/\">\n",
      "     daum\n",
      "    </a>\n",
      "   </span>\n",
      "  </div>\n",
      " </body>\n",
      "</html>\n"
     ]
    }
   ],
   "source": [
    "#parsing :: HTML 코드를 우리가 알아볼 수 있도록 해석해주는 것\n",
    "\n",
    "from bs4 import BeautifulSoup\n",
    "\n",
    "# 테스트용 html 코드\n",
    "html = \"\"\"<html><body><div><span>\\\n",
    "        <a href=http://www.naver.com>naver</a>\\\n",
    "        <a href=https://www.google.com>google</a>\\\n",
    "        <a href=http://www.daum.net/>daum</a>\\\n",
    "        </span></div></body></html>\"\"\" \n",
    "\n",
    "# BeautifulSoup를 이용해 HTML 소스를 파싱\n",
    "soup = BeautifulSoup(html, 'lxml') \n",
    "soup\n",
    "\n",
    "print(soup.prettify())"
   ]
  },
  {
   "cell_type": "code",
   "execution_count": null,
   "id": "35a65f71",
   "metadata": {},
   "outputs": [],
   "source": [
    "%%writefile C:\\Users\\ASIA-16\\site_example.html \n",
    "<html><body><div><span>\\\n",
    "<a href=http://www.naver.com>naver</a>\\\n",
    "<a href=https://www.google.com>google</a>\\\n",
    "<a href=http://www.daum.net/>daum</a>\\\n",
    "</span></div></body></html>"
   ]
  },
  {
   "cell_type": "code",
   "execution_count": 18,
   "id": "d587bf8b",
   "metadata": {},
   "outputs": [
    {
     "data": {
      "text/plain": [
       "[<a href=\"http://www.naver.com\">naver</a>,\n",
       " <a href=\"https://www.google.com\">google</a>,\n",
       " <a href=\"http://www.daum.net/\">daum</a>]"
      ]
     },
     "execution_count": 18,
     "metadata": {},
     "output_type": "execute_result"
    }
   ],
   "source": [
    "# a 태그의 요소들만 찾아봅시다.\n",
    "soup.find('a')  # 첫 요소만 가져올 때\n",
    "soup.find_all('a')  # 여러 개를 가져올 때"
   ]
  },
  {
   "cell_type": "code",
   "execution_count": 22,
   "id": "184db25e",
   "metadata": {
    "scrolled": true
   },
   "outputs": [
    {
     "name": "stdout",
     "output_type": "stream",
     "text": [
      "naver\n",
      "google\n",
      "daum\n"
     ]
    }
   ],
   "source": [
    "# naver, daum, google의 text 추출\n",
    " #soup.find_all('a').get_text()  -> Error\n",
    "\n",
    "site_names=soup.find_all('a')\n",
    "\n",
    "for st_name in site_names:\n",
    "    print(st_name.get_text())"
   ]
  },
  {
   "cell_type": "code",
   "execution_count": 23,
   "id": "2bcf701b",
   "metadata": {},
   "outputs": [],
   "source": [
    "html2 = \"\"\"\n",
    "<html>\n",
    " <head>\n",
    "  <title>작품과 작가 모음</title>\n",
    " </head>\n",
    " <body>\n",
    "  <h1>책 정보</h1>\n",
    "  <p id=\"book_title\">토지</p>\n",
    "  <p id=\"author\">박경리</p>\n",
    "  \n",
    "  <p id=\"book_title\">태백산맥</p>\n",
    "  <p id=\"author\">조정래</p>\n",
    "\n",
    "  <p id=\"book_title\">감옥으로부터의 사색</p>\n",
    "  <p id=\"author\">신영복</p>\n",
    " </body>\n",
    "</html>\n",
    "\"\"\""
   ]
  },
  {
   "cell_type": "code",
   "execution_count": 41,
   "id": "3e27f3f4",
   "metadata": {},
   "outputs": [
    {
     "name": "stdout",
     "output_type": "stream",
     "text": [
      "<html>\n",
      "<head>\n",
      "<title>작품과 작가 모음</title>\n",
      "</head>\n",
      "<body>\n",
      "<h1>책 정보</h1>\n",
      "<p id=\"book_title\">토지</p>\n",
      "<p id=\"author\">박경리</p>\n",
      "<p id=\"book_title\">태백산맥</p>\n",
      "<p id=\"author\">조정래</p>\n",
      "<p id=\"book_title\">감옥으로부터의 사색</p>\n",
      "<p id=\"author\">신영복</p>\n",
      "</body>\n",
      "</html>\n",
      "\n"
     ]
    },
    {
     "data": {
      "text/plain": [
       "[<p id=\"book_title\">토지</p>,\n",
       " <p id=\"author\">박경리</p>,\n",
       " <p id=\"book_title\">태백산맥</p>,\n",
       " <p id=\"author\">조정래</p>,\n",
       " <p id=\"book_title\">감옥으로부터의 사색</p>,\n",
       " <p id=\"author\">신영복</p>]"
      ]
     },
     "execution_count": 41,
     "metadata": {},
     "output_type": "execute_result"
    }
   ],
   "source": [
    "from bs4 import BeautifulSoup\n",
    "soup2=BeautifulSoup(html2,'lxml')\n",
    "print(soup2)\n",
    "soup2.find_all('p')"
   ]
  },
  {
   "cell_type": "code",
   "execution_count": 39,
   "id": "0c881c9a",
   "metadata": {},
   "outputs": [
    {
     "data": {
      "text/plain": [
       "<head>\n",
       "<title>작품과 작가 모음</title>\n",
       "</head>"
      ]
     },
     "execution_count": 39,
     "metadata": {},
     "output_type": "execute_result"
    }
   ],
   "source": [
    "soup2.head"
   ]
  },
  {
   "cell_type": "code",
   "execution_count": 40,
   "id": "d04d404a",
   "metadata": {},
   "outputs": [
    {
     "data": {
      "text/plain": [
       "<body>\n",
       "<h1>책 정보</h1>\n",
       "<p id=\"book_title\">토지</p>\n",
       "<p id=\"author\">박경리</p>\n",
       "<p id=\"book_title\">태백산맥</p>\n",
       "<p id=\"author\">조정래</p>\n",
       "<p id=\"book_title\">감옥으로부터의 사색</p>\n",
       "<p id=\"author\">신영복</p>\n",
       "</body>"
      ]
     },
     "execution_count": 40,
     "metadata": {},
     "output_type": "execute_result"
    }
   ],
   "source": [
    "soup2.body"
   ]
  },
  {
   "cell_type": "code",
   "execution_count": 42,
   "id": "e34af325",
   "metadata": {},
   "outputs": [
    {
     "data": {
      "text/plain": [
       "<h1>책 정보</h1>"
      ]
     },
     "execution_count": 42,
     "metadata": {},
     "output_type": "execute_result"
    }
   ],
   "source": [
    "soup2.body.h1"
   ]
  },
  {
   "cell_type": "code",
   "execution_count": 43,
   "id": "1c4f2019",
   "metadata": {},
   "outputs": [
    {
     "data": {
      "text/plain": [
       "<p id=\"book_title\">토지</p>"
      ]
     },
     "execution_count": 43,
     "metadata": {},
     "output_type": "execute_result"
    }
   ],
   "source": [
    "# p 코드 1개만 가져오고 싶다.\n",
    "# soup2=BeautifulSoup(html2,'lxml')-> html 코드를 parsing한 결과\n",
    "soup2.find('p')"
   ]
  },
  {
   "cell_type": "code",
   "execution_count": 44,
   "id": "2e997159",
   "metadata": {},
   "outputs": [
    {
     "data": {
      "text/plain": [
       "[<p id=\"author\">박경리</p>, <p id=\"author\">조정래</p>, <p id=\"author\">신영복</p>]"
      ]
     },
     "execution_count": 44,
     "metadata": {},
     "output_type": "execute_result"
    }
   ],
   "source": [
    "# p 태그에 해당하는 내용을 전체 추출 후 book_title 가져오기\n",
    "soup2.find_all('p',{'id':'author'})"
   ]
  },
  {
   "cell_type": "code",
   "execution_count": 46,
   "id": "216eada1",
   "metadata": {},
   "outputs": [
    {
     "name": "stdout",
     "output_type": "stream",
     "text": [
      "토지::박경리\n",
      "태백산맥::조정래\n",
      "감옥으로부터의 사색::신영복\n"
     ]
    }
   ],
   "source": [
    "book_titles=soup2.find_all('p',{'id':'book_title'})\n",
    "authors=soup2.find_all('p',{'id':'author'})\n",
    "\n",
    "for book, author in zip(book_titles, authors):\n",
    "    print(book.get_text()+'::'+author.get_text())"
   ]
  },
  {
   "cell_type": "code",
   "execution_count": 47,
   "id": "2fb510e0",
   "metadata": {},
   "outputs": [
    {
     "name": "stdout",
     "output_type": "stream",
     "text": [
      "Writing C:\\Users\\ASIA-16\\HTML_example_my_site.html\n"
     ]
    }
   ],
   "source": [
    "%%writefile C:\\Users\\ASIA-16\\HTML_example_my_site.html  \n",
    "<!doctype html>\n",
    "<html>\n",
    "  <head>\n",
    "    <meta charset=\"utf-8\">\n",
    "    <title>사이트 모음</title>\n",
    "  </head>\n",
    "  <body>\n",
    "    <p id=\"title\"><b>자주 가는 사이트 모음</b></p>\n",
    "    <p id=\"contents\">이곳은 자주 가는 사이트를 모아둔 곳입니다.</p>\n",
    "    <a href=\"http://www.naver.com\" class=\"portal\" id=\"naver\">네이버</a> <br>\n",
    "    <a href=\"https://www.google.com\" class=\"search\" id=\"google\">구글</a> <br>\n",
    "    <a href=\"http://www.daum.net\" class=\"portal\" id=\"daum\">다음</a> <br>\n",
    "    <a href=\"http://www.nl.go.kr\" class=\"government\" id=\"nl\">국립중앙도서관</a>\n",
    "  </body>\n",
    "</html>"
   ]
  },
  {
   "cell_type": "code",
   "execution_count": 50,
   "id": "bcb5356b",
   "metadata": {},
   "outputs": [
    {
     "data": {
      "text/plain": [
       "<!DOCTYPE html>\n",
       "<html>\n",
       "<head>\n",
       "<meta charset=\"utf-8\"/>\n",
       "<title>사이트 모음</title>\n",
       "</head>\n",
       "<body>\n",
       "<p id=\"title\"><b>자주 가는 사이트 모음</b></p>\n",
       "<p id=\"contents\">이곳은 자주 가는 사이트를 모아둔 곳입니다.</p>\n",
       "<a class=\"portal\" href=\"http://www.naver.com\" id=\"naver\">네이버</a> <br/>\n",
       "<a class=\"search\" href=\"https://www.google.com\" id=\"google\">구글</a> <br/>\n",
       "<a class=\"portal\" href=\"http://www.daum.net\" id=\"daum\">다음</a> <br/>\n",
       "<a class=\"government\" href=\"http://www.nl.go.kr\" id=\"nl\">국립중앙도서관</a>\n",
       "</body>\n",
       "</html>"
      ]
     },
     "execution_count": 50,
     "metadata": {},
     "output_type": "execute_result"
    }
   ],
   "source": [
    "f=open('C:/Users/ASIA-16/HTML_example_my_site.html', encoding='utf-8')\n",
    "html3 = f.read()\n",
    "f.close()\n",
    "\n",
    "from bs4 import BeautifulSoup\n",
    "\n",
    "soup3 = BeautifulSoup(html3, 'lxml')\n",
    "soup3"
   ]
  },
  {
   "cell_type": "code",
   "execution_count": 51,
   "id": "ad805aba",
   "metadata": {},
   "outputs": [
    {
     "data": {
      "text/plain": [
       "[<a class=\"portal\" href=\"http://www.naver.com\" id=\"naver\">네이버</a>,\n",
       " <a class=\"portal\" href=\"http://www.daum.net\" id=\"daum\">다음</a>]"
      ]
     },
     "execution_count": 51,
     "metadata": {},
     "output_type": "execute_result"
    }
   ],
   "source": [
    "soup3.select('a.portal')"
   ]
  },
  {
   "cell_type": "code",
   "execution_count": 52,
   "id": "e8e6cb69",
   "metadata": {},
   "outputs": [
    {
     "data": {
      "text/plain": [
       "[<a class=\"government\" href=\"http://www.nl.go.kr\" id=\"nl\">국립중앙도서관</a>]"
      ]
     },
     "execution_count": 52,
     "metadata": {},
     "output_type": "execute_result"
    }
   ],
   "source": [
    "soup3.select('a#nl')"
   ]
  },
  {
   "cell_type": "code",
   "execution_count": null,
   "id": "6e4fabf4",
   "metadata": {},
   "outputs": [],
   "source": []
  }
 ],
 "metadata": {
  "kernelspec": {
   "display_name": "Python 3 (ipykernel)",
   "language": "python",
   "name": "python3"
  },
  "language_info": {
   "codemirror_mode": {
    "name": "ipython",
    "version": 3
   },
   "file_extension": ".py",
   "mimetype": "text/x-python",
   "name": "python",
   "nbconvert_exporter": "python",
   "pygments_lexer": "ipython3",
   "version": "3.9.12"
  }
 },
 "nbformat": 4,
 "nbformat_minor": 5
}
