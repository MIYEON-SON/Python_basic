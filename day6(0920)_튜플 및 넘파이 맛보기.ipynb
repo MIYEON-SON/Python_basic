{
 "cells": [
  {
   "cell_type": "markdown",
   "id": "5f1f44b1",
   "metadata": {},
   "source": [
    "## 튜플의 생성"
   ]
  },
  {
   "cell_type": "code",
   "execution_count": 1,
   "id": "bc828bdc",
   "metadata": {},
   "outputs": [],
   "source": [
    "t1=()\n",
    "t2=(2,)\n",
    "t3=(1,2,3)\n",
    "t4=1,2,3\n",
    "t5=('1','2','3',('4','5'))"
   ]
  },
  {
   "cell_type": "markdown",
   "id": "58ec6a36",
   "metadata": {},
   "source": [
    "### 튜플의 특징"
   ]
  },
  {
   "cell_type": "code",
   "execution_count": 3,
   "id": "5f65609e",
   "metadata": {},
   "outputs": [
    {
     "data": {
      "text/plain": [
       "[1, 'a', 'b']"
      ]
     },
     "execution_count": 3,
     "metadata": {},
     "output_type": "execute_result"
    }
   ],
   "source": [
    "# list의 특징\n",
    "l1=[1,2,'a','b']\n",
    "del l1[1]\n",
    "l1"
   ]
  },
  {
   "cell_type": "code",
   "execution_count": 4,
   "id": "e59bfb1e",
   "metadata": {},
   "outputs": [
    {
     "ename": "TypeError",
     "evalue": "'tuple' object doesn't support item deletion",
     "output_type": "error",
     "traceback": [
      "\u001b[1;31m---------------------------------------------------------------------------\u001b[0m",
      "\u001b[1;31mTypeError\u001b[0m                                 Traceback (most recent call last)",
      "Input \u001b[1;32mIn [4]\u001b[0m, in \u001b[0;36m<cell line: 3>\u001b[1;34m()\u001b[0m\n\u001b[0;32m      1\u001b[0m \u001b[38;5;66;03m# tuple 의 특징\u001b[39;00m\n\u001b[0;32m      2\u001b[0m t1\u001b[38;5;241m=\u001b[39m(\u001b[38;5;241m1\u001b[39m,\u001b[38;5;241m2\u001b[39m,\u001b[38;5;124m'\u001b[39m\u001b[38;5;124ma\u001b[39m\u001b[38;5;124m'\u001b[39m,\u001b[38;5;124m'\u001b[39m\u001b[38;5;124mb\u001b[39m\u001b[38;5;124m'\u001b[39m)\n\u001b[1;32m----> 3\u001b[0m \u001b[38;5;28;01mdel\u001b[39;00m t1[\u001b[38;5;241m1\u001b[39m]\n\u001b[0;32m      4\u001b[0m t1\n",
      "\u001b[1;31mTypeError\u001b[0m: 'tuple' object doesn't support item deletion"
     ]
    }
   ],
   "source": [
    "# tuple 의 특징1 - 삭제 불가\n",
    "t1=(1,2,'a','b')\n",
    "del t1[1]\n",
    "t1"
   ]
  },
  {
   "cell_type": "code",
   "execution_count": 5,
   "id": "81247aba",
   "metadata": {},
   "outputs": [
    {
     "ename": "TypeError",
     "evalue": "'tuple' object does not support item assignment",
     "output_type": "error",
     "traceback": [
      "\u001b[1;31m---------------------------------------------------------------------------\u001b[0m",
      "\u001b[1;31mTypeError\u001b[0m                                 Traceback (most recent call last)",
      "Input \u001b[1;32mIn [5]\u001b[0m, in \u001b[0;36m<cell line: 3>\u001b[1;34m()\u001b[0m\n\u001b[0;32m      1\u001b[0m \u001b[38;5;66;03m# tuple 의 특징2 - 값 변경 불가\u001b[39;00m\n\u001b[0;32m      2\u001b[0m t1\u001b[38;5;241m=\u001b[39m(\u001b[38;5;241m1\u001b[39m,\u001b[38;5;241m2\u001b[39m,\u001b[38;5;124m'\u001b[39m\u001b[38;5;124ma\u001b[39m\u001b[38;5;124m'\u001b[39m,\u001b[38;5;124m'\u001b[39m\u001b[38;5;124mb\u001b[39m\u001b[38;5;124m'\u001b[39m)\n\u001b[1;32m----> 3\u001b[0m t1[\u001b[38;5;241m1\u001b[39m]\u001b[38;5;241m=\u001b[39m\u001b[38;5;241m100\u001b[39m\n",
      "\u001b[1;31mTypeError\u001b[0m: 'tuple' object does not support item assignment"
     ]
    }
   ],
   "source": [
    "# tuple 의 특징2 - 값 변경 불가\n",
    "t1=(1,2,'a','b')\n",
    "t1[1]=100"
   ]
  },
  {
   "cell_type": "code",
   "execution_count": 7,
   "id": "05104be1",
   "metadata": {},
   "outputs": [
    {
     "data": {
      "text/plain": [
       "(1, 2, 3)"
      ]
     },
     "execution_count": 7,
     "metadata": {},
     "output_type": "execute_result"
    }
   ],
   "source": [
    "# tuple 의 특징3 \n",
    "1,2,3"
   ]
  },
  {
   "cell_type": "code",
   "execution_count": 10,
   "id": "60aa499f",
   "metadata": {},
   "outputs": [
    {
     "data": {
      "text/plain": [
       "(4,)"
      ]
     },
     "execution_count": 10,
     "metadata": {},
     "output_type": "execute_result"
    }
   ],
   "source": [
    "# tuple 의 특징4 - 콤마가 앞에 올 수 없음\n",
    "# tuple 의 특징5 - 콤마를 뒤에 붙이면 자동 튜플로 인식됨\n",
    "4,"
   ]
  },
  {
   "cell_type": "markdown",
   "id": "438e3c65",
   "metadata": {},
   "source": [
    "## 튜플의 연산"
   ]
  },
  {
   "cell_type": "code",
   "execution_count": 11,
   "id": "e902a73f",
   "metadata": {},
   "outputs": [
    {
     "data": {
      "text/plain": [
       "(1, 2, 3, 'a', 'b')"
      ]
     },
     "execution_count": 11,
     "metadata": {},
     "output_type": "execute_result"
    }
   ],
   "source": [
    "#tuple 덧셈\n",
    "t1=(1,2,3)\n",
    "t2=('a','b')\n",
    "t1+t2"
   ]
  },
  {
   "cell_type": "code",
   "execution_count": 12,
   "id": "88cf0826",
   "metadata": {},
   "outputs": [
    {
     "data": {
      "text/plain": [
       "(1, 2, 3, 1, 2, 3, 1, 2, 3)"
      ]
     },
     "execution_count": 12,
     "metadata": {},
     "output_type": "execute_result"
    }
   ],
   "source": [
    "# tuple 곱셈\n",
    "t1*3"
   ]
  },
  {
   "cell_type": "code",
   "execution_count": 14,
   "id": "a3cdfd3b",
   "metadata": {},
   "outputs": [
    {
     "data": {
      "text/plain": [
       "2"
      ]
     },
     "execution_count": 14,
     "metadata": {},
     "output_type": "execute_result"
    }
   ],
   "source": [
    "# tuple 길이 구하기\n",
    "len(t2)"
   ]
  },
  {
   "cell_type": "code",
   "execution_count": null,
   "id": "5cb0f5ee",
   "metadata": {},
   "outputs": [],
   "source": []
  },
  {
   "cell_type": "markdown",
   "id": "f6e2231b",
   "metadata": {},
   "source": [
    "## Numpy 맛보기"
   ]
  },
  {
   "cell_type": "markdown",
   "id": "b9677a1e",
   "metadata": {},
   "source": [
    "넘파이는 Numerical Python의 준 말로써 선형대수 및 다양한 수치연산을 가능하게 하는 라이브러리 중 하나이다."
   ]
  },
  {
   "cell_type": "code",
   "execution_count": 1,
   "id": "b8687705",
   "metadata": {},
   "outputs": [],
   "source": [
    "import numpy as np"
   ]
  },
  {
   "cell_type": "code",
   "execution_count": 2,
   "id": "45540637",
   "metadata": {},
   "outputs": [
    {
     "name": "stdout",
     "output_type": "stream",
     "text": [
      "<class 'list'>\n",
      "<class 'list'>\n"
     ]
    }
   ],
   "source": [
    "# list 생성\n",
    "l1=[1,2,3]\n",
    "l2=[5,6,7]\n",
    "\n",
    "# 자료 형태 확인\n",
    "print(type(l1))\n",
    "print(type(l2))"
   ]
  },
  {
   "cell_type": "code",
   "execution_count": 3,
   "id": "aa6f1029",
   "metadata": {},
   "outputs": [
    {
     "name": "stdout",
     "output_type": "stream",
     "text": [
      "<class 'numpy.ndarray'>\n",
      "array1은 1차원, array2는 1차원\n",
      "array2은 [5 6 7]\n",
      "array3은 [[4 5 6]]\n"
     ]
    }
   ],
   "source": [
    "# ndarray() ndim :: ndarray의 차원을 나타낸다.\n",
    "array1=np.array([1,2,3])\n",
    "array2=np.array(l2)\n",
    "array3=np.array([[4,5,6]])\n",
    "\n",
    "print(type(array1))\n",
    "\n",
    "print('array1은 {0}차원, array2는 {1}차원'.format(array1.ndim,array2.ndim))\n",
    "print('array2은',array2)\n",
    "print('array3은',array3)"
   ]
  },
  {
   "cell_type": "code",
   "execution_count": 27,
   "id": "9f7a6e11",
   "metadata": {},
   "outputs": [
    {
     "name": "stdout",
     "output_type": "stream",
     "text": [
      "array1의 차원 1\n",
      "array2의 차원 1\n",
      "array3의 차원 2\n"
     ]
    }
   ],
   "source": [
    "print('array1의 차원',array1.ndim)\n",
    "print('array2의 차원',array2.ndim)\n",
    "print('array3의 차원',array3.ndim)"
   ]
  },
  {
   "cell_type": "code",
   "execution_count": 28,
   "id": "85fe65dc",
   "metadata": {},
   "outputs": [
    {
     "name": "stdout",
     "output_type": "stream",
     "text": [
      "array1의 shape (3,)\n",
      "array2의 shape (3,)\n",
      "array3의 shape (1, 3)\n"
     ]
    }
   ],
   "source": [
    "#ndarray의 shape\n",
    "print('array1의 shape',array1.shape)\n",
    "print('array2의 shape',array2.shape)\n",
    "print('array3의 shape',array3.shape)"
   ]
  },
  {
   "cell_type": "code",
   "execution_count": 35,
   "id": "aeb61dc2",
   "metadata": {},
   "outputs": [
    {
     "name": "stdout",
     "output_type": "stream",
     "text": [
      "(2, 1, 3)\n",
      "3\n",
      "(1, 2, 3)\n",
      "3\n"
     ]
    }
   ],
   "source": [
    "# 3차원 데이터 중 (2,1,3)을 고민해보자\n",
    "arr1=np.array([[[1,2,3]],[[4,5,6]]])\n",
    "print(arr1.shape)\n",
    "print(arr1.ndim)\n",
    "arr2=np.array([[[1,2,3],[4,5,6]]])\n",
    "print(arr2.shape)\n",
    "print(arr2.ndim)"
   ]
  },
  {
   "cell_type": "code",
   "execution_count": null,
   "id": "fd1d6ec3",
   "metadata": {},
   "outputs": [],
   "source": []
  }
 ],
 "metadata": {
  "kernelspec": {
   "display_name": "Python 3 (ipykernel)",
   "language": "python",
   "name": "python3"
  },
  "language_info": {
   "codemirror_mode": {
    "name": "ipython",
    "version": 3
   },
   "file_extension": ".py",
   "mimetype": "text/x-python",
   "name": "python",
   "nbconvert_exporter": "python",
   "pygments_lexer": "ipython3",
   "version": "3.9.12"
  }
 },
 "nbformat": 4,
 "nbformat_minor": 5
}
