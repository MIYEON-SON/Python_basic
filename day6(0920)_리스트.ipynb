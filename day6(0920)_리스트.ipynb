{
 "cells": [
  {
   "cell_type": "markdown",
   "id": "1e0bbcc7",
   "metadata": {},
   "source": [
    "## 리스트의 생성 및 종류"
   ]
  },
  {
   "cell_type": "code",
   "execution_count": 3,
   "id": "58c23d40",
   "metadata": {},
   "outputs": [
    {
     "data": {
      "text/plain": [
       "[1, 3, 4, 7, 9]"
      ]
     },
     "execution_count": 3,
     "metadata": {},
     "output_type": "execute_result"
    }
   ],
   "source": [
    "l1=[1,3,5,7,9]\n",
    "l1[2]=4\n",
    "l1"
   ]
  },
  {
   "cell_type": "code",
   "execution_count": 4,
   "id": "ec7ed07c",
   "metadata": {},
   "outputs": [],
   "source": [
    "# 리스트의 종류 5가지\n",
    "\n",
    "l1=[]\n",
    "l2=[1,2,3]\n",
    "l3=['one','two','three']\n",
    "l4=[1,2,'one']\n",
    "l5=[7,8,['x','y']]"
   ]
  },
  {
   "cell_type": "code",
   "execution_count": null,
   "id": "665f2380",
   "metadata": {},
   "outputs": [],
   "source": [
    "# 함수를 활용한 빈 자료형 생성\n",
    "str()  # 빈 list\n",
    "list()  # 빈 문자열"
   ]
  },
  {
   "cell_type": "markdown",
   "id": "f2ec87f0",
   "metadata": {},
   "source": [
    "## 리스트 인덱싱"
   ]
  },
  {
   "cell_type": "code",
   "execution_count": 22,
   "id": "822de020",
   "metadata": {},
   "outputs": [
    {
     "data": {
      "text/plain": [
       "'b'"
      ]
     },
     "execution_count": 22,
     "metadata": {},
     "output_type": "execute_result"
    }
   ],
   "source": [
    "# 이중 리스트 연산\n",
    "b=[1,2,3,['a','b','c']]\n",
    "b[3][1]"
   ]
  },
  {
   "cell_type": "code",
   "execution_count": 23,
   "id": "fe43bdd3",
   "metadata": {},
   "outputs": [
    {
     "data": {
      "text/plain": [
       "'b'"
      ]
     },
     "execution_count": 23,
     "metadata": {},
     "output_type": "execute_result"
    }
   ],
   "source": [
    "b[-1][1]"
   ]
  },
  {
   "cell_type": "markdown",
   "id": "7a2a660f",
   "metadata": {},
   "source": [
    "### 리스트의 연산"
   ]
  },
  {
   "cell_type": "markdown",
   "id": "908a7a5b",
   "metadata": {},
   "source": [
    "#### 리스트 더하기"
   ]
  },
  {
   "cell_type": "code",
   "execution_count": 8,
   "id": "5c3415a7",
   "metadata": {},
   "outputs": [
    {
     "data": {
      "text/plain": [
       "[1, 'one', 3, 4, 5, 6]"
      ]
     },
     "execution_count": 8,
     "metadata": {},
     "output_type": "execute_result"
    }
   ],
   "source": [
    "c=[1,'one',3]\n",
    "d=[4,5,6]\n",
    "c+d"
   ]
  },
  {
   "cell_type": "code",
   "execution_count": 9,
   "id": "3acf9bcd",
   "metadata": {},
   "outputs": [
    {
     "name": "stdout",
     "output_type": "stream",
     "text": [
      "[5 7 9]\n"
     ]
    }
   ],
   "source": [
    "import numpy as np  # alias(별칭)\n",
    "array1=np.array([1,2,3])\n",
    "array2=np.array([4,5,6])\n",
    "print(array1+array2)"
   ]
  },
  {
   "cell_type": "markdown",
   "id": "e10abba3",
   "metadata": {},
   "source": [
    "#### 리스트 반복하기"
   ]
  },
  {
   "cell_type": "code",
   "execution_count": 35,
   "id": "7b7eb133",
   "metadata": {},
   "outputs": [
    {
     "data": {
      "text/plain": [
       "[1, 2, 3, 1, 2, 3, 1, 2, 3]"
      ]
     },
     "execution_count": 35,
     "metadata": {},
     "output_type": "execute_result"
    }
   ],
   "source": [
    "a=[1,2,3]\n",
    "a*3"
   ]
  },
  {
   "cell_type": "markdown",
   "id": "5721a21b",
   "metadata": {},
   "source": [
    "### 리스트 길이 구하기"
   ]
  },
  {
   "cell_type": "code",
   "execution_count": null,
   "id": "f4f9f68d",
   "metadata": {},
   "outputs": [],
   "source": [
    "len(a*2)"
   ]
  },
  {
   "cell_type": "markdown",
   "id": "1f7a58c7",
   "metadata": {},
   "source": [
    "### 리스트에 요소 추가 :: append"
   ]
  },
  {
   "cell_type": "code",
   "execution_count": 49,
   "id": "268b533f",
   "metadata": {},
   "outputs": [
    {
     "data": {
      "text/plain": [
       "[1, 2, 3, [4, 5]]"
      ]
     },
     "execution_count": 49,
     "metadata": {},
     "output_type": "execute_result"
    }
   ],
   "source": [
    "x=[1,2,3]\n",
    "x.append([4,5])\n",
    "x"
   ]
  },
  {
   "cell_type": "markdown",
   "id": "d5a832cd",
   "metadata": {},
   "source": [
    "### 리스트에 확장 :: extend"
   ]
  },
  {
   "cell_type": "code",
   "execution_count": 50,
   "id": "78a9b313",
   "metadata": {},
   "outputs": [
    {
     "data": {
      "text/plain": [
       "[1, 2, 3, 4, 5]"
      ]
     },
     "execution_count": 50,
     "metadata": {},
     "output_type": "execute_result"
    }
   ],
   "source": [
    "x=[1,2,3]\n",
    "x.extend([4,5])\n",
    "x"
   ]
  },
  {
   "cell_type": "markdown",
   "id": "5af56842",
   "metadata": {},
   "source": [
    "### 리스트 요소 추출 :: pop"
   ]
  },
  {
   "cell_type": "code",
   "execution_count": 52,
   "id": "19b75515",
   "metadata": {},
   "outputs": [
    {
     "data": {
      "text/plain": [
       "5"
      ]
     },
     "execution_count": 52,
     "metadata": {},
     "output_type": "execute_result"
    }
   ],
   "source": [
    "a=[1,2,3]\n",
    "a.pop()  # 맨 끝자리 추출 후 삭제"
   ]
  },
  {
   "cell_type": "code",
   "execution_count": 53,
   "id": "18772ff2",
   "metadata": {},
   "outputs": [
    {
     "data": {
      "text/plain": [
       "[1, 2]"
      ]
     },
     "execution_count": 53,
     "metadata": {},
     "output_type": "execute_result"
    }
   ],
   "source": [
    "a"
   ]
  },
  {
   "cell_type": "markdown",
   "id": "34053d44",
   "metadata": {},
   "source": [
    "### 리스트 요소 정렬 :: sort"
   ]
  },
  {
   "cell_type": "code",
   "execution_count": 56,
   "id": "3b75b634",
   "metadata": {},
   "outputs": [
    {
     "data": {
      "text/plain": [
       "['a', 'b', 'c']"
      ]
     },
     "execution_count": 56,
     "metadata": {},
     "output_type": "execute_result"
    }
   ],
   "source": [
    "a=['a','c','b']\n",
    "a.sort()  # 만약 함수를 적용한 후 결과값 출력이 안되면 원본 데이터가 변환되어 있음\n",
    "a"
   ]
  },
  {
   "cell_type": "markdown",
   "id": "29236723",
   "metadata": {},
   "source": [
    "### 리스트 뒤집기 :: reverse"
   ]
  },
  {
   "cell_type": "code",
   "execution_count": 59,
   "id": "72949c27",
   "metadata": {},
   "outputs": [
    {
     "data": {
      "text/plain": [
       "['b', 'c', 'a']"
      ]
     },
     "execution_count": 59,
     "metadata": {},
     "output_type": "execute_result"
    }
   ],
   "source": [
    "a=['a','c','b']\n",
    "a.reverse()\n",
    "a"
   ]
  },
  {
   "cell_type": "markdown",
   "id": "b9008a43",
   "metadata": {},
   "source": [
    "### copy 함수"
   ]
  },
  {
   "cell_type": "code",
   "execution_count": 64,
   "id": "4b16441c",
   "metadata": {},
   "outputs": [],
   "source": [
    "x=[1,2,3]\n",
    "y=x"
   ]
  },
  {
   "cell_type": "code",
   "execution_count": 65,
   "id": "83914ad0",
   "metadata": {},
   "outputs": [
    {
     "data": {
      "text/plain": [
       "[1, 100, 3]"
      ]
     },
     "execution_count": 65,
     "metadata": {},
     "output_type": "execute_result"
    }
   ],
   "source": [
    "x[1]=100\n",
    "x"
   ]
  },
  {
   "cell_type": "code",
   "execution_count": 66,
   "id": "d918cba6",
   "metadata": {},
   "outputs": [
    {
     "data": {
      "text/plain": [
       "[1, 100, 3]"
      ]
     },
     "execution_count": 66,
     "metadata": {},
     "output_type": "execute_result"
    }
   ],
   "source": [
    "y"
   ]
  },
  {
   "cell_type": "code",
   "execution_count": 67,
   "id": "ed2d9aef",
   "metadata": {},
   "outputs": [],
   "source": [
    "# 위와 같이 데이터가 연동되지 않게 하고 싶을 때 활용\n",
    "x=[1,2,3]\n",
    "y=x.copy()"
   ]
  },
  {
   "cell_type": "code",
   "execution_count": 70,
   "id": "6b34cb71",
   "metadata": {},
   "outputs": [
    {
     "name": "stdout",
     "output_type": "stream",
     "text": [
      "[1, 100, 3]\n",
      "[1, 2, 3]\n"
     ]
    }
   ],
   "source": [
    "x[1]=100\n",
    "print(x)\n",
    "print(y)"
   ]
  },
  {
   "cell_type": "markdown",
   "id": "62199d3e",
   "metadata": {},
   "source": [
    "### 리스트 위치 확인(index)"
   ]
  },
  {
   "cell_type": "code",
   "execution_count": 74,
   "id": "eece8dbd",
   "metadata": {},
   "outputs": [
    {
     "name": "stdout",
     "output_type": "stream",
     "text": [
      "2\n",
      "0\n"
     ]
    },
    {
     "ename": "ValueError",
     "evalue": "'bb' is not in list",
     "output_type": "error",
     "traceback": [
      "\u001b[1;31m---------------------------------------------------------------------------\u001b[0m",
      "\u001b[1;31mValueError\u001b[0m                                Traceback (most recent call last)",
      "Input \u001b[1;32mIn [74]\u001b[0m, in \u001b[0;36m<cell line: 4>\u001b[1;34m()\u001b[0m\n\u001b[0;32m      2\u001b[0m \u001b[38;5;28mprint\u001b[39m(a\u001b[38;5;241m.\u001b[39mindex(\u001b[38;5;241m3\u001b[39m))\n\u001b[0;32m      3\u001b[0m \u001b[38;5;28mprint\u001b[39m(a\u001b[38;5;241m.\u001b[39mindex(\u001b[38;5;124m'\u001b[39m\u001b[38;5;124m1\u001b[39m\u001b[38;5;124m'\u001b[39m))\n\u001b[1;32m----> 4\u001b[0m \u001b[38;5;28mprint\u001b[39m(\u001b[43ma\u001b[49m\u001b[38;5;241;43m.\u001b[39;49m\u001b[43mindex\u001b[49m\u001b[43m(\u001b[49m\u001b[38;5;124;43m'\u001b[39;49m\u001b[38;5;124;43mbb\u001b[39;49m\u001b[38;5;124;43m'\u001b[39;49m\u001b[43m)\u001b[49m)\n",
      "\u001b[1;31mValueError\u001b[0m: 'bb' is not in list"
     ]
    }
   ],
   "source": [
    "a=['1',2,3]\n",
    "print(a.index(3))\n",
    "print(a.index('1'))\n",
    "print(a.index('bb'))"
   ]
  },
  {
   "cell_type": "markdown",
   "id": "bc63f6b4",
   "metadata": {},
   "source": [
    "### 리스트 요소 삽입(insert)"
   ]
  },
  {
   "cell_type": "code",
   "execution_count": 89,
   "id": "537e8a1b",
   "metadata": {},
   "outputs": [
    {
     "data": {
      "text/plain": [
       "[100, 1, 1000, 1000, 2, 3]"
      ]
     },
     "execution_count": 89,
     "metadata": {},
     "output_type": "execute_result"
    }
   ],
   "source": [
    "a=[1,2,3]\n",
    "a.insert(0,100) \n",
    "a.insert(2,1000)\n",
    "a.insert(2,1000)\n",
    "a"
   ]
  },
  {
   "cell_type": "markdown",
   "id": "ad23549e",
   "metadata": {},
   "source": [
    "### 리스트 요소 제거(remove)"
   ]
  },
  {
   "cell_type": "code",
   "execution_count": 83,
   "id": "6c35bcfe",
   "metadata": {},
   "outputs": [
    {
     "data": {
      "text/plain": [
       "[1, 1000, 2, 3]"
      ]
     },
     "execution_count": 83,
     "metadata": {},
     "output_type": "execute_result"
    }
   ],
   "source": [
    "a.remove(100)\n",
    "a"
   ]
  },
  {
   "cell_type": "code",
   "execution_count": 90,
   "id": "80518107",
   "metadata": {},
   "outputs": [
    {
     "data": {
      "text/plain": [
       "[100, 1, 1000, 2, 3]"
      ]
     },
     "execution_count": 90,
     "metadata": {},
     "output_type": "execute_result"
    }
   ],
   "source": [
    "a.remove(1000) #1000 두 개 중에 한 개만 제거됨\n",
    "a"
   ]
  },
  {
   "cell_type": "markdown",
   "id": "7a4c3f76",
   "metadata": {},
   "source": [
    "## 리스트 슬라이싱"
   ]
  },
  {
   "cell_type": "markdown",
   "id": "a8d0ca30",
   "metadata": {},
   "source": [
    "### 문자열과 마찬가지로 리스트에도 슬라이싱 적용 가능"
   ]
  },
  {
   "cell_type": "code",
   "execution_count": 25,
   "id": "a5bee84a",
   "metadata": {},
   "outputs": [
    {
     "name": "stdout",
     "output_type": "stream",
     "text": [
      "[1, 2]\n",
      "12\n"
     ]
    }
   ],
   "source": [
    "a=[1,2,3,4,5]\n",
    "b='12345'\n",
    "print(a[0:2])\n",
    "print(b[0:2])"
   ]
  },
  {
   "cell_type": "code",
   "execution_count": 26,
   "id": "66a93fdf",
   "metadata": {},
   "outputs": [
    {
     "name": "stdout",
     "output_type": "stream",
     "text": [
      "[1, 2] \n",
      " [3, 4]\n"
     ]
    }
   ],
   "source": [
    "# 슬라이싱을 통해 변수에 할당 가능\n",
    "a_1=a[0:2]\n",
    "a_2=a[2:4]\n",
    "print(a_1,'\\n',a_2)"
   ]
  },
  {
   "cell_type": "code",
   "execution_count": 33,
   "id": "051d0558",
   "metadata": {},
   "outputs": [
    {
     "data": {
      "text/plain": [
       "[1, 2, 3, 'a', 'b']"
      ]
     },
     "execution_count": 33,
     "metadata": {},
     "output_type": "execute_result"
    }
   ],
   "source": [
    "# 쉬어가기\n",
    "test_l1=[1,2,3,['a','b','c'],4,5]\n",
    "test_l1[0:3]+test_l1[3][0:2]\n"
   ]
  }
 ],
 "metadata": {
  "kernelspec": {
   "display_name": "Python 3 (ipykernel)",
   "language": "python",
   "name": "python3"
  },
  "language_info": {
   "codemirror_mode": {
    "name": "ipython",
    "version": 3
   },
   "file_extension": ".py",
   "mimetype": "text/x-python",
   "name": "python",
   "nbconvert_exporter": "python",
   "pygments_lexer": "ipython3",
   "version": "3.9.12"
  }
 },
 "nbformat": 4,
 "nbformat_minor": 5
}
