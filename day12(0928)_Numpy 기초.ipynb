{
 "cells": [
  {
   "cell_type": "markdown",
   "id": "3c8151e5",
   "metadata": {},
   "source": [
    "# Numpy의 생성"
   ]
  },
  {
   "cell_type": "code",
   "execution_count": 1,
   "id": "504663ba",
   "metadata": {},
   "outputs": [
    {
     "name": "stdout",
     "output_type": "stream",
     "text": [
      "[1 2 3]\n"
     ]
    }
   ],
   "source": [
    "import numpy as np\n",
    "array1=np.array([1,2,3])\n",
    "print(array1)"
   ]
  },
  {
   "cell_type": "code",
   "execution_count": 2,
   "id": "ba660575",
   "metadata": {},
   "outputs": [],
   "source": [
    "# Numpy의 차원을 나타내는 ndarray\n",
    "# property - shape, ndim - 괄호를 쓰지 않는 형태의 함수\n",
    "array1d=np.array([1,2,3])\n",
    "array2d=np.array([[1,2,3],\n",
    "                  [4,5,6]])\n",
    "array3d=np.array([[[1,2,3]],\n",
    "                 [[11,22,33]]])"
   ]
  },
  {
   "cell_type": "code",
   "execution_count": 3,
   "id": "e44506b1",
   "metadata": {},
   "outputs": [
    {
     "name": "stdout",
     "output_type": "stream",
     "text": [
      "array1d의 shape: (3,)\n",
      "array1d는 1차원\n",
      "array2d의 shape: (2, 3)\n",
      "array2d는 2차원\n",
      "array3d의 shape: (2, 1, 3)\n",
      "array3d는 3차원\n"
     ]
    }
   ],
   "source": [
    "print('array1d의 shape:', array1d.shape)\n",
    "print('array1d는 {0}차원'.format(array1d.ndim))\n",
    "\n",
    "print('array2d의 shape:', array2d.shape)\n",
    "print('array2d는 {0}차원'.format(array2d.ndim))\n",
    "\n",
    "print('array3d의 shape:', array3d.shape)\n",
    "print('array3d는 {0}차원'.format(array3d.ndim))"
   ]
  },
  {
   "cell_type": "code",
   "execution_count": 6,
   "id": "19d798f0",
   "metadata": {},
   "outputs": [
    {
     "name": "stdout",
     "output_type": "stream",
     "text": [
      "['1' '2' 'test'] <U11\n",
      "[1.  2.  3.3] float64\n"
     ]
    }
   ],
   "source": [
    "# array의 특징\n",
    "l1=[1,2,'test']\n",
    "l2=[1,2,3.3]\n",
    "\n",
    "array_l1=np.array(l1)\n",
    "print(array_l1,array_l1.dtype)\n",
    "\n",
    "array_l2=np.array(l2)\n",
    "print(array_l2,array_l2.dtype)"
   ]
  },
  {
   "cell_type": "code",
   "execution_count": 11,
   "id": "797f8f89",
   "metadata": {},
   "outputs": [
    {
     "name": "stdout",
     "output_type": "stream",
     "text": [
      "[1. 2. 3.] float64\n",
      "[1 2 3] int32\n"
     ]
    }
   ],
   "source": [
    "# array의 데이터 타입 변환\n",
    "array_int=np.array([1,2,3])\n",
    "array_float=array_int.astype('float64')\n",
    "print(array_float,array_float.dtype)\n",
    "\n",
    "array_int1=array_float.astype('int32')\n",
    "print(array_int1,array_int1.dtype)"
   ]
  },
  {
   "cell_type": "markdown",
   "id": "8c699e93",
   "metadata": {},
   "source": [
    "### ndarray를 편리하게 생성하기\n",
    "- arange, zeros, ones"
   ]
  },
  {
   "cell_type": "code",
   "execution_count": 12,
   "id": "f7c5ea00",
   "metadata": {},
   "outputs": [
    {
     "name": "stdout",
     "output_type": "stream",
     "text": [
      "[0 1 2 3 4 5 6 7 8 9]\n",
      "int32 (10,)\n"
     ]
    }
   ],
   "source": [
    "# np.arange 함수\n",
    "sq_array=np.arange(10)  # default :: start=0\n",
    "print(sq_array)\n",
    "print(sq_array.dtype, sq_array.shape)"
   ]
  },
  {
   "cell_type": "code",
   "execution_count": 16,
   "id": "88a92f81",
   "metadata": {},
   "outputs": [
    {
     "name": "stdout",
     "output_type": "stream",
     "text": [
      "[1 2 3 4 5 6 7 8]\n",
      "int32 (8,)\n"
     ]
    }
   ],
   "source": [
    "# 시작점과 끝점을 지정하여 sq_array 생성\n",
    "# 자세한 사항은 help 함수를 참조 or ?np.arange\n",
    "sq_array1=np.arange(start=1,stop=9)\n",
    "print(sq_array1)\n",
    "print(sq_array1.dtype, sq_array1.shape)"
   ]
  },
  {
   "cell_type": "code",
   "execution_count": 19,
   "id": "1a0a6d6a",
   "metadata": {},
   "outputs": [
    {
     "name": "stdout",
     "output_type": "stream",
     "text": [
      "[[0 0 0]\n",
      " [0 0 0]]\n",
      "int32 (2, 3)\n"
     ]
    }
   ],
   "source": [
    "# np.zeros 함수 - tuple 형태로 입력할 것 ***\n",
    "zero_array=np.zeros((2,3),dtype='int32')\n",
    "print(zero_array)\n",
    "print(zero_array.dtype, zero_array.shape)"
   ]
  },
  {
   "cell_type": "code",
   "execution_count": 20,
   "id": "148151ea",
   "metadata": {},
   "outputs": [
    {
     "name": "stdout",
     "output_type": "stream",
     "text": [
      "[[1 1 1]\n",
      " [1 1 1]]\n",
      "int32 (2, 3)\n"
     ]
    }
   ],
   "source": [
    "# np.ones 함수 - tuple 형태로 입력할 것 ***\n",
    "one_array=np.ones((2,3),dtype='int32')\n",
    "print(one_array)\n",
    "print(one_array.dtype, one_array.shape)"
   ]
  },
  {
   "cell_type": "code",
   "execution_count": 22,
   "id": "d28899ac",
   "metadata": {},
   "outputs": [
    {
     "data": {
      "text/plain": [
       "array([[0, 0],\n",
       "       [0, 0],\n",
       "       [0, 0]])"
      ]
     },
     "execution_count": 22,
     "metadata": {},
     "output_type": "execute_result"
    }
   ],
   "source": [
    "# reshape 함수 - 모양을 변환.. ndarray 변환\n",
    "# 이 함수는 입력값이 tuple이 아니어도 된다.\n",
    "zero_array.reshape(3,2)"
   ]
  },
  {
   "cell_type": "code",
   "execution_count": 29,
   "id": "f21b7363",
   "metadata": {},
   "outputs": [
    {
     "name": "stdout",
     "output_type": "stream",
     "text": [
      "[1 2 3 4 5]\n"
     ]
    },
    {
     "data": {
      "text/plain": [
       "array([[1, 2, 3, 4, 5]])"
      ]
     },
     "execution_count": 29,
     "metadata": {},
     "output_type": "execute_result"
    }
   ],
   "source": [
    "# reshape -2\n",
    "array1=np.arange(1,5)\n",
    "print(array1)\n",
    "array1.reshape(-1,5)"
   ]
  },
  {
   "cell_type": "code",
   "execution_count": 30,
   "id": "3e7f3f60",
   "metadata": {},
   "outputs": [
    {
     "data": {
      "text/plain": [
       "array([[1],\n",
       "       [2],\n",
       "       [3],\n",
       "       [4],\n",
       "       [5]])"
      ]
     },
     "execution_count": 30,
     "metadata": {},
     "output_type": "execute_result"
    }
   ],
   "source": [
    "array1.reshape(5,-1)"
   ]
  },
  {
   "cell_type": "code",
   "execution_count": 32,
   "id": "12eefe86",
   "metadata": {},
   "outputs": [],
   "source": [
    "# ?np.reshape"
   ]
  },
  {
   "cell_type": "markdown",
   "id": "76b2a449",
   "metadata": {},
   "source": [
    "#### 각 차원끼리의 변환 - reshape을 활용"
   ]
  },
  {
   "cell_type": "code",
   "execution_count": 34,
   "id": "4cc85685",
   "metadata": {},
   "outputs": [
    {
     "data": {
      "text/plain": [
       "(8,)"
      ]
     },
     "execution_count": 34,
     "metadata": {},
     "output_type": "execute_result"
    }
   ],
   "source": [
    "array_1d=np.arange(8)\n",
    "array_1d.shape"
   ]
  },
  {
   "cell_type": "code",
   "execution_count": 37,
   "id": "9a478e8f",
   "metadata": {},
   "outputs": [
    {
     "data": {
      "text/plain": [
       "array([0, 1, 2, 3, 4, 5, 6, 7])"
      ]
     },
     "execution_count": 37,
     "metadata": {},
     "output_type": "execute_result"
    }
   ],
   "source": [
    "array_1d"
   ]
  },
  {
   "cell_type": "code",
   "execution_count": 42,
   "id": "381d22f3",
   "metadata": {},
   "outputs": [
    {
     "name": "stdout",
     "output_type": "stream",
     "text": [
      "[[0 1]\n",
      " [2 3]\n",
      " [4 5]\n",
      " [6 7]]\n",
      "(4, 2)\n",
      "2\n",
      "\n",
      " [[[0 1]\n",
      "  [2 3]]\n",
      "\n",
      " [[4 5]\n",
      "  [6 7]]]\n",
      "(2, 2, 2)\n",
      "3\n"
     ]
    }
   ],
   "source": [
    "# 위의 array1d를 array2d로 변환\n",
    "# 1차원 -> 2차원\n",
    "array_2d=array_1d.reshape(4,2)  \n",
    "print(array_2d)\n",
    "print(array_2d.shape)\n",
    "print(array_2d.ndim)\n",
    "\n",
    "# 1차원 -> 3차원\n",
    "array_3d=array_1d.reshape(2,2,2)  # 2차원\n",
    "print('\\n',array_3d)\n",
    "print(array_3d.shape)\n",
    "print(array_3d.ndim)"
   ]
  },
  {
   "cell_type": "code",
   "execution_count": null,
   "id": "b7a1284c",
   "metadata": {},
   "outputs": [],
   "source": []
  }
 ],
 "metadata": {
  "kernelspec": {
   "display_name": "Python 3 (ipykernel)",
   "language": "python",
   "name": "python3"
  },
  "language_info": {
   "codemirror_mode": {
    "name": "ipython",
    "version": 3
   },
   "file_extension": ".py",
   "mimetype": "text/x-python",
   "name": "python",
   "nbconvert_exporter": "python",
   "pygments_lexer": "ipython3",
   "version": "3.9.12"
  }
 },
 "nbformat": 4,
 "nbformat_minor": 5
}
