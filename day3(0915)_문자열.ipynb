{
 "cells": [
  {
   "cell_type": "markdown",
   "id": "dcb862b5",
   "metadata": {},
   "source": [
    "# 문자열(String)"
   ]
  },
  {
   "cell_type": "code",
   "execution_count": 1,
   "id": "666105a8",
   "metadata": {},
   "outputs": [
    {
     "name": "stdout",
     "output_type": "stream",
     "text": [
      "Hello World\n"
     ]
    }
   ],
   "source": [
    "print('Hello World')"
   ]
  },
  {
   "cell_type": "code",
   "execution_count": 2,
   "id": "a4620ba5",
   "metadata": {},
   "outputs": [
    {
     "data": {
      "text/plain": [
       "'a'"
      ]
     },
     "execution_count": 2,
     "metadata": {},
     "output_type": "execute_result"
    }
   ],
   "source": [
    "\"a\""
   ]
  },
  {
   "cell_type": "code",
   "execution_count": 3,
   "id": "3b285376",
   "metadata": {},
   "outputs": [
    {
     "data": {
      "text/plain": [
       "'123'"
      ]
     },
     "execution_count": 3,
     "metadata": {},
     "output_type": "execute_result"
    }
   ],
   "source": [
    "\"123\""
   ]
  },
  {
   "cell_type": "markdown",
   "id": "cd444227",
   "metadata": {},
   "source": [
    "## 문자열 만들기"
   ]
  },
  {
   "cell_type": "markdown",
   "id": "412cf14c",
   "metadata": {},
   "source": [
    "### 1. 큰 따옴표로 만들기"
   ]
  },
  {
   "cell_type": "code",
   "execution_count": 4,
   "id": "3ffeac26",
   "metadata": {},
   "outputs": [
    {
     "data": {
      "text/plain": [
       "'Hello World'"
      ]
     },
     "execution_count": 4,
     "metadata": {},
     "output_type": "execute_result"
    }
   ],
   "source": [
    "\"Hello World\""
   ]
  },
  {
   "cell_type": "markdown",
   "id": "417c4e31",
   "metadata": {},
   "source": [
    "### 2. 작은 따옴표로 만들기"
   ]
  },
  {
   "cell_type": "code",
   "execution_count": 5,
   "id": "097f3045",
   "metadata": {},
   "outputs": [
    {
     "data": {
      "text/plain": [
       "'Python is fun'"
      ]
     },
     "execution_count": 5,
     "metadata": {},
     "output_type": "execute_result"
    }
   ],
   "source": [
    "'Python is fun'"
   ]
  },
  {
   "cell_type": "markdown",
   "id": "27475d78",
   "metadata": {},
   "source": [
    "### 3. 큰 따옴표 3개로 만들기"
   ]
  },
  {
   "cell_type": "code",
   "execution_count": 18,
   "id": "cd0f2f2f",
   "metadata": {},
   "outputs": [
    {
     "name": "stdout",
     "output_type": "stream",
     "text": [
      "\n",
      "Life is too short,\n",
      "you need python.\n",
      "\n"
     ]
    }
   ],
   "source": [
    "a=\"\"\"\n",
    "Life is too short,\n",
    "you need python.\n",
    "\"\"\"\n",
    "print(a)  # 줄바꿈"
   ]
  },
  {
   "cell_type": "markdown",
   "id": "9c097c91",
   "metadata": {},
   "source": [
    "### 4. 작은 따옴표 3개로 만들기"
   ]
  },
  {
   "cell_type": "code",
   "execution_count": 15,
   "id": "368f8d82",
   "metadata": {},
   "outputs": [
    {
     "name": "stdout",
     "output_type": "stream",
     "text": [
      "\n",
      "\n",
      "Life is too short,\n",
      "you need python.\n",
      "\n",
      "\n"
     ]
    }
   ],
   "source": [
    "a='''\n",
    "\n",
    "Life is too short,\n",
    "you need python.\n",
    "\n",
    "'''\n",
    "print(a)  # 줄바꿈"
   ]
  },
  {
   "cell_type": "code",
   "execution_count": 31,
   "id": "2f8c0029",
   "metadata": {},
   "outputs": [
    {
     "data": {
      "text/plain": [
       "\"python's favorite food is perl\""
      ]
     },
     "execution_count": 31,
     "metadata": {},
     "output_type": "execute_result"
    }
   ],
   "source": [
    "# \\ : 무시  효과?\n",
    "'python\\'s favorite food is perl'"
   ]
  },
  {
   "cell_type": "code",
   "execution_count": 34,
   "id": "1ffb729e",
   "metadata": {},
   "outputs": [
    {
     "data": {
      "text/plain": [
       "'python is very easy.\" he says.'"
      ]
     },
     "execution_count": 34,
     "metadata": {},
     "output_type": "execute_result"
    }
   ],
   "source": [
    "'python is very easy.\\\" he says.'"
   ]
  },
  {
   "cell_type": "markdown",
   "id": "628dd649",
   "metadata": {},
   "source": [
    "### Multi-Line 적용"
   ]
  },
  {
   "cell_type": "code",
   "execution_count": 42,
   "id": "ff7dffc8",
   "metadata": {},
   "outputs": [
    {
     "name": "stdout",
     "output_type": "stream",
     "text": [
      "life is too short \n",
      "you need python\n"
     ]
    }
   ],
   "source": [
    "# \\n 활용\n",
    "multi_line=\"life is too short \\nyou need python\"\n",
    "print(multi_line)"
   ]
  },
  {
   "cell_type": "code",
   "execution_count": 37,
   "id": "12a4a51d",
   "metadata": {},
   "outputs": [
    {
     "name": "stdout",
     "output_type": "stream",
     "text": [
      "life is woo short\n",
      "you need python\n"
     ]
    }
   ],
   "source": [
    "# 작은 따옴표 또는 큰 따옴표 3개 활용\n",
    "multi_line2=\"\"\"life is woo short\n",
    "you need python\"\"\"\n",
    "print(multi_line2)"
   ]
  },
  {
   "cell_type": "markdown",
   "id": "16b493ae",
   "metadata": {},
   "source": [
    "[이스케이프 코드란?]   # 마크다운에 그림 캡쳐 복붙 / 파일경로및이름 지정"
   ]
  },
  {
   "attachments": {
    "image.png": {
     "image/png": "[encoded data removed]"
    }
   },
   "cell_type": "markdown",
   "id": "7c7247e8",
   "metadata": {},
   "source": [
    "![image.png](attachment:image.png)"
   ]
  },
  {
   "cell_type": "markdown",
   "id": "b8a37dd7",
   "metadata": {},
   "source": [
    "![escape_code.PNG](./escape_code.PNG)"
   ]
  },
  {
   "cell_type": "markdown",
   "id": "3fc1eb17",
   "metadata": {},
   "source": [
    "## 문자열 연산하기"
   ]
  },
  {
   "cell_type": "markdown",
   "id": "fa78eb5b",
   "metadata": {},
   "source": [
    "### 문자열 더하기(Concatenation)"
   ]
  },
  {
   "cell_type": "code",
   "execution_count": 40,
   "id": "e525d509",
   "metadata": {},
   "outputs": [
    {
     "data": {
      "text/plain": [
       "'Python is fun!'"
      ]
     },
     "execution_count": 40,
     "metadata": {},
     "output_type": "execute_result"
    }
   ],
   "source": [
    "head=\"Python\"\n",
    "tail=' is fun!'\n",
    "head+tail"
   ]
  },
  {
   "cell_type": "markdown",
   "id": "7b8716a1",
   "metadata": {},
   "source": [
    "### 문자열 곱하기"
   ]
  },
  {
   "cell_type": "code",
   "execution_count": 43,
   "id": "aa071042",
   "metadata": {},
   "outputs": [
    {
     "data": {
      "text/plain": [
       "'pythonpython'"
      ]
     },
     "execution_count": 43,
     "metadata": {},
     "output_type": "execute_result"
    }
   ],
   "source": [
    "a='python'\n",
    "a*2"
   ]
  },
  {
   "cell_type": "markdown",
   "id": "b1c7db7a",
   "metadata": {},
   "source": [
    "### 문자열 곱하기 응용"
   ]
  },
  {
   "cell_type": "code",
   "execution_count": 46,
   "id": "ee7a17be",
   "metadata": {},
   "outputs": [
    {
     "name": "stdout",
     "output_type": "stream",
     "text": [
      "========================================\n",
      "My Program\n",
      "========================================\n"
     ]
    }
   ],
   "source": [
    "print('='*40)\n",
    "print('My Program')\n",
    "print('='*40)"
   ]
  },
  {
   "cell_type": "markdown",
   "id": "97bc20dc",
   "metadata": {},
   "source": [
    "### 문자열 길이 구하기 - len()"
   ]
  },
  {
   "cell_type": "code",
   "execution_count": 47,
   "id": "79ba3898",
   "metadata": {},
   "outputs": [
    {
     "data": {
      "text/plain": [
       "17"
      ]
     },
     "execution_count": 47,
     "metadata": {},
     "output_type": "execute_result"
    }
   ],
   "source": [
    "a='Life us too short'\n",
    "len(a) #빈칸 포함 길이"
   ]
  },
  {
   "cell_type": "markdown",
   "id": "831950a5",
   "metadata": {},
   "source": [
    "### 인덱싱 및 슬라이싱"
   ]
  },
  {
   "cell_type": "markdown",
   "id": "bf065c51",
   "metadata": {},
   "source": [
    "#### 문자열 인덱싱"
   ]
  },
  {
   "cell_type": "code",
   "execution_count": 1,
   "id": "5d702a05",
   "metadata": {},
   "outputs": [],
   "source": [
    "a='Life us too short. You need python'"
   ]
  },
  {
   "cell_type": "code",
   "execution_count": 2,
   "id": "3d51f558",
   "metadata": {},
   "outputs": [
    {
     "data": {
      "text/plain": [
       "'e'"
      ]
     },
     "execution_count": 2,
     "metadata": {},
     "output_type": "execute_result"
    }
   ],
   "source": [
    "a[3]"
   ]
  },
  {
   "cell_type": "markdown",
   "id": "97adc39c",
   "metadata": {},
   "source": [
    "##### 파이썬은 0부터 숫자를 셉니다."
   ]
  },
  {
   "cell_type": "code",
   "execution_count": 53,
   "id": "68a1cc29",
   "metadata": {},
   "outputs": [
    {
     "data": {
      "text/plain": [
       "'n'"
      ]
     },
     "execution_count": 53,
     "metadata": {},
     "output_type": "execute_result"
    }
   ],
   "source": [
    "#마지막 문자 'n'을 인덱싱하는 방법 - 1\n",
    "a[len(a)-1]  # 숫자 인덱싱을 활용"
   ]
  },
  {
   "cell_type": "code",
   "execution_count": 56,
   "id": "edb3893f",
   "metadata": {},
   "outputs": [
    {
     "data": {
      "text/plain": [
       "'n'"
      ]
     },
     "execution_count": 56,
     "metadata": {},
     "output_type": "execute_result"
    }
   ],
   "source": [
    "#마지막 문자 'n'을 인덱싱하는 방법 - 2\n",
    "a[-1]"
   ]
  },
  {
   "cell_type": "code",
   "execution_count": 58,
   "id": "7e45e671",
   "metadata": {},
   "outputs": [
    {
     "data": {
      "text/plain": [
       "23"
      ]
     },
     "execution_count": 58,
     "metadata": {},
     "output_type": "execute_result"
    }
   ],
   "source": [
    "a.find('n')   # 'n'의 첫번째 위치 찾기"
   ]
  },
  {
   "cell_type": "code",
   "execution_count": 3,
   "id": "d96f58d1",
   "metadata": {},
   "outputs": [
    {
     "ename": "ImportError",
     "evalue": "cannot import name 'beautifulSoup' from 'bs4' (C:\\Users\\ASIA-16\\anaconda3\\lib\\site-packages\\bs4\\__init__.py)",
     "output_type": "error",
     "traceback": [
      "\u001b[1;31m---------------------------------------------------------------------------\u001b[0m",
      "\u001b[1;31mImportError\u001b[0m                               Traceback (most recent call last)",
      "Input \u001b[1;32mIn [3]\u001b[0m, in \u001b[0;36m<cell line: 1>\u001b[1;34m()\u001b[0m\n\u001b[1;32m----> 1\u001b[0m \u001b[38;5;28;01mfrom\u001b[39;00m \u001b[38;5;21;01mbs4\u001b[39;00m \u001b[38;5;28;01mimport\u001b[39;00m beautifulSoup\n\u001b[0;32m      3\u001b[0m a\u001b[38;5;241m.\u001b[39mfind_all(\u001b[38;5;124m'\u001b[39m\u001b[38;5;124mn\u001b[39m\u001b[38;5;124m'\u001b[39m)\n",
      "\u001b[1;31mImportError\u001b[0m: cannot import name 'beautifulSoup' from 'bs4' (C:\\Users\\ASIA-16\\anaconda3\\lib\\site-packages\\bs4\\__init__.py)"
     ]
    }
   ],
   "source": [
    "from bs4 import beautifulSoup\n",
    "\n",
    "a.find_all('n')   # 'n'의 첫번째 위치 찾기"
   ]
  },
  {
   "cell_type": "code",
   "execution_count": 1,
   "id": "d87521a1",
   "metadata": {},
   "outputs": [
    {
     "name": "stdout",
     "output_type": "stream",
     "text": [
      "Collecting sklearn\n",
      "  Downloading sklearn-0.0.tar.gz (1.1 kB)\n",
      "Requirement already satisfied: scikit-learn in c:\\users\\asia-16\\anaconda3\\lib\\site-packages (from sklearn) (1.0.2)\n",
      "Requirement already satisfied: joblib>=0.11 in c:\\users\\asia-16\\anaconda3\\lib\\site-packages (from scikit-learn->sklearn) (1.1.0)\n",
      "Requirement already satisfied: numpy>=1.14.6 in c:\\users\\asia-16\\anaconda3\\lib\\site-packages (from scikit-learn->sklearn) (1.21.5)\n",
      "Requirement already satisfied: scipy>=1.1.0 in c:\\users\\asia-16\\anaconda3\\lib\\site-packages (from scikit-learn->sklearn) (1.7.3)\n",
      "Requirement already satisfied: threadpoolctl>=2.0.0 in c:\\users\\asia-16\\anaconda3\\lib\\site-packages (from scikit-learn->sklearn) (2.2.0)\n",
      "Building wheels for collected packages: sklearn\n",
      "  Building wheel for sklearn (setup.py): started\n",
      "  Building wheel for sklearn (setup.py): finished with status 'done'\n",
      "  Created wheel for sklearn: filename=sklearn-0.0-py2.py3-none-any.whl size=1310 sha256=ac704397da8d9e88841832adec472c95fe88b485d5bb594c1c3c7c572742ecb9\n",
      "  Stored in directory: c:\\users\\asia-16\\appdata\\local\\pip\\cache\\wheels\\e4\\7b\\98\\b6466d71b8d738a0c547008b9eb39bf8676d1ff6ca4b22af1c\n",
      "Successfully built sklearn\n",
      "Installing collected packages: sklearn\n",
      "Successfully installed sklearn-0.0\n"
     ]
    }
   ],
   "source": [
    "!pip install sklearn"
   ]
  },
  {
   "cell_type": "code",
   "execution_count": 2,
   "id": "8f22d80c",
   "metadata": {},
   "outputs": [
    {
     "name": "stdout",
     "output_type": "stream",
     "text": [
      "Collecting bs4\n",
      "  Downloading bs4-0.0.1.tar.gz (1.1 kB)\n",
      "Requirement already satisfied: beautifulsoup4 in c:\\users\\asia-16\\anaconda3\\lib\\site-packages (from bs4) (4.11.1)\n",
      "Requirement already satisfied: soupsieve>1.2 in c:\\users\\asia-16\\anaconda3\\lib\\site-packages (from beautifulsoup4->bs4) (2.3.1)\n",
      "Building wheels for collected packages: bs4\n",
      "  Building wheel for bs4 (setup.py): started\n",
      "  Building wheel for bs4 (setup.py): finished with status 'done'\n",
      "  Created wheel for bs4: filename=bs4-0.0.1-py3-none-any.whl size=1272 sha256=586488bbaa28ec9f44621f5318b6ed8901a5380b0c4a9f662c32b154c6d6d75d\n",
      "  Stored in directory: c:\\users\\asia-16\\appdata\\local\\pip\\cache\\wheels\\73\\2b\\cb\\099980278a0c9a3e57ff1a89875ec07bfa0b6fcbebb9a8cad3\n",
      "Successfully built bs4\n",
      "Installing collected packages: bs4\n",
      "Successfully installed bs4-0.0.1\n"
     ]
    }
   ],
   "source": [
    "!pip install bs4"
   ]
  },
  {
   "cell_type": "code",
   "execution_count": 6,
   "id": "7644a8c4",
   "metadata": {},
   "outputs": [
    {
     "ename": "ImportError",
     "evalue": "cannot import name 'beautifulSoup' from 'bs4' (C:\\Users\\ASIA-16\\anaconda3\\lib\\site-packages\\bs4\\__init__.py)",
     "output_type": "error",
     "traceback": [
      "\u001b[1;31m---------------------------------------------------------------------------\u001b[0m",
      "\u001b[1;31mImportError\u001b[0m                               Traceback (most recent call last)",
      "Input \u001b[1;32mIn [6]\u001b[0m, in \u001b[0;36m<cell line: 2>\u001b[1;34m()\u001b[0m\n\u001b[0;32m      1\u001b[0m a\u001b[38;5;241m=\u001b[39m\u001b[38;5;124m'\u001b[39m\u001b[38;5;124mLife us too short. You need python\u001b[39m\u001b[38;5;124m'\u001b[39m\n\u001b[1;32m----> 2\u001b[0m \u001b[38;5;28;01mfrom\u001b[39;00m \u001b[38;5;21;01mbs4\u001b[39;00m \u001b[38;5;28;01mimport\u001b[39;00m beautifulSoup\n\u001b[0;32m      3\u001b[0m a\u001b[38;5;241m.\u001b[39mfindAll(\u001b[38;5;124m'\u001b[39m\u001b[38;5;124mn\u001b[39m\u001b[38;5;124m'\u001b[39m)\n",
      "\u001b[1;31mImportError\u001b[0m: cannot import name 'beautifulSoup' from 'bs4' (C:\\Users\\ASIA-16\\anaconda3\\lib\\site-packages\\bs4\\__init__.py)"
     ]
    }
   ],
   "source": [
    "a='Life us too short. You need python'\n",
    "from bs4 import beautifulSoup\n",
    "a.findAll('n')   # 'n'의 첫번째 위치 찾기"
   ]
  },
  {
   "cell_type": "code",
   "execution_count": null,
   "id": "5e08b057",
   "metadata": {},
   "outputs": [],
   "source": []
  }
 ],
 "metadata": {
  "kernelspec": {
   "display_name": "Python 3 (ipykernel)",
   "language": "python",
   "name": "python3"
  },
  "language_info": {
   "codemirror_mode": {
    "name": "ipython",
    "version": 3
   },
   "file_extension": ".py",
   "mimetype": "text/x-python",
   "name": "python",
   "nbconvert_exporter": "python",
   "pygments_lexer": "ipython3",
   "version": "3.9.12"
  }
 },
 "nbformat": 4,
 "nbformat_minor": 5
}
