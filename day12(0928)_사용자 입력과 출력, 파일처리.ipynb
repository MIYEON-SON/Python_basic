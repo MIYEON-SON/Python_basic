{
 "cells": [
  {
   "cell_type": "markdown",
   "id": "4a6840f2",
   "metadata": {},
   "source": [
    "#  사용자 입력"
   ]
  },
  {
   "cell_type": "markdown",
   "id": "dba1fdb6",
   "metadata": {},
   "source": [
    "### input의 사용"
   ]
  },
  {
   "cell_type": "code",
   "execution_count": 57,
   "id": "b81a73ba",
   "metadata": {},
   "outputs": [
    {
     "name": "stdout",
     "output_type": "stream",
     "text": [
      "Life is too short\n"
     ]
    }
   ],
   "source": [
    "a=input()"
   ]
  },
  {
   "cell_type": "code",
   "execution_count": 58,
   "id": "ff9a1cac",
   "metadata": {},
   "outputs": [
    {
     "data": {
      "text/plain": [
       "'Life is too short'"
      ]
     },
     "execution_count": 58,
     "metadata": {},
     "output_type": "execute_result"
    }
   ],
   "source": [
    "# input으로 입력된 값은 전부 문자열로 취급된다.\n",
    "a"
   ]
  },
  {
   "cell_type": "code",
   "execution_count": 59,
   "id": "9eb80daa",
   "metadata": {},
   "outputs": [
    {
     "name": "stdout",
     "output_type": "stream",
     "text": [
      "<class 'str'>\n"
     ]
    }
   ],
   "source": [
    "print(type(a))"
   ]
  },
  {
   "cell_type": "code",
   "execution_count": 60,
   "id": "7c89f710",
   "metadata": {},
   "outputs": [
    {
     "name": "stdout",
     "output_type": "stream",
     "text": [
      "숫자 입력:7\n",
      "7\n"
     ]
    }
   ],
   "source": [
    "# 숫자를 입력하라는 명령에 3을 입력해보자.\n",
    "num=input('숫자 입력:')\n",
    "print(num)"
   ]
  },
  {
   "cell_type": "code",
   "execution_count": 61,
   "id": "1243edf9",
   "metadata": {},
   "outputs": [
    {
     "name": "stdout",
     "output_type": "stream",
     "text": [
      "<class 'str'>\n"
     ]
    }
   ],
   "source": [
    "print(type(num))"
   ]
  },
  {
   "cell_type": "markdown",
   "id": "3c76bd15",
   "metadata": {},
   "source": [
    "### print 자세히 살펴보기"
   ]
  },
  {
   "cell_type": "markdown",
   "id": "d16783ac",
   "metadata": {},
   "source": [
    "따옴표로 둘러싸인 문자열은 + 연산과 동일하다"
   ]
  },
  {
   "cell_type": "code",
   "execution_count": 62,
   "id": "39410fb4",
   "metadata": {},
   "outputs": [
    {
     "name": "stdout",
     "output_type": "stream",
     "text": [
      "lifeistooshort\n",
      "lifeistooshort\n"
     ]
    }
   ],
   "source": [
    "# 콤마 없이 한 번에 print 하는 것은\n",
    "# +(더하기로 concat)과 동일한 결과\n",
    "print(\"life\" \"is\" \"too\" \"short\")\n",
    "print('life'+'is'+'too'+'short')"
   ]
  },
  {
   "cell_type": "code",
   "execution_count": 63,
   "id": "3b6d876b",
   "metadata": {},
   "outputs": [
    {
     "name": "stdout",
     "output_type": "stream",
     "text": [
      "life is too short\n"
     ]
    }
   ],
   "source": [
    "# 콤마가 있다면 띄어쓰기가 된다.\n",
    "print(\"life\",\"is\",\"too\",\"short\")"
   ]
  },
  {
   "cell_type": "code",
   "execution_count": 64,
   "id": "1bf97dba",
   "metadata": {},
   "outputs": [
    {
     "name": "stdout",
     "output_type": "stream",
     "text": [
      "0 1 2 3 4 5 6 7 8 9 "
     ]
    }
   ],
   "source": [
    "# end 파라미터를 조절하면 가로 출력이 가능하다\n",
    "for i in range(10):\n",
    "    print(i, end=' ')"
   ]
  },
  {
   "cell_type": "markdown",
   "id": "5e0f7e14",
   "metadata": {},
   "source": [
    "# 파일 읽고 쓰기"
   ]
  },
  {
   "cell_type": "code",
   "execution_count": 65,
   "id": "73117b34",
   "metadata": {},
   "outputs": [
    {
     "data": {
      "text/plain": [
       "'C:\\\\Users\\\\ASIA-16\\\\Desktop\\\\Digital_dev\\\\01)Basic_Python\\\\Python practice'"
      ]
     },
     "execution_count": 65,
     "metadata": {},
     "output_type": "execute_result"
    }
   ],
   "source": [
    "# current working directory 를 찾는 방법\n",
    "import os \n",
    "os.getcwd()   # 절대 경로 "
   ]
  },
  {
   "cell_type": "markdown",
   "id": "fee3bcfa",
   "metadata": {},
   "source": [
    "> 파일 객체(변수명) = open(경로(path)/파일명.확장자, 파일 열기 모드)"
   ]
  },
  {
   "cell_type": "code",
   "execution_count": 66,
   "id": "57fa4080",
   "metadata": {},
   "outputs": [
    {
     "data": {
      "text/html": [
       "<style>\n",
       "table {float:left}\n",
       "</style>\n"
      ],
      "text/plain": [
       "<IPython.core.display.HTML object>"
      ]
     },
     "metadata": {},
     "output_type": "display_data"
    }
   ],
   "source": [
    "%%html\n",
    "<style>\n",
    "table {float:left}\n",
    "</style>"
   ]
  },
  {
   "cell_type": "markdown",
   "id": "4bb8e5b4",
   "metadata": {},
   "source": [
    "|파일열기모드|설명|\n",
    "|:---:|:---|   \n",
    "|r|읽기모드 - 파일을 읽기만 할 때 활용|\n",
    "|w|쓰기모드 - 파일의 내용을 작성할 때 활용|\n",
    "|a|추가모드 - 파일의 마지막 부분에 내용을 추가할 때 활용|"
   ]
  },
  {
   "cell_type": "code",
   "execution_count": 67,
   "id": "0165d1ce",
   "metadata": {},
   "outputs": [],
   "source": [
    "# 표에서 :---: -> 가운데 정렬, :--- -> 왼쪽 정렬"
   ]
  },
  {
   "cell_type": "code",
   "execution_count": 42,
   "id": "35e7371d",
   "metadata": {},
   "outputs": [],
   "source": [
    "f=open('./새파일.txt','w')\n",
    "f.close()"
   ]
  },
  {
   "cell_type": "code",
   "execution_count": 75,
   "id": "d29a991f",
   "metadata": {},
   "outputs": [],
   "source": [
    "# 파일 쓰기모드 w를 활용하여 출력값 적기\n",
    "f=open('./새파일.txt','w')\n",
    "for i in range(1,11):\n",
    "    data='{0}번째 줄\\n'.format(i)\n",
    "    f.write(data)\n",
    "f.close()"
   ]
  },
  {
   "cell_type": "markdown",
   "id": "45bf9777",
   "metadata": {},
   "source": [
    "### 외부에 저장된 파일을 읽는 방법"
   ]
  },
  {
   "cell_type": "markdown",
   "id": "10f0bb02",
   "metadata": {},
   "source": [
    "##### readline 함수 활용하기"
   ]
  },
  {
   "cell_type": "code",
   "execution_count": 70,
   "id": "d174d9ec",
   "metadata": {},
   "outputs": [
    {
     "name": "stdout",
     "output_type": "stream",
     "text": [
      "1번째 줄\n",
      "\n"
     ]
    }
   ],
   "source": [
    "f=open('./새파일.txt','r')\n",
    "line=f.readline()\n",
    "print(line)"
   ]
  },
  {
   "cell_type": "code",
   "execution_count": 71,
   "id": "1fe92780",
   "metadata": {},
   "outputs": [
    {
     "data": {
      "text/plain": [
       "'1번째 줄\\n'"
      ]
     },
     "execution_count": 71,
     "metadata": {},
     "output_type": "execute_result"
    }
   ],
   "source": [
    "line"
   ]
  },
  {
   "cell_type": "code",
   "execution_count": 76,
   "id": "81493e82",
   "metadata": {
    "scrolled": true
   },
   "outputs": [
    {
     "name": "stdout",
     "output_type": "stream",
     "text": [
      "1번째 줄\n",
      "2번째 줄\n",
      "3번째 줄\n",
      "4번째 줄\n",
      "5번째 줄\n",
      "6번째 줄\n",
      "7번째 줄\n",
      "8번째 줄\n",
      "9번째 줄\n",
      "10번째 줄\n"
     ]
    }
   ],
   "source": [
    "# 전체 line 읽기\n",
    "f=open('./새파일.txt','r')\n",
    "while True:\n",
    "    line=f.readline()\n",
    "    if not line: \n",
    "        break\n",
    "    print(line, end='')\n",
    "f.close()"
   ]
  },
  {
   "cell_type": "markdown",
   "id": "32a31709",
   "metadata": {},
   "source": [
    "##### readlines 함수 활용하기"
   ]
  },
  {
   "cell_type": "code",
   "execution_count": 77,
   "id": "5481e02d",
   "metadata": {},
   "outputs": [
    {
     "name": "stdout",
     "output_type": "stream",
     "text": [
      "1번째 줄\n",
      "2번째 줄\n",
      "3번째 줄\n",
      "4번째 줄\n",
      "5번째 줄\n",
      "6번째 줄\n",
      "7번째 줄\n",
      "8번째 줄\n",
      "9번째 줄\n",
      "10번째 줄\n"
     ]
    }
   ],
   "source": [
    "f=open('./새파일.txt','r')\n",
    "lines=f.readlines()\n",
    "for i in lines:\n",
    "    print(i, end='')"
   ]
  },
  {
   "cell_type": "code",
   "execution_count": 49,
   "id": "63b2cd16",
   "metadata": {},
   "outputs": [
    {
     "name": "stdout",
     "output_type": "stream",
     "text": [
      "1번째 줄\n",
      "2번째 줄\n",
      "3번째 줄\n",
      "4번째 줄\n",
      "5번째 줄\n",
      "6번째 줄\n",
      "7번째 줄\n",
      "8번째 줄\n",
      "9번째 줄\n",
      "10번째 줄\n"
     ]
    }
   ],
   "source": [
    "# 만약 \\n을 지우고 싶다면?\n",
    "for line in lines:\n",
    "    line=line.strip()  # 띄어쓰기를 없애주는 함수\n",
    "    print(line)"
   ]
  },
  {
   "cell_type": "markdown",
   "id": "7350ff63",
   "metadata": {},
   "source": [
    "### 파일에 새로운 내용 append"
   ]
  },
  {
   "cell_type": "code",
   "execution_count": 51,
   "id": "296e3f3e",
   "metadata": {},
   "outputs": [],
   "source": [
    "f=open('./새파일.txt','a')\n",
    "for i in range(11,26):\n",
    "    append_data=\"%d번째 줄\\n\" % i\n",
    "    f.write(append_data)\n",
    "f.close()"
   ]
  },
  {
   "cell_type": "markdown",
   "id": "61538f79",
   "metadata": {},
   "source": [
    "### with문과 함께 사용하기"
   ]
  },
  {
   "cell_type": "code",
   "execution_count": 55,
   "id": "92f515e8",
   "metadata": {},
   "outputs": [],
   "source": [
    "f=open('./Life.txt','w')\n",
    "f.write('Life is too short, you need python')\n",
    "f.close()"
   ]
  },
  {
   "cell_type": "code",
   "execution_count": 56,
   "id": "64bb629b",
   "metadata": {},
   "outputs": [],
   "source": [
    "# open 과 close를 한 번에 해주는 함수\n",
    "# with문\n",
    "with open('Life.txt','a') as f:\n",
    "    f.write('\\nHello world!')"
   ]
  }
 ],
 "metadata": {
  "kernelspec": {
   "display_name": "Python 3 (ipykernel)",
   "language": "python",
   "name": "python3"
  },
  "language_info": {
   "codemirror_mode": {
    "name": "ipython",
    "version": 3
   },
   "file_extension": ".py",
   "mimetype": "text/x-python",
   "name": "python",
   "nbconvert_exporter": "python",
   "pygments_lexer": "ipython3",
   "version": "3.9.12"
  }
 },
 "nbformat": 4,
 "nbformat_minor": 5
}
