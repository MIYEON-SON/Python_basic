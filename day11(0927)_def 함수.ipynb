{
 "cells": [
  {
   "cell_type": "markdown",
   "id": "914e5e05",
   "metadata": {},
   "source": [
    "# 함수란?"
   ]
  },
  {
   "cell_type": "markdown",
   "id": "d4af3351",
   "metadata": {},
   "source": [
    "코딩을 할 때 '반복적으로 가치가 있게 사용되는 부분'을 한 묶음으로 하여 \"어떠한 값을 입력하면 어떠한 결과값을 돌려준다\"라는 형식의 함수를 의미한다."
   ]
  },
  {
   "cell_type": "code",
   "execution_count": 2,
   "id": "3b39bd4e",
   "metadata": {
    "collapsed": true
   },
   "outputs": [
    {
     "ename": "SyntaxError",
     "evalue": "invalid syntax (2505336499.py, line 4)",
     "output_type": "error",
     "traceback": [
      "\u001b[1;36m  Input \u001b[1;32mIn [2]\u001b[1;36m\u001b[0m\n\u001b[1;33m    <수행할 문장1>\u001b[0m\n\u001b[1;37m    ^\u001b[0m\n\u001b[1;31mSyntaxError\u001b[0m\u001b[1;31m:\u001b[0m invalid syntax\n"
     ]
    }
   ],
   "source": [
    "# 이 코딩은 실행되지 않습니다.\n",
    "\n",
    "def 함수명(매개변수):\n",
    "    <수행할 문장1>\n",
    "    <수행할 문장1>\n",
    "    \n",
    "    ```\n",
    "    return x"
   ]
  },
  {
   "cell_type": "markdown",
   "id": "0aa413c8",
   "metadata": {},
   "source": [
    "간단하지만 함수를 거의 설명해주는 아래의 사례를 보자."
   ]
  },
  {
   "cell_type": "code",
   "execution_count": 3,
   "id": "9043e21b",
   "metadata": {},
   "outputs": [],
   "source": [
    "def add(a,b):\n",
    "    return a+b"
   ]
  },
  {
   "cell_type": "markdown",
   "id": "c36186e5",
   "metadata": {},
   "source": [
    ">\"이 함수의 이름은 add이고, 입력으로 2개의 값을 받으며, 결과값은 2개의 입력을 더한 값\""
   ]
  },
  {
   "cell_type": "code",
   "execution_count": 4,
   "id": "1a93dbac",
   "metadata": {},
   "outputs": [
    {
     "data": {
      "text/plain": [
       "7"
      ]
     },
     "execution_count": 4,
     "metadata": {},
     "output_type": "execute_result"
    }
   ],
   "source": [
    "# 함수 실행 1\n",
    "a=3\n",
    "b=4\n",
    "add(a,b)"
   ]
  },
  {
   "cell_type": "code",
   "execution_count": 5,
   "id": "77e9485c",
   "metadata": {},
   "outputs": [
    {
     "data": {
      "text/plain": [
       "7"
      ]
     },
     "execution_count": 5,
     "metadata": {},
     "output_type": "execute_result"
    }
   ],
   "source": [
    "# 함수 실행 2\n",
    "add(3,4)"
   ]
  },
  {
   "cell_type": "markdown",
   "id": "54a24913",
   "metadata": {},
   "source": [
    "### 매개변수(parameter)와 인수(arguments)"
   ]
  },
  {
   "cell_type": "code",
   "execution_count": 7,
   "id": "47098587",
   "metadata": {},
   "outputs": [
    {
     "name": "stdout",
     "output_type": "stream",
     "text": [
      "4\n"
     ]
    }
   ],
   "source": [
    "def add(x,y):   # x, y는 매개변수\n",
    "    return x+y\n",
    "\n",
    "print(add(1,3))  # 1, 3은 인수"
   ]
  },
  {
   "cell_type": "markdown",
   "id": "9a7044c4",
   "metadata": {},
   "source": [
    "### 입력값과 출력값에 따른 형태"
   ]
  },
  {
   "cell_type": "markdown",
   "id": "7b518af7",
   "metadata": {},
   "source": [
    "> 입력값 --> 함수 --> 출력값"
   ]
  },
  {
   "cell_type": "markdown",
   "id": "9828aae0",
   "metadata": {},
   "source": [
    "### 함수의 1번 유형"
   ]
  },
  {
   "cell_type": "code",
   "execution_count": 8,
   "id": "c264eee7",
   "metadata": {},
   "outputs": [],
   "source": [
    "def add(x,y):\n",
    "    result=x+y\n",
    "    return result"
   ]
  },
  {
   "cell_type": "markdown",
   "id": "c3ee1a66",
   "metadata": {},
   "source": [
    "### 함수의 2번 유형"
   ]
  },
  {
   "cell_type": "markdown",
   "id": "b280a469",
   "metadata": {},
   "source": [
    "##### 입력값이 없는 함수"
   ]
  },
  {
   "cell_type": "code",
   "execution_count": 9,
   "id": "0af04899",
   "metadata": {},
   "outputs": [],
   "source": [
    "def say_hi():\n",
    "    return 'Hi'"
   ]
  },
  {
   "cell_type": "code",
   "execution_count": 11,
   "id": "59ba0dd6",
   "metadata": {},
   "outputs": [
    {
     "name": "stdout",
     "output_type": "stream",
     "text": [
      "Hi\n"
     ]
    }
   ],
   "source": [
    "a=say_hi()\n",
    "print(a)"
   ]
  },
  {
   "cell_type": "markdown",
   "id": "f02e920c",
   "metadata": {},
   "source": [
    "위 함수를 쓰기 위해서는 아무 값도 넣지 말아야 한다. 하지만 이 함수는 결과값으로 Hi라는 문자열을 돌려준다. 이렇게 입력값이 없고 결과값만 존재하는 함수가 존재한다."
   ]
  },
  {
   "cell_type": "markdown",
   "id": "18c8cbc9",
   "metadata": {},
   "source": [
    "### 함수의 3번 유형"
   ]
  },
  {
   "cell_type": "markdown",
   "id": "4f31afc3",
   "metadata": {},
   "source": [
    "##### 출력값이 없는 함수"
   ]
  },
  {
   "cell_type": "code",
   "execution_count": 13,
   "id": "1bc25b0b",
   "metadata": {},
   "outputs": [],
   "source": [
    "def add(a,b):\n",
    "    print(\"%d와 %d의 합은 %d이다.\" % (a,b,a+b))"
   ]
  },
  {
   "cell_type": "code",
   "execution_count": 14,
   "id": "2187289d",
   "metadata": {},
   "outputs": [
    {
     "name": "stdout",
     "output_type": "stream",
     "text": [
      "3와 4의 합은 7이다.\n"
     ]
    }
   ],
   "source": [
    "add(3,4)"
   ]
  },
  {
   "cell_type": "code",
   "execution_count": 16,
   "id": "9b12a804",
   "metadata": {},
   "outputs": [
    {
     "name": "stdout",
     "output_type": "stream",
     "text": [
      "3와 4의 합은 7이다.\n",
      "None\n"
     ]
    }
   ],
   "source": [
    "var1=add(3,4)\n",
    "print(var1)"
   ]
  },
  {
   "cell_type": "markdown",
   "id": "296b7e00",
   "metadata": {},
   "source": [
    "### 함수의 4번 유형"
   ]
  },
  {
   "cell_type": "markdown",
   "id": "9337dd34",
   "metadata": {},
   "source": [
    "##### 입력값도 출력값도 없는 함수"
   ]
  },
  {
   "cell_type": "code",
   "execution_count": 17,
   "id": "4e774f2c",
   "metadata": {},
   "outputs": [],
   "source": [
    "def say():\n",
    "    print('hi')"
   ]
  },
  {
   "cell_type": "code",
   "execution_count": 19,
   "id": "3d126f70",
   "metadata": {},
   "outputs": [
    {
     "name": "stdout",
     "output_type": "stream",
     "text": [
      "hi\n"
     ]
    }
   ],
   "source": [
    "say()"
   ]
  },
  {
   "cell_type": "markdown",
   "id": "cf7a45dc",
   "metadata": {},
   "source": [
    "## 매개변수(parameter) 지정하여 호출하기"
   ]
  },
  {
   "cell_type": "code",
   "execution_count": 20,
   "id": "5d6dc104",
   "metadata": {},
   "outputs": [],
   "source": [
    "def sub(x,y):\n",
    "    return x-y"
   ]
  },
  {
   "cell_type": "code",
   "execution_count": 24,
   "id": "4a28c0d8",
   "metadata": {},
   "outputs": [
    {
     "name": "stdout",
     "output_type": "stream",
     "text": [
      "-4\n"
     ]
    }
   ],
   "source": [
    "result1=sub(3,7)\n",
    "print(result1)"
   ]
  },
  {
   "cell_type": "code",
   "execution_count": 26,
   "id": "572516e6",
   "metadata": {},
   "outputs": [
    {
     "name": "stdout",
     "output_type": "stream",
     "text": [
      "-3\n"
     ]
    }
   ],
   "source": [
    "result2=sub(y=5,x=2)\n",
    "print(result2)"
   ]
  },
  {
   "cell_type": "markdown",
   "id": "e661fb60",
   "metadata": {},
   "source": [
    "## 입력값이 몇 개가 될 지 모를때엔?"
   ]
  },
  {
   "cell_type": "code",
   "execution_count": 27,
   "id": "fd636dd4",
   "metadata": {},
   "outputs": [],
   "source": [
    "def add_many(*args):\n",
    "    result=0\n",
    "    for i in args:\n",
    "        result=result+i\n",
    "    return result"
   ]
  },
  {
   "cell_type": "code",
   "execution_count": 32,
   "id": "1b39f6a0",
   "metadata": {},
   "outputs": [
    {
     "data": {
      "text/plain": [
       "474"
      ]
     },
     "execution_count": 32,
     "metadata": {},
     "output_type": "execute_result"
    }
   ],
   "source": [
    "add_many(3,4,456,5,6)"
   ]
  },
  {
   "cell_type": "markdown",
   "id": "e993b382",
   "metadata": {},
   "source": [
    "위에서 만든 add_many 함수는 입력값이 몇 개이든 상관이 없다. *args처럼 매개변수 이름 앞에 *을 붙이면 입력값을 전부 모아서 튜플로 만들어 주기 때문이다. 만약 add_many(1, 2, 3)처럼 이 함수를 쓰면 args는 (1, 2, 3)이 되고, add_many(1, 2, 3, 4, 5, 6, 7, 8, 9, 10)처럼 쓰면 args는 (1, 2, 3, 4, 5, 6, 7, 8, 9, 10)이 된다. 여기에서 *args는 임의로 정한 변수 이름이다. *pey, *python처럼 아무 이름이나 써도 된다."
   ]
  },
  {
   "cell_type": "code",
   "execution_count": 43,
   "id": "47bde081",
   "metadata": {},
   "outputs": [],
   "source": [
    "# 덧셈과 곱셈을 선택해서 수행할 수 있도록 하는 함수\n",
    "def add_mul(select, *args):\n",
    "    if select=='add':\n",
    "        result=0\n",
    "        for i in args:\n",
    "            result += i\n",
    "    elif select=='mul':\n",
    "        result=1\n",
    "        for i in args:\n",
    "            result *= i\n",
    "    return result"
   ]
  },
  {
   "cell_type": "code",
   "execution_count": 46,
   "id": "96e1f02c",
   "metadata": {},
   "outputs": [
    {
     "data": {
      "text/plain": [
       "10"
      ]
     },
     "execution_count": 46,
     "metadata": {},
     "output_type": "execute_result"
    }
   ],
   "source": [
    "add_mul('add',1,2,3,4)"
   ]
  },
  {
   "cell_type": "code",
   "execution_count": 45,
   "id": "4652727e",
   "metadata": {
    "scrolled": true
   },
   "outputs": [
    {
     "data": {
      "text/plain": [
       "24"
      ]
     },
     "execution_count": 45,
     "metadata": {},
     "output_type": "execute_result"
    }
   ],
   "source": [
    "add_mul('mul',1,2,3,4)"
   ]
  },
  {
   "cell_type": "markdown",
   "id": "10e6ab70",
   "metadata": {},
   "source": [
    "#### 키워드 파라미터 kwargs"
   ]
  },
  {
   "cell_type": "code",
   "execution_count": 47,
   "id": "53c5e163",
   "metadata": {},
   "outputs": [],
   "source": [
    "# 키워드 파라미터 사용시에는 별을 두 개(**) 붙인다.\n",
    "def print_kwargs(**kwargs):\n",
    "    print(kwargs)"
   ]
  },
  {
   "cell_type": "code",
   "execution_count": 48,
   "id": "249cdc97",
   "metadata": {},
   "outputs": [
    {
     "name": "stdout",
     "output_type": "stream",
     "text": [
      "{'a': 1}\n"
     ]
    }
   ],
   "source": [
    "print_kwargs(a=1)"
   ]
  },
  {
   "cell_type": "code",
   "execution_count": 50,
   "id": "2d093026",
   "metadata": {},
   "outputs": [
    {
     "name": "stdout",
     "output_type": "stream",
     "text": [
      "{'name': 'asia', 'age': 3}\n"
     ]
    }
   ],
   "source": [
    "print_kwargs(name='asia', age=3) # dict의 결과로 활용이 가능하다."
   ]
  },
  {
   "cell_type": "markdown",
   "id": "f6780346",
   "metadata": {},
   "source": [
    "### 함수의 결과값은 언제나 하나"
   ]
  },
  {
   "cell_type": "code",
   "execution_count": 51,
   "id": "aecb8922",
   "metadata": {},
   "outputs": [],
   "source": [
    "# return 값에 2개를 입력\n",
    "def add_mul(a,b):\n",
    "    return a+b, a*b"
   ]
  },
  {
   "cell_type": "code",
   "execution_count": 52,
   "id": "af3c984d",
   "metadata": {},
   "outputs": [
    {
     "data": {
      "text/plain": [
       "(7, 12)"
      ]
     },
     "execution_count": 52,
     "metadata": {},
     "output_type": "execute_result"
    }
   ],
   "source": [
    "add_mul(3,4)  # 결과값은 2개의 요소를 가진 튜플 1개"
   ]
  },
  {
   "cell_type": "code",
   "execution_count": 57,
   "id": "34754bcc",
   "metadata": {},
   "outputs": [],
   "source": [
    "# return 값이 2개 존재한다면?\n",
    "def add_mul(a,b):\n",
    "    return a*b  # 이미 def와 return의 페어링이 끝나\n",
    "    return a+b  # 홀로 남은 a+b"
   ]
  },
  {
   "cell_type": "code",
   "execution_count": 58,
   "id": "445b0619",
   "metadata": {
    "scrolled": true
   },
   "outputs": [
    {
     "data": {
      "text/plain": [
       "12"
      ]
     },
     "execution_count": 58,
     "metadata": {},
     "output_type": "execute_result"
    }
   ],
   "source": [
    "result2=add_mul(3,4)\n",
    "result2"
   ]
  },
  {
   "cell_type": "markdown",
   "id": "9891539b",
   "metadata": {},
   "source": [
    "### 매개변수에 초기값 미리 설정 :: default 설정"
   ]
  },
  {
   "cell_type": "code",
   "execution_count": 65,
   "id": "bb033b47",
   "metadata": {},
   "outputs": [],
   "source": [
    "def intro_myself(name, age, woman=True):  # default 값이 가장 마지막에 와야 한다\n",
    "    print(\"제 이름은 %s 입니다.\" % name)\n",
    "    print(\"나이는 %d세 입니다.\" % age)\n",
    "    \n",
    "    if woman:\n",
    "        print(\"여성입니다.\")\n",
    "    else:\n",
    "        print(\"남성입니다.\")"
   ]
  },
  {
   "cell_type": "code",
   "execution_count": 66,
   "id": "cb2efdfa",
   "metadata": {},
   "outputs": [
    {
     "name": "stdout",
     "output_type": "stream",
     "text": [
      "제 이름은 미연 입니다.\n",
      "나이는 20세 입니다.\n",
      "여성입니다.\n"
     ]
    }
   ],
   "source": [
    "intro_myself(name='미연', age=20)"
   ]
  },
  {
   "cell_type": "code",
   "execution_count": 68,
   "id": "e0361d41",
   "metadata": {},
   "outputs": [
    {
     "name": "stdout",
     "output_type": "stream",
     "text": [
      "제 이름은 정원 입니다.\n",
      "나이는 20세 입니다.\n",
      "남성입니다.\n"
     ]
    }
   ],
   "source": [
    "intro_myself(name='정원', age=20, woman=False)"
   ]
  }
 ],
 "metadata": {
  "kernelspec": {
   "display_name": "Python 3 (ipykernel)",
   "language": "python",
   "name": "python3"
  },
  "language_info": {
   "codemirror_mode": {
    "name": "ipython",
    "version": 3
   },
   "file_extension": ".py",
   "mimetype": "text/x-python",
   "name": "python",
   "nbconvert_exporter": "python",
   "pygments_lexer": "ipython3",
   "version": "3.9.12"
  }
 },
 "nbformat": 4,
 "nbformat_minor": 5
}
