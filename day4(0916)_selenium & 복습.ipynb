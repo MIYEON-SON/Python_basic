{
 "cells": [
  {
   "cell_type": "code",
   "execution_count": 2,
   "id": "e1b13c4c",
   "metadata": {},
   "outputs": [],
   "source": [
    "# chrome 창 오른쪽 상단 점세개 클릭-> 설정-Chrome정보-버전 확인\n",
    "# 버전에 맞는 드라이버 파일 chromedriver.exe 다운로드\n",
    "# !pip install selenium "
   ]
  },
  {
   "cell_type": "code",
   "execution_count": 11,
   "id": "1ae35fa9",
   "metadata": {},
   "outputs": [],
   "source": [
    "# site implement\n",
    "\n",
    "from selenium import webdriver\n",
    "from selenium.webdriver.common.keys import Keys\n",
    "from selenium.webdriver.common.by import By\n",
    "\n",
    "driver = webdriver.Chrome() # 함수\n",
    "driver.get(\"http://www.python.org\")\n",
    "assert \"Python\" in driver.title\n",
    "elem = driver.find_element(By.NAME, \"q\")\n",
    "elem.clear()\n",
    "elem.send_keys(\"pycon\")\n",
    "elem.send_keys(Keys.RETURN)\n",
    "assert \"No results found.\" not in driver.page_source\n",
    "driver.close()"
   ]
  },
  {
   "cell_type": "code",
   "execution_count": 19,
   "id": "839cd965",
   "metadata": {},
   "outputs": [],
   "source": [
    "a=\"\"\" life is too short, \\nyou need python \"\"\""
   ]
  },
  {
   "cell_type": "code",
   "execution_count": 20,
   "id": "9f0367ea",
   "metadata": {},
   "outputs": [
    {
     "name": "stdout",
     "output_type": "stream",
     "text": [
      " life is too short, \n",
      "you need python \n"
     ]
    }
   ],
   "source": [
    "print(a)"
   ]
  },
  {
   "cell_type": "markdown",
   "id": "465e6b5a",
   "metadata": {},
   "source": [
    "## 문자열 연산"
   ]
  },
  {
   "cell_type": "markdown",
   "id": "cd407f46",
   "metadata": {},
   "source": [
    "### 문자열 더해서 연결하기"
   ]
  },
  {
   "cell_type": "code",
   "execution_count": 29,
   "id": "e6b17355",
   "metadata": {},
   "outputs": [],
   "source": [
    "head='python'\n",
    "tail=' is fun!'"
   ]
  },
  {
   "cell_type": "code",
   "execution_count": 31,
   "id": "c6274982",
   "metadata": {},
   "outputs": [
    {
     "data": {
      "text/plain": [
       "'python is fun!'"
      ]
     },
     "execution_count": 31,
     "metadata": {},
     "output_type": "execute_result"
    }
   ],
   "source": [
    "head+tail"
   ]
  },
  {
   "cell_type": "markdown",
   "id": "351d4df5",
   "metadata": {},
   "source": [
    "## 문자열 곱하기"
   ]
  },
  {
   "cell_type": "code",
   "execution_count": 32,
   "id": "655861dd",
   "metadata": {},
   "outputs": [
    {
     "data": {
      "text/plain": [
       "'pythonpythonpython'"
      ]
     },
     "execution_count": 32,
     "metadata": {},
     "output_type": "execute_result"
    }
   ],
   "source": [
    "var_1=head*3\n",
    "var_1"
   ]
  },
  {
   "cell_type": "code",
   "execution_count": 44,
   "id": "375637b2",
   "metadata": {},
   "outputs": [
    {
     "name": "stdout",
     "output_type": "stream",
     "text": [
      "========================================\n",
      "              I love python\n",
      "========================================\n"
     ]
    }
   ],
   "source": [
    "print('='*40)\n",
    "print(\"%27s\" % 'I love python')\n",
    "print('='*40)"
   ]
  },
  {
   "cell_type": "code",
   "execution_count": 35,
   "id": "cdea91b6",
   "metadata": {},
   "outputs": [],
   "source": [
    "a = '''Life is too short, you need python'''"
   ]
  },
  {
   "cell_type": "code",
   "execution_count": 38,
   "id": "973e0882",
   "metadata": {},
   "outputs": [
    {
     "data": {
      "text/plain": [
       "'L'"
      ]
     },
     "execution_count": 38,
     "metadata": {},
     "output_type": "execute_result"
    }
   ],
   "source": [
    "a[0]"
   ]
  }
 ],
 "metadata": {
  "kernelspec": {
   "display_name": "Python 3 (ipykernel)",
   "language": "python",
   "name": "python3"
  },
  "language_info": {
   "codemirror_mode": {
    "name": "ipython",
    "version": 3
   },
   "file_extension": ".py",
   "mimetype": "text/x-python",
   "name": "python",
   "nbconvert_exporter": "python",
   "pygments_lexer": "ipython3",
   "version": "3.9.12"
  }
 },
 "nbformat": 4,
 "nbformat_minor": 5
}
