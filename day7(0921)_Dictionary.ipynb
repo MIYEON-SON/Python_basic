{
 "cells": [
  {
   "cell_type": "markdown",
   "id": "b16e88e2",
   "metadata": {},
   "source": [
    "# 딕셔너리란?"
   ]
  },
  {
   "cell_type": "markdown",
   "id": "7f6af9cc",
   "metadata": {},
   "source": [
    "데이터의 경우 사람과 특징을 연관되어 \"이름\"='아시아', '생일'=\"0913\" 등으로 구분될 수 있다. 파이썬에서는 이러한 대응관계를 연관배열(Associative array) 또는 해시(Hash)라고 한다. 이러한 자료형태를 딕셔너리라고 합니다."
   ]
  },
  {
   "cell_type": "markdown",
   "id": "514bd42d",
   "metadata": {},
   "source": [
    "## 딕셔너리의 생성"
   ]
  },
  {
   "cell_type": "markdown",
   "id": "8025354f",
   "metadata": {},
   "source": [
    ">{'key1':value, 'key2':value, 'key3':value}"
   ]
  },
  {
   "cell_type": "code",
   "execution_count": 2,
   "id": "cb7b6083",
   "metadata": {},
   "outputs": [
    {
     "data": {
      "text/plain": [
       "{'이름': '김종국', 'phone': '01012345678', 'birth': '0913'}"
      ]
     },
     "execution_count": 2,
     "metadata": {},
     "output_type": "execute_result"
    }
   ],
   "source": [
    "dic1={'이름':'김종국','phone':'01012345678','birth':'0913'}\n",
    "dic1"
   ]
  },
  {
   "cell_type": "code",
   "execution_count": 1,
   "id": "9d6e15de",
   "metadata": {},
   "outputs": [
    {
     "data": {
      "text/plain": [
       "{'이름': ['신동', '종국', '재석']}"
      ]
     },
     "execution_count": 1,
     "metadata": {},
     "output_type": "execute_result"
    }
   ],
   "source": [
    "dic2={'이름':['신동','종국','재석']}\n",
    "dic2"
   ]
  },
  {
   "cell_type": "code",
   "execution_count": 6,
   "id": "a065b26d",
   "metadata": {},
   "outputs": [
    {
     "ename": "SyntaxError",
     "evalue": "invalid syntax (2089636192.py, line 2)",
     "output_type": "error",
     "traceback": [
      "\u001b[1;36m  Input \u001b[1;32mIn [6]\u001b[1;36m\u001b[0m\n\u001b[1;33m    dic1{0}\u001b[0m\n\u001b[1;37m        ^\u001b[0m\n\u001b[1;31mSyntaxError\u001b[0m\u001b[1;31m:\u001b[0m invalid syntax\n"
     ]
    }
   ],
   "source": [
    "# 딕셔너리의 인덱싱\n",
    "dic1[2]  # 위치기반 인덱싱-positional indexing (X)"
   ]
  },
  {
   "cell_type": "code",
   "execution_count": 8,
   "id": "614a6fc8",
   "metadata": {},
   "outputs": [
    {
     "name": "stdout",
     "output_type": "stream",
     "text": [
      "{'이름': '김종국', 'phone': '01012345678', 'birth': '0913'}\n"
     ]
    },
    {
     "data": {
      "text/plain": [
       "'김종국'"
      ]
     },
     "execution_count": 8,
     "metadata": {},
     "output_type": "execute_result"
    }
   ],
   "source": [
    "# 딕셔너리의 인덱싱\n",
    "print(dic1)\n",
    "dic1['이름']  # 명칭기반 인덱싱-label based indexing (O)"
   ]
  },
  {
   "cell_type": "code",
   "execution_count": 9,
   "id": "207cb0f4",
   "metadata": {},
   "outputs": [
    {
     "data": {
      "text/plain": [
       "'a'"
      ]
     },
     "execution_count": 9,
     "metadata": {},
     "output_type": "execute_result"
    }
   ],
   "source": [
    "# label indexing example2\n",
    "a={1:'a',2:'b'}\n",
    "a[1]"
   ]
  },
  {
   "cell_type": "markdown",
   "id": "56b262f3",
   "metadata": {},
   "source": [
    "## 딕셔너리의 데이터 추가 및 삭제"
   ]
  },
  {
   "cell_type": "code",
   "execution_count": 13,
   "id": "5f190025",
   "metadata": {},
   "outputs": [
    {
     "data": {
      "text/plain": [
       "{1: 'a', 2: 'b', '상담날짜': '0921'}"
      ]
     },
     "execution_count": 13,
     "metadata": {},
     "output_type": "execute_result"
    }
   ],
   "source": [
    "# 데이터 추가\n",
    "a['상담날짜']='0921'\n",
    "a"
   ]
  },
  {
   "cell_type": "code",
   "execution_count": 14,
   "id": "0f9147f7",
   "metadata": {},
   "outputs": [
    {
     "data": {
      "text/plain": [
       "{1: 'a', 2: 'b'}"
      ]
     },
     "execution_count": 14,
     "metadata": {},
     "output_type": "execute_result"
    }
   ],
   "source": [
    "# 데이터 삭제\n",
    "del a['상담날짜']\n",
    "a"
   ]
  },
  {
   "cell_type": "markdown",
   "id": "1be7a551",
   "metadata": {},
   "source": [
    "## 딕셔너리 생성 시 주의사항"
   ]
  },
  {
   "cell_type": "code",
   "execution_count": 17,
   "id": "3b200219",
   "metadata": {},
   "outputs": [
    {
     "data": {
      "text/plain": [
       "{'이름': '신동'}"
      ]
     },
     "execution_count": 17,
     "metadata": {},
     "output_type": "execute_result"
    }
   ],
   "source": [
    "# 같은 이름의 key값을 설정시 맨 마지막 value값이 적용됨\n",
    "b={'이름':'김종국','이름':'신동'}\n",
    "b"
   ]
  },
  {
   "cell_type": "code",
   "execution_count": 24,
   "id": "e782d052",
   "metadata": {},
   "outputs": [
    {
     "ename": "TypeError",
     "evalue": "unhashable type: 'list'",
     "output_type": "error",
     "traceback": [
      "\u001b[1;31m---------------------------------------------------------------------------\u001b[0m",
      "\u001b[1;31mTypeError\u001b[0m                                 Traceback (most recent call last)",
      "Input \u001b[1;32mIn [24]\u001b[0m, in \u001b[0;36m<cell line: 1>\u001b[1;34m()\u001b[0m\n\u001b[1;32m----> 1\u001b[0m x\u001b[38;5;241m=\u001b[39m{\u001b[38;5;124m'\u001b[39m\u001b[38;5;124m회사\u001b[39m\u001b[38;5;124m'\u001b[39m:\u001b[38;5;124m'\u001b[39m\u001b[38;5;124m아시아\u001b[39m\u001b[38;5;124m'\u001b[39m,(\u001b[38;5;241m1\u001b[39m,\u001b[38;5;241m2\u001b[39m,\u001b[38;5;241m3\u001b[39m):\u001b[38;5;124m'\u001b[39m\u001b[38;5;124m숫자\u001b[39m\u001b[38;5;124m'\u001b[39m,[\u001b[38;5;241m1\u001b[39m,\u001b[38;5;241m2\u001b[39m,\u001b[38;5;241m3\u001b[39m]:\u001b[38;5;124m'\u001b[39m\u001b[38;5;124m숫자\u001b[39m\u001b[38;5;124m'\u001b[39m}\n\u001b[0;32m      2\u001b[0m x[(\u001b[38;5;241m1\u001b[39m,\u001b[38;5;241m2\u001b[39m,\u001b[38;5;241m3\u001b[39m)]\n",
      "\u001b[1;31mTypeError\u001b[0m: unhashable type: 'list'"
     ]
    }
   ],
   "source": [
    "x={'회사':'아시아',(1,2,3):'숫자',[1,2,3]:'숫자'}\n",
    "x"
   ]
  },
  {
   "cell_type": "markdown",
   "id": "c66e574e",
   "metadata": {},
   "source": [
    "## 딕셔너리 관련 함수들"
   ]
  },
  {
   "cell_type": "markdown",
   "id": "2ff13266",
   "metadata": {},
   "source": [
    "#### Key 리스트 만들기(Keys)"
   ]
  },
  {
   "cell_type": "code",
   "execution_count": 30,
   "id": "5cb82830",
   "metadata": {},
   "outputs": [
    {
     "name": "stdout",
     "output_type": "stream",
     "text": [
      "dict_keys(['name', 'phone', 'birth'])\n",
      "['name', 'phone', 'birth']\n"
     ]
    }
   ],
   "source": [
    "a={'name':'홍길동','phone':'01012345678','birth':'0921'}\n",
    "print(a.keys())\n",
    "print(list(a.keys()))"
   ]
  },
  {
   "cell_type": "code",
   "execution_count": 27,
   "id": "10cb18b6",
   "metadata": {},
   "outputs": [
    {
     "data": {
      "text/plain": [
       "dict_values(['홍길동', '01012345678', '0921'])"
      ]
     },
     "execution_count": 27,
     "metadata": {},
     "output_type": "execute_result"
    }
   ],
   "source": [
    "a.values()"
   ]
  },
  {
   "cell_type": "code",
   "execution_count": 32,
   "id": "b946478b",
   "metadata": {},
   "outputs": [
    {
     "name": "stdout",
     "output_type": "stream",
     "text": [
      "name\n",
      "phone\n",
      "birth\n"
     ]
    }
   ],
   "source": [
    "# # 향후 살펴볼 for문\n",
    "# for iter in [1,2,3]:\n",
    "#     print(iter)\n",
    "\n",
    "# 위의 dict a의 요소를 for문에 적용시켜보자.\n",
    "\n",
    "for x in list(a.keys()):\n",
    "    print(x)"
   ]
  },
  {
   "cell_type": "markdown",
   "id": "d655705d",
   "metadata": {},
   "source": [
    "#### Value 리스트 만들기(Values)"
   ]
  },
  {
   "cell_type": "code",
   "execution_count": 34,
   "id": "fcb298a7",
   "metadata": {},
   "outputs": [
    {
     "data": {
      "text/plain": [
       "dict_values(['홍길동', '01012345678', '0921'])"
      ]
     },
     "execution_count": 34,
     "metadata": {},
     "output_type": "execute_result"
    }
   ],
   "source": [
    "a.values()"
   ]
  },
  {
   "cell_type": "markdown",
   "id": "ae446750",
   "metadata": {},
   "source": [
    "#### Key, Value 쌍으로 가져오기(items)"
   ]
  },
  {
   "cell_type": "code",
   "execution_count": 36,
   "id": "8c5df1fd",
   "metadata": {},
   "outputs": [
    {
     "data": {
      "text/plain": [
       "[('name', '홍길동'), ('phone', '01012345678'), ('birth', '0921')]"
      ]
     },
     "execution_count": 36,
     "metadata": {},
     "output_type": "execute_result"
    }
   ],
   "source": [
    "list(a.items())"
   ]
  },
  {
   "cell_type": "code",
   "execution_count": 37,
   "id": "0d700b6b",
   "metadata": {},
   "outputs": [
    {
     "name": "stdout",
     "output_type": "stream",
     "text": [
      "1 2\n"
     ]
    }
   ],
   "source": [
    "# 참고\n",
    "# 변수는 아래와 같이도 할당 가능\n",
    "a=1; b=2\n",
    "print(a,b)"
   ]
  },
  {
   "cell_type": "code",
   "execution_count": 38,
   "id": "78b58add",
   "metadata": {},
   "outputs": [
    {
     "name": "stdout",
     "output_type": "stream",
     "text": [
      "5 \n",
      " 6\n"
     ]
    }
   ],
   "source": [
    "c,d=5,6\n",
    "print(c,'\\n',d)"
   ]
  },
  {
   "cell_type": "markdown",
   "id": "561e88f6",
   "metadata": {},
   "source": [
    "#### Key, Value 쌍 모두 지우기(clear)"
   ]
  },
  {
   "cell_type": "code",
   "execution_count": 40,
   "id": "a32bfab1",
   "metadata": {},
   "outputs": [
    {
     "data": {
      "text/plain": [
       "{}"
      ]
     },
     "execution_count": 40,
     "metadata": {},
     "output_type": "execute_result"
    }
   ],
   "source": [
    "a={'name':'홍길동','phone':'01012345678','birth':'0921'}\n",
    "a.clear()\n",
    "a"
   ]
  },
  {
   "cell_type": "markdown",
   "id": "a9c290ab",
   "metadata": {},
   "source": [
    "#### Key로 Value 얻기(get)"
   ]
  },
  {
   "cell_type": "code",
   "execution_count": 45,
   "id": "e7502c4f",
   "metadata": {},
   "outputs": [
    {
     "data": {
      "text/plain": [
       "'nokey'"
      ]
     },
     "execution_count": 45,
     "metadata": {},
     "output_type": "execute_result"
    }
   ],
   "source": [
    "a={'name':'홍길동','phone':'01012345678','birth':'0921'}\n",
    "a.get('name')\n",
    "a.get('ysp')  # 아무 값도 반환되지 않음\n",
    "a.get('ysp','nokey')  # 해당하는 키가 없을 때 "
   ]
  },
  {
   "cell_type": "markdown",
   "id": "e638f426",
   "metadata": {},
   "source": [
    "#### 해당 key가 dict 안에 존재하는지 조사(in)"
   ]
  },
  {
   "cell_type": "code",
   "execution_count": 46,
   "id": "7cac8cf0",
   "metadata": {},
   "outputs": [
    {
     "data": {
      "text/plain": [
       "True"
      ]
     },
     "execution_count": 46,
     "metadata": {},
     "output_type": "execute_result"
    }
   ],
   "source": [
    "'name' in a"
   ]
  },
  {
   "cell_type": "code",
   "execution_count": 47,
   "id": "9f74336d",
   "metadata": {},
   "outputs": [
    {
     "data": {
      "text/plain": [
       "False"
      ]
     },
     "execution_count": 47,
     "metadata": {},
     "output_type": "execute_result"
    }
   ],
   "source": [
    "'email' in a"
   ]
  }
 ],
 "metadata": {
  "kernelspec": {
   "display_name": "Python 3 (ipykernel)",
   "language": "python",
   "name": "python3"
  },
  "language_info": {
   "codemirror_mode": {
    "name": "ipython",
    "version": 3
   },
   "file_extension": ".py",
   "mimetype": "text/x-python",
   "name": "python",
   "nbconvert_exporter": "python",
   "pygments_lexer": "ipython3",
   "version": "3.9.12"
  }
 },
 "nbformat": 4,
 "nbformat_minor": 5
}
