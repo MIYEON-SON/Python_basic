{
 "cells": [
  {
   "cell_type": "code",
   "execution_count": 9,
   "id": "d1efa643",
   "metadata": {},
   "outputs": [
    {
     "data": {
      "text/plain": [
       "array([[1, 2, 3, 4],\n",
       "       [5, 6, 7, 8]])"
      ]
     },
     "execution_count": 9,
     "metadata": {},
     "output_type": "execute_result"
    }
   ],
   "source": [
    "import numpy as np\n",
    "\n",
    "array1 = np.arange(1,9)# 1차원 데이터\n",
    "array1.reshape(-1,4) # 2차원 데이터로의 변환"
   ]
  },
  {
   "cell_type": "code",
   "execution_count": 10,
   "id": "40afea30",
   "metadata": {},
   "outputs": [
    {
     "data": {
      "text/plain": [
       "array([1, 2, 3, 4, 5, 6, 7, 8])"
      ]
     },
     "execution_count": 10,
     "metadata": {},
     "output_type": "execute_result"
    }
   ],
   "source": [
    "# 1차원 -> 3차원\n",
    "\n",
    "array1.reshape(2,2,2) # 3차원의 데이터"
   ]
  },
  {
   "cell_type": "code",
   "execution_count": 17,
   "id": "915fa3c0",
   "metadata": {},
   "outputs": [
    {
     "name": "stdout",
     "output_type": "stream",
     "text": [
      "1차원 데이터: [1 2 3 4 5 6 7 8]\n",
      "2차원 데이터: [[1 2 3 4 5 6 7 8]]\n"
     ]
    }
   ],
   "source": [
    "# 1차원 vs 2차원\n",
    "\n",
    "print('1차원 데이터:',np.arange(1,9)) # (9,)\n",
    "print('2차원 데이터:',np.arange(1,9).reshape(1,-1)) # (1,9)"
   ]
  },
  {
   "cell_type": "markdown",
   "id": "1bd8d63d",
   "metadata": {},
   "source": [
    "### ndarray의 데이터 셋 인덱싱(indexing) "
   ]
  },
  {
   "cell_type": "markdown",
   "id": "e6d0920d",
   "metadata": {},
   "source": [
    "1. 특정 데이터 추출\n",
    "\n",
    "2. 슬라이싱(slicing)\n",
    "\n",
    "3. 팬시 인덱싱(fancy_indexing)\n",
    "\n",
    "4. 불리언 인덱싱(Boolean-indexing)"
   ]
  },
  {
   "cell_type": "markdown",
   "id": "1ad8e7ed",
   "metadata": {},
   "source": [
    "####  1. 특정데이터 추출"
   ]
  },
  {
   "cell_type": "code",
   "execution_count": 21,
   "id": "6aec7b44",
   "metadata": {},
   "outputs": [
    {
     "name": "stdout",
     "output_type": "stream",
     "text": [
      "array1: [1 2 3 4 5 6 7 8 9]\n",
      "<class 'numpy.int32'>\n"
     ]
    }
   ],
   "source": [
    "# 1~ 9까지의 1차원 ndarray를 생성\n",
    "\n",
    "array1 = np.arange(start=1, stop=10)\n",
    "array1\n",
    "print('array1:', array1)\n",
    "\n",
    "# index는 0부터 시작하므로 \n",
    "# array1[2]는 3번째 index위치의 데이터 값을 의미\n",
    "\n",
    "value = array1[2]\n",
    "value\n",
    "\n",
    "print(type(value))"
   ]
  },
  {
   "cell_type": "code",
   "execution_count": 28,
   "id": "daac1bee",
   "metadata": {},
   "outputs": [
    {
     "name": "stdout",
     "output_type": "stream",
     "text": [
      "[[1 2 3]\n",
      " [4 5 6]\n",
      " [7 8 9]]\n",
      "(row=0, col=0) index 가리키는 값: 1\n",
      "(row=0, col=1) index 가리키는 값: 2\n",
      "(row=1, col=0) index 가리키는 값: 4\n",
      "(row=2, col=2) index 가리키는 값: 9\n"
     ]
    }
   ],
   "source": [
    "# 위의 array1을 reshape하여 \n",
    "# 2차원으로 변환\n",
    "array1d = array1.copy()\n",
    "array2d = array1d.reshape(-1,3)\n",
    "print(array2d)\n",
    "\n",
    "# 1,2,4,9를 인덱싱\n",
    "\n",
    "print('(row=0, col=0) index 가리키는 값:', array2d[0,0]) \n",
    "print('(row=0, col=1) index 가리키는 값:', array2d[0,1]) \n",
    "print('(row=1, col=0) index 가리키는 값:', array2d[1,0]) \n",
    "print('(row=2, col=2) index 가리키는 값:', array2d[2,2]) "
   ]
  },
  {
   "cell_type": "markdown",
   "id": "c05c9f9b",
   "metadata": {},
   "source": [
    "####  2. 슬라이싱(slicing)"
   ]
  },
  {
   "cell_type": "code",
   "execution_count": 36,
   "id": "34cf4ddb",
   "metadata": {},
   "outputs": [
    {
     "name": "stdout",
     "output_type": "stream",
     "text": [
      "[1 2 3 4 5 6 7 8 9]\n",
      "[1 2 3]\n",
      "[4 5 6 7 8 9]\n",
      "[1 2 3 4 5 6 7 8 9]\n"
     ]
    }
   ],
   "source": [
    "# 1차원 데이터\n",
    "array1d = np.arange(start = 1, stop = 10)\n",
    "array3 = array1d[0:3]\n",
    "\n",
    "print(array1d)\n",
    "print(array1d[:3])\n",
    "print(array1d[3:])\n",
    "print(array1d[:])"
   ]
  },
  {
   "cell_type": "code",
   "execution_count": 52,
   "id": "299d7fbf",
   "metadata": {
    "scrolled": true
   },
   "outputs": [
    {
     "name": "stdout",
     "output_type": "stream",
     "text": [
      "[[1 2 3]\n",
      " [4 5 6]\n",
      " [7 8 9]]\n",
      "array2d:\n",
      " [1 4]\n",
      "array2d:\n",
      " [[1]\n",
      " [4]]\n"
     ]
    }
   ],
   "source": [
    "# 2차원 데이터\n",
    "array1d\n",
    "array2d = array1d.reshape(3,3)\n",
    "\n",
    "print(array2d)\n",
    "\n",
    "#print('array2d:\\n', array2d[0:2,0:2])\n",
    "# print('array2d:\\n', array2d[1:,:])\n",
    "# print('array2d:\\n', array2d[1:3,0:3])\n",
    "#print('array2d:\\n', array2d[:,:]) # 단서 [] 인덱싱 표시를 활용하여 가져오세요.\n",
    "\n",
    "print('array2d:\\n', array2d[:2,0]) \n",
    "print('array2d:\\n', array2d[:2,0:1]) \n"
   ]
  },
  {
   "cell_type": "markdown",
   "id": "ad8dc452",
   "metadata": {},
   "source": [
    "#### 3. 팬시 인덱싱(Fancy Indexing)"
   ]
  },
  {
   "cell_type": "code",
   "execution_count": 65,
   "id": "de1a0a3a",
   "metadata": {},
   "outputs": [
    {
     "name": "stdout",
     "output_type": "stream",
     "text": [
      "[[1 2 3]\n",
      " [4 5 6]\n",
      " [7 8 9]]\n"
     ]
    }
   ],
   "source": [
    "array1d = np.arange(start = 1, stop=10)\n",
    "array2d = array1d.reshape(3,3)\n",
    "print(array2d)"
   ]
  },
  {
   "cell_type": "code",
   "execution_count": null,
   "id": "0cbfbfc0",
   "metadata": {},
   "outputs": [],
   "source": [
    "[[1,2],[1,2,3]] # 1차원"
   ]
  },
  {
   "cell_type": "code",
   "execution_count": 72,
   "id": "287a00f2",
   "metadata": {},
   "outputs": [
    {
     "name": "stdout",
     "output_type": "stream",
     "text": [
      "array2d[[0,1],2]=> [3 6]\n",
      "array2d[[0,1],0:2]=> \n",
      " [[1 2]\n",
      " [4 5]]\n",
      "array2d[[0,1]]=> \n",
      " [[1 2 3]\n",
      " [4 5 6]]\n"
     ]
    }
   ],
   "source": [
    "print('array2d[[0,1],2]=>',array2d[[0,1],2]) # 1차원의 2열에 해당하는 데이터\n",
    "print('array2d[[0,1],0:2]=>','\\n',array2d[[0,1],0:2]) # 2차원의 0과 1열에 해당 데이터\n",
    "print('array2d[[0,1]]=>','\\n',array2d[[0,1]]) # 열의 자리가 공란이면 전체 데이터"
   ]
  },
  {
   "cell_type": "markdown",
   "id": "db0beefa",
   "metadata": {},
   "source": [
    "#### 4. 불리언 인덱싱(Boolean Indexing)"
   ]
  },
  {
   "cell_type": "code",
   "execution_count": 77,
   "id": "a6681833",
   "metadata": {},
   "outputs": [
    {
     "data": {
      "text/plain": [
       "array([6, 7, 8, 9])"
      ]
     },
     "execution_count": 77,
     "metadata": {},
     "output_type": "execute_result"
    }
   ],
   "source": [
    "array1d = np.arange(1,10)\n",
    "\n",
    "# 5보다 큰 데이터 호출\n",
    "array1d[array1d>5] # 변수명[조건식]"
   ]
  },
  {
   "cell_type": "code",
   "execution_count": 78,
   "id": "8318c155",
   "metadata": {},
   "outputs": [
    {
     "name": "stdout",
     "output_type": "stream",
     "text": [
      "6\n",
      "7\n",
      "8\n",
      "9\n"
     ]
    }
   ],
   "source": [
    "for i in array1d:\n",
    "    if i>5:\n",
    "        print(i)\n",
    "    else:\n",
    "        pass"
   ]
  },
  {
   "cell_type": "code",
   "execution_count": 82,
   "id": "5f9f32cb",
   "metadata": {},
   "outputs": [
    {
     "data": {
      "text/plain": [
       "array([6, 7, 8, 9])"
      ]
     },
     "execution_count": 82,
     "metadata": {},
     "output_type": "execute_result"
    }
   ],
   "source": [
    "# 불리언 자료로 원하는 데이터 호출\n",
    "array1d[np.array([False, False, False, False, False,  True,  True,  True,  True])]"
   ]
  },
  {
   "cell_type": "code",
   "execution_count": 85,
   "id": "cdbdf9b1",
   "metadata": {},
   "outputs": [
    {
     "name": "stdout",
     "output_type": "stream",
     "text": [
      "[1 2 3 4 5 6 7 8 9]\n"
     ]
    },
    {
     "data": {
      "text/plain": [
       "array([6, 7, 8, 9])"
      ]
     },
     "execution_count": 85,
     "metadata": {},
     "output_type": "execute_result"
    }
   ],
   "source": [
    "# 위치값으로 - positional indexing\n",
    "print(array1d)\n",
    "indexes = np.array([5, 6, 7, 8])\n",
    "array1d[indexes]"
   ]
  },
  {
   "cell_type": "markdown",
   "id": "60963e32",
   "metadata": {},
   "source": [
    "### 행렬의 정렬 - sort( )와 argsort( )\n",
    "* 넘파이에서 행렬을 정렬하는 대표적인 방법인 np.sort()와 ndarray.sort(), 그리고 정렬된 행렬의 인덱스를 반환하는 argsort()에 대해서 알아보자."
   ]
  },
  {
   "cell_type": "code",
   "execution_count": 89,
   "id": "db111e1f",
   "metadata": {},
   "outputs": [
    {
     "name": "stdout",
     "output_type": "stream",
     "text": [
      "원본 행렬: [3 1 9 5]\n",
      "np.sort() 호출 후 반환된 정렬 행렬: [1 3 5 9]\n",
      "np.sort() 호출 후 반환된 원본 행렬: [3 1 9 5]\n",
      "ndarray.sort() 호출 후 반환된 정렬 행렬: None\n",
      "ndarray.sort() 호출 후 반환된 원본 행렬: [1 3 5 9]\n"
     ]
    }
   ],
   "source": [
    "org_array = np.array([3,1,9,5])\n",
    "print('원본 행렬:', org_array)\n",
    "\n",
    "# np.sort()로 정렬\n",
    "sort_array1 = np.sort(org_array) # 값을 받음\n",
    "print('np.sort() 호출 후 반환된 정렬 행렬:', sort_array1)\n",
    "print('np.sort() 호출 후 반환된 원본 행렬:', org_array)\n",
    "\n",
    "# ndarray.sort()로 정렬\n",
    "sort_array2 = org_array.sort() # 값을 받나?\n",
    "print('ndarray.sort() 호출 후 반환된 정렬 행렬:', sort_array2)\n",
    "print('ndarray.sort() 호출 후 반환된 원본 행렬:', org_array)"
   ]
  },
  {
   "cell_type": "code",
   "execution_count": 90,
   "id": "86cc3552",
   "metadata": {},
   "outputs": [],
   "source": [
    "# end of file"
   ]
  }
 ],
 "metadata": {
  "kernelspec": {
   "display_name": "Python 3 (ipykernel)",
   "language": "python",
   "name": "python3"
  },
  "language_info": {
   "codemirror_mode": {
    "name": "ipython",
    "version": 3
   },
   "file_extension": ".py",
   "mimetype": "text/x-python",
   "name": "python",
   "nbconvert_exporter": "python",
   "pygments_lexer": "ipython3",
   "version": "3.9.12"
  }
 },
 "nbformat": 4,
 "nbformat_minor": 5
}
