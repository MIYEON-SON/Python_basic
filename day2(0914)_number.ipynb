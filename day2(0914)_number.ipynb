{
 "cells": [
  {
   "cell_type": "markdown",
   "id": "aa8bb7b9-274e-4596-b144-b485e2970a80",
   "metadata": {},
   "source": [
    "# 01. 파이썬 둘러보기"
   ]
  },
  {
   "cell_type": "code",
   "execution_count": 20,
   "id": "3e21f0a4-30ad-4ea4-8110-0e4047d35f51",
   "metadata": {},
   "outputs": [],
   "source": [
    "import warnings  \n",
    "warnings.filterwarnings('ignore')"
   ]
  },
  {
   "cell_type": "code",
   "execution_count": 10,
   "id": "81b77437-18f3-416a-a619-1c9c36e38670",
   "metadata": {},
   "outputs": [
    {
     "name": "stdout",
     "output_type": "stream",
     "text": [
      "8\n",
      "-2\n",
      "15\n",
      "0.6\n"
     ]
    }
   ],
   "source": [
    "## 사칙연산\n",
    "# 덧셈\n",
    "print(3+5)\n",
    "# 뺄셈\n",
    "print(3-5)\n",
    "# 곱셈\n",
    "print(3*5)\n",
    "# 나눗셈\n",
    "print(3/5)"
   ]
  },
  {
   "cell_type": "markdown",
   "id": "8789d3cd",
   "metadata": {},
   "source": [
    "### 변수에 대입한 후 연산"
   ]
  },
  {
   "cell_type": "code",
   "execution_count": 21,
   "id": "8f7c6203-ea82-4945-8a67-40b070b07d28",
   "metadata": {},
   "outputs": [
    {
     "data": {
      "text/plain": [
       "8"
      ]
     },
     "execution_count": 21,
     "metadata": {},
     "output_type": "execute_result"
    }
   ],
   "source": [
    "a=3\n",
    "b=5\n",
    "a+b"
   ]
  },
  {
   "cell_type": "code",
   "execution_count": 22,
   "id": "bbcdd737-c21d-45f6-b9c9-9c453dfeea1a",
   "metadata": {},
   "outputs": [
    {
     "data": {
      "text/plain": [
       "-2"
      ]
     },
     "execution_count": 22,
     "metadata": {},
     "output_type": "execute_result"
    }
   ],
   "source": [
    "a-b"
   ]
  },
  {
   "cell_type": "code",
   "execution_count": 12,
   "id": "ccdc1b61-ca81-4999-90af-e2ce5fcc20a2",
   "metadata": {},
   "outputs": [
    {
     "data": {
      "text/plain": [
       "8"
      ]
     },
     "execution_count": 12,
     "metadata": {},
     "output_type": "execute_result"
    }
   ],
   "source": [
    "a,b=3,5  # a and b is variable\n",
    "a+b"
   ]
  },
  {
   "cell_type": "code",
   "execution_count": 13,
   "id": "e34c4d0a-34ed-4d51-a397-883c7bd6a632",
   "metadata": {},
   "outputs": [
    {
     "name": "stdout",
     "output_type": "stream",
     "text": [
      "python\n"
     ]
    }
   ],
   "source": [
    "# 문자 대입 가능\n",
    "c='python'\n",
    "print(c)"
   ]
  },
  {
   "cell_type": "code",
   "execution_count": 15,
   "id": "c615d302-9d91-43d0-b1cf-3d3ac78a95c8",
   "metadata": {},
   "outputs": [
    {
     "data": {
      "text/plain": [
       "'python'"
      ]
     },
     "execution_count": 15,
     "metadata": {},
     "output_type": "execute_result"
    }
   ],
   "source": [
    "c"
   ]
  },
  {
   "cell_type": "code",
   "execution_count": 18,
   "id": "4aaab624-c532-48b1-9e02-8d41026c7bbe",
   "metadata": {
    "scrolled": true
   },
   "outputs": [
    {
     "data": {
      "text/plain": [
       "[1, '2', 3]"
      ]
     },
     "execution_count": 18,
     "metadata": {},
     "output_type": "execute_result"
    }
   ],
   "source": [
    "# list -> 다른 형태의 값도 함께 묶을 수 있음\n",
    "a=[1,'2',3]\n",
    "a"
   ]
  },
  {
   "cell_type": "markdown",
   "id": "c3aa2aa6",
   "metadata": {},
   "source": [
    "### 조건문 if"
   ]
  },
  {
   "cell_type": "code",
   "execution_count": 3,
   "id": "2468eab3",
   "metadata": {},
   "outputs": [
    {
     "name": "stdout",
     "output_type": "stream",
     "text": [
      "-1\n"
     ]
    }
   ],
   "source": [
    "a=-4  # 변수 할당, 변수 선언\n",
    "if a>1:\n",
    "    print('a is greater than 1')\n",
    "else:\n",
    "    print('-1')"
   ]
  },
  {
   "cell_type": "code",
   "execution_count": 5,
   "id": "d93a1243",
   "metadata": {},
   "outputs": [],
   "source": [
    "a= -1 if a<=1 else 100"
   ]
  },
  {
   "cell_type": "code",
   "execution_count": 6,
   "id": "abdc1394-30dd-4b10-97ed-373bff0fcb3e",
   "metadata": {},
   "outputs": [
    {
     "data": {
      "text/plain": [
       "-1"
      ]
     },
     "execution_count": 6,
     "metadata": {},
     "output_type": "execute_result"
    }
   ],
   "source": [
    "a"
   ]
  },
  {
   "cell_type": "markdown",
   "id": "f4abf0b8",
   "metadata": {},
   "source": [
    "### 반복문 for"
   ]
  },
  {
   "cell_type": "code",
   "execution_count": 24,
   "id": "1dd07906",
   "metadata": {},
   "outputs": [
    {
     "name": "stdout",
     "output_type": "stream",
     "text": [
      "[['ysp', 'ms', 'dh', 'bb']]\n"
     ]
    }
   ],
   "source": [
    "for i in [[l2]]:\n",
    "    print(i)"
   ]
  },
  {
   "cell_type": "code",
   "execution_count": 20,
   "id": "07514be7-b3d0-47a0-bb43-7e6c02c60020",
   "metadata": {},
   "outputs": [],
   "source": [
    "#list\n",
    "l1=[1,2,3]\n",
    "l2 = ['ysp','ms','dh','bb'] \n",
    "#tuple\n",
    "t1={5,7,9}"
   ]
  },
  {
   "cell_type": "code",
   "execution_count": 11,
   "id": "5a09fe1d",
   "metadata": {},
   "outputs": [
    {
     "data": {
      "text/plain": [
       "2"
      ]
     },
     "execution_count": 11,
     "metadata": {},
     "output_type": "execute_result"
    }
   ],
   "source": [
    "l1[1]"
   ]
  },
  {
   "cell_type": "code",
   "execution_count": 17,
   "id": "3da55c0d",
   "metadata": {},
   "outputs": [
    {
     "data": {
      "text/plain": [
       "[1, 2, 8]"
      ]
     },
     "execution_count": 17,
     "metadata": {},
     "output_type": "execute_result"
    }
   ],
   "source": [
    "l1[2]=8 # list는 값 변경 가능\n",
    "l1"
   ]
  },
  {
   "cell_type": "code",
   "execution_count": 18,
   "id": "1f1d3fed",
   "metadata": {
    "scrolled": true
   },
   "outputs": [
    {
     "ename": "TypeError",
     "evalue": "'set' object does not support item assignment",
     "output_type": "error",
     "traceback": [
      "\u001b[1;31m---------------------------------------------------------------------------\u001b[0m",
      "\u001b[1;31mTypeError\u001b[0m                                 Traceback (most recent call last)",
      "Input \u001b[1;32mIn [18]\u001b[0m, in \u001b[0;36m<cell line: 1>\u001b[1;34m()\u001b[0m\n\u001b[1;32m----> 1\u001b[0m t1[\u001b[38;5;241m0\u001b[39m]\u001b[38;5;241m=\u001b[39m\u001b[38;5;241m25\u001b[39m\n",
      "\u001b[1;31mTypeError\u001b[0m: 'set' object does not support item assignment"
     ]
    }
   ],
   "source": [
    "t1[0]=25  # tuple은 값 변경 안됨"
   ]
  },
  {
   "cell_type": "markdown",
   "id": "1715b3cb",
   "metadata": {},
   "source": [
    "### 사용자정의함수 def"
   ]
  },
  {
   "cell_type": "code",
   "execution_count": 25,
   "id": "50f0b878",
   "metadata": {},
   "outputs": [],
   "source": [
    "def add(a,b):\n",
    "    return a+b"
   ]
  },
  {
   "cell_type": "code",
   "execution_count": 26,
   "id": "d6bda380",
   "metadata": {},
   "outputs": [
    {
     "data": {
      "text/plain": [
       "7"
      ]
     },
     "execution_count": 26,
     "metadata": {},
     "output_type": "execute_result"
    }
   ],
   "source": [
    "add(3,4)"
   ]
  },
  {
   "cell_type": "markdown",
   "id": "f60d7b92",
   "metadata": {},
   "source": [
    "### 반복문 while"
   ]
  },
  {
   "cell_type": "code",
   "execution_count": 29,
   "id": "c3dd9124",
   "metadata": {},
   "outputs": [
    {
     "name": "stdout",
     "output_type": "stream",
     "text": [
      "1\n",
      "2\n",
      "3\n",
      "4\n"
     ]
    }
   ],
   "source": [
    "i=0\n",
    "while i<=3:\n",
    "    i=i+1\n",
    "    print(i)"
   ]
  },
  {
   "cell_type": "code",
   "execution_count": null,
   "id": "64da4bba",
   "metadata": {},
   "outputs": [],
   "source": [
    "# 숫자형 연습문제1"
   ]
  },
  {
   "cell_type": "code",
   "execution_count": 31,
   "id": "14e8de04",
   "metadata": {},
   "outputs": [],
   "source": [
    "a,b,c=80,75,55"
   ]
  },
  {
   "cell_type": "code",
   "execution_count": 33,
   "id": "08ea1dee",
   "metadata": {},
   "outputs": [
    {
     "data": {
      "text/plain": [
       "70.0"
      ]
     },
     "execution_count": 33,
     "metadata": {},
     "output_type": "execute_result"
    }
   ],
   "source": [
    "(a+b+c)/3"
   ]
  },
  {
   "cell_type": "code",
   "execution_count": 36,
   "id": "57fed542",
   "metadata": {},
   "outputs": [
    {
     "data": {
      "text/plain": [
       "70.0"
      ]
     },
     "execution_count": 36,
     "metadata": {},
     "output_type": "execute_result"
    }
   ],
   "source": [
    "sum([a,b,c])/len([a,b,c])"
   ]
  },
  {
   "cell_type": "code",
   "execution_count": null,
   "id": "87d32d53",
   "metadata": {},
   "outputs": [],
   "source": [
    "# 숫자형 연습문제2\n",
    "#어떤 자연수가 짝수인지 홀수인지 판별할 수 있는 방법은?"
   ]
  },
  {
   "cell_type": "code",
   "execution_count": 1,
   "id": "ae642a0c",
   "metadata": {},
   "outputs": [
    {
     "name": "stdout",
     "output_type": "stream",
     "text": [
      "홀수\n"
     ]
    }
   ],
   "source": [
    "n=123\n",
    "if n%2 == 0:\n",
    "    print('짝수')\n",
    "else:\n",
    "    print('홀수')"
   ]
  }
 ],
 "metadata": {
  "kernelspec": {
   "display_name": "Python 3 (ipykernel)",
   "language": "python",
   "name": "python3"
  },
  "language_info": {
   "codemirror_mode": {
    "name": "ipython",
    "version": 3
   },
   "file_extension": ".py",
   "mimetype": "text/x-python",
   "name": "python",
   "nbconvert_exporter": "python",
   "pygments_lexer": "ipython3",
   "version": "3.9.12"
  }
 },
 "nbformat": 4,
 "nbformat_minor": 5
}
