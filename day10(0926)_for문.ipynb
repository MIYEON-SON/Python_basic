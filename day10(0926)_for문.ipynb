{
 "cells": [
  {
   "cell_type": "markdown",
   "id": "9e47792d",
   "metadata": {},
   "source": [
    "# for문"
   ]
  },
  {
   "cell_type": "markdown",
   "id": "c806fc5e",
   "metadata": {},
   "source": [
    "## 1. for문의 전형적인 예제"
   ]
  },
  {
   "cell_type": "code",
   "execution_count": 3,
   "id": "c5b5c0b7",
   "metadata": {},
   "outputs": [
    {
     "name": "stdout",
     "output_type": "stream",
     "text": [
      "1\n",
      "2\n",
      "3\n"
     ]
    }
   ],
   "source": [
    "test_l1=[1,2,3]\n",
    "for i in test_l1:\n",
    "    print(i)"
   ]
  },
  {
   "cell_type": "markdown",
   "id": "723a48eb",
   "metadata": {},
   "source": [
    "## 2. 다양한 for문의 활용"
   ]
  },
  {
   "cell_type": "code",
   "execution_count": 5,
   "id": "c66595c9",
   "metadata": {},
   "outputs": [
    {
     "name": "stdout",
     "output_type": "stream",
     "text": [
      "(1, 2)\n",
      "(3, 4)\n",
      "(5, 6)\n"
     ]
    }
   ],
   "source": [
    "a=[(1,2),(3,4),(5,6)]\n",
    "\n",
    "for i in a:\n",
    "    print(i)"
   ]
  },
  {
   "cell_type": "code",
   "execution_count": 12,
   "id": "2619b53c",
   "metadata": {},
   "outputs": [
    {
     "name": "stdout",
     "output_type": "stream",
     "text": [
      "1 2 3\n",
      "3 4 7\n",
      "5 6 11\n"
     ]
    }
   ],
   "source": [
    "for first, last in a:\n",
    "    print(first, last, end= ' ')\n",
    "    #print(last)\n",
    "    print(first +last)"
   ]
  },
  {
   "cell_type": "markdown",
   "id": "24c87d21",
   "metadata": {},
   "source": [
    "## 3. for문의 응용"
   ]
  },
  {
   "cell_type": "markdown",
   "id": "00fda374",
   "metadata": {},
   "source": [
    "총 5명의 학생이 시험을 보았는데 시험 점수가 60점이 넘으면 합격, 그렇지 않으면 불합격이다. 합격인지 불합격인지 결과를 보여 주시오."
   ]
  },
  {
   "cell_type": "code",
   "execution_count": 15,
   "id": "7865c440",
   "metadata": {},
   "outputs": [
    {
     "name": "stdout",
     "output_type": "stream",
     "text": [
      "1번 학생은 합격입니다\n",
      "2번 학생은 불합격입니다\n",
      "3번 학생은 합격입니다\n",
      "4번 학생은 불합격입니다\n",
      "5번 학생은 합격입니다\n"
     ]
    }
   ],
   "source": [
    "# 시험점수를 list로 \n",
    "\n",
    "scores=[90,25,78,45,98]\n",
    "number=0\n",
    "\n",
    "for score in scores:\n",
    "    number=number+1\n",
    "    #print(score)\n",
    "    if score>=60:\n",
    "        print(\"{0}번 학생은 합격입니다\".format(number))\n",
    "    else:\n",
    "        print(\"{0}번 학생은 불합격입니다\".format(number))"
   ]
  },
  {
   "cell_type": "markdown",
   "id": "c185d322",
   "metadata": {},
   "source": [
    "### for문과 continue"
   ]
  },
  {
   "cell_type": "code",
   "execution_count": 19,
   "id": "45d17f68",
   "metadata": {},
   "outputs": [
    {
     "name": "stdout",
     "output_type": "stream",
     "text": [
      "1번 학생은 합격입니다\n",
      "3번 학생은 합격입니다\n",
      "5번 학생은 합격입니다\n"
     ]
    }
   ],
   "source": [
    "# 시험점수를 list로 \n",
    "\n",
    "scores=[90,25,78,45,98]\n",
    "number=0\n",
    "\n",
    "for score in scores:\n",
    "    number=number+1\n",
    "    #print(score)\n",
    "    if score<60:\n",
    "        continue\n",
    "    else:\n",
    "        print(\"{0}번 학생은 합격입니다\".format(number))"
   ]
  },
  {
   "cell_type": "markdown",
   "id": "4a36383a",
   "metadata": {},
   "source": [
    "### for문과 함께 자주 사용하는 range 함수"
   ]
  },
  {
   "cell_type": "code",
   "execution_count": 20,
   "id": "ae023eb5",
   "metadata": {},
   "outputs": [
    {
     "data": {
      "text/plain": [
       "range(0, 10)"
      ]
     },
     "execution_count": 20,
     "metadata": {},
     "output_type": "execute_result"
    }
   ],
   "source": [
    "var1=range(10)\n",
    "var1"
   ]
  },
  {
   "cell_type": "code",
   "execution_count": 22,
   "id": "caabd431",
   "metadata": {},
   "outputs": [
    {
     "data": {
      "text/plain": [
       "array([0, 1, 2, 3, 4, 5, 6, 7, 8, 9])"
      ]
     },
     "execution_count": 22,
     "metadata": {},
     "output_type": "execute_result"
    }
   ],
   "source": [
    "import numpy as np\n",
    "np.arange(0,10)"
   ]
  },
  {
   "cell_type": "code",
   "execution_count": 26,
   "id": "8a81bc31",
   "metadata": {},
   "outputs": [
    {
     "name": "stdout",
     "output_type": "stream",
     "text": [
      "55 "
     ]
    }
   ],
   "source": [
    "# range 예시\n",
    "add=0\n",
    "for i in range(1,11):\n",
    "    add=add+i\n",
    "    \n",
    "print(add,end=' ')"
   ]
  },
  {
   "cell_type": "code",
   "execution_count": 31,
   "id": "178bac0b",
   "metadata": {},
   "outputs": [
    {
     "name": "stdout",
     "output_type": "stream",
     "text": [
      "1번 학생은 합격입니다\n",
      "3번 학생은 합격입니다\n",
      "5번 학생은 합격입니다\n"
     ]
    }
   ],
   "source": [
    "# range를 활용한 합격메시지 프로그래밍\n",
    "# 시험점수를 list로 \n",
    "\n",
    "scores=[90,25,78,45,98]\n",
    "\n",
    "for index in range(len(scores)):\n",
    "    if scores[index]<60:\n",
    "        continue\n",
    "    else:\n",
    "        print(\"{0}번 학생은 합격입니다\".format(index+1))"
   ]
  },
  {
   "cell_type": "markdown",
   "id": "ebb89fa9",
   "metadata": {},
   "source": [
    "### for 와 range를 활용한 구구단 생성"
   ]
  },
  {
   "cell_type": "code",
   "execution_count": 67,
   "id": "00c9268d",
   "metadata": {},
   "outputs": [
    {
     "name": "stdout",
     "output_type": "stream",
     "text": [
      "2 4 6 8 10 12 14 16 18  \n",
      "3 6 9 12 15 18 21 24 27  \n",
      "4 8 12 16 20 24 28 32 36  \n",
      "5 10 15 20 25 30 35 40 45  \n",
      "6 12 18 24 30 36 42 48 54  \n",
      "7 14 21 28 35 42 49 56 63  \n",
      "8 16 24 32 40 48 56 64 72  \n",
      "9 18 27 36 45 54 63 72 81  \n"
     ]
    }
   ],
   "source": [
    "for i in range(2,10):\n",
    "    for j in range(1,10):\n",
    "        print(i*j,end=' ')\n",
    "    print(' ')  # 줄바꿈 효과"
   ]
  },
  {
   "cell_type": "markdown",
   "id": "a60b894d",
   "metadata": {},
   "source": [
    "### 리스트 내포 사용하기"
   ]
  },
  {
   "cell_type": "code",
   "execution_count": 69,
   "id": "03f879b3",
   "metadata": {},
   "outputs": [
    {
     "name": "stdout",
     "output_type": "stream",
     "text": [
      "[3, 6, 9, 12]\n"
     ]
    }
   ],
   "source": [
    "# 빈 리스트 만들어서 원소 추가\n",
    "a=[1,2,3,4]\n",
    "result=[]\n",
    "for i in a:\n",
    "    result.append(i*3)\n",
    "\n",
    "print(result)"
   ]
  },
  {
   "cell_type": "code",
   "execution_count": 72,
   "id": "2f67e7a1",
   "metadata": {},
   "outputs": [],
   "source": [
    "# 리스트 내포 사용하여 리스트 생성\n",
    "a1=[11,22,33,44]\n",
    "result1=[i*3 for i in a1]"
   ]
  },
  {
   "cell_type": "code",
   "execution_count": 74,
   "id": "246f69c2",
   "metadata": {},
   "outputs": [
    {
     "name": "stdout",
     "output_type": "stream",
     "text": [
      "[33, 66, 99, 132]\n"
     ]
    }
   ],
   "source": [
    "print(result1)"
   ]
  },
  {
   "cell_type": "code",
   "execution_count": 79,
   "id": "82afab6f",
   "metadata": {},
   "outputs": [
    {
     "name": "stdout",
     "output_type": "stream",
     "text": [
      "[3, 9]\n"
     ]
    }
   ],
   "source": [
    "# 홀수만 3을 곱해주자\n",
    "l2=[1,2,3,4]\n",
    "result=[i*3 for i in l2 if i%2==1]\n",
    "print(result)"
   ]
  },
  {
   "cell_type": "code",
   "execution_count": 80,
   "id": "ded3c12b",
   "metadata": {},
   "outputs": [
    {
     "name": "stdout",
     "output_type": "stream",
     "text": [
      "[3, 9]\n"
     ]
    }
   ],
   "source": [
    "# 위 식을 전개해보자\n",
    "result=[]\n",
    "for i in l2:\n",
    "    if i%2==1:\n",
    "        result.append(i*3)\n",
    "\n",
    "print(result)"
   ]
  },
  {
   "cell_type": "markdown",
   "id": "c7861311",
   "metadata": {},
   "source": [
    "### Q1 구구단의 모든 결과를 리스트에 담아보자"
   ]
  },
  {
   "cell_type": "code",
   "execution_count": 87,
   "id": "dab8a1e1",
   "metadata": {},
   "outputs": [
    {
     "name": "stdout",
     "output_type": "stream",
     "text": [
      "[2, 4, 6, 8, 10, 12, 14, 16, 18, 3, 6, 9, 12, 15, 18, 21, 24, 27, 4, 8, 12, 16, 20, 24, 28, 32, 36, 5, 10, 15, 20, 25, 30, 35, 40, 45, 6, 12, 18, 24, 30, 36, 42, 48, 54, 7, 14, 21, 28, 35, 42, 49, 56, 63, 8, 16, 24, 32, 40, 48, 56, 64, 72, 9, 18, 27, 36, 45, 54, 63, 72, 81]\n"
     ]
    }
   ],
   "source": [
    "a1=[]\n",
    "for i in range(2,10):\n",
    "    for j in range(1,10):\n",
    "        a1.append(i*j)      \n",
    "print(a1)"
   ]
  },
  {
   "cell_type": "code",
   "execution_count": 109,
   "id": "0569e0f1",
   "metadata": {},
   "outputs": [
    {
     "name": "stdout",
     "output_type": "stream",
     "text": [
      "[2, 4, 6, 8, 10, 12, 14, 16, 18, 3, 6, 9, 12, 15, 18, 21, 24, 27, 4, 8, 12, 16, 20, 24, 28, 32, 36, 5, 10, 15, 20, 25, 30, 35, 40, 45, 6, 12, 18, 24, 30, 36, 42, 48, 54, 7, 14, 21, 28, 35, 42, 49, 56, 63, 8, 16, 24, 32, 40, 48, 56, 64, 72, 9, 18, 27, 36, 45, 54, 63, 72, 81]\n"
     ]
    }
   ],
   "source": [
    "a1_1=[i*j for i in range(2,10)\n",
    "          for j in range(1,10)]\n",
    "print(a1_1)"
   ]
  },
  {
   "cell_type": "markdown",
   "id": "b3939a91",
   "metadata": {},
   "source": [
    "### Q2 for문을 사용해 1부터 100까지의 숫자를 출력 및 더해보자."
   ]
  },
  {
   "cell_type": "code",
   "execution_count": 1,
   "id": "da9a3626",
   "metadata": {},
   "outputs": [
    {
     "data": {
      "text/plain": [
       "5050"
      ]
     },
     "execution_count": 1,
     "metadata": {},
     "output_type": "execute_result"
    }
   ],
   "source": [
    "a2_1=[]\n",
    "for i in range(1,101):    \n",
    "    a2_1.append(i)   \n",
    "\n",
    "sum(a2_1)"
   ]
  },
  {
   "cell_type": "code",
   "execution_count": 123,
   "id": "2a21cba7",
   "metadata": {},
   "outputs": [
    {
     "name": "stdout",
     "output_type": "stream",
     "text": [
      "5050\n"
     ]
    }
   ],
   "source": [
    "add=0\n",
    "for i in range(1,101):\n",
    "    add += i\n",
    "print(add)"
   ]
  },
  {
   "cell_type": "markdown",
   "id": "0179b558",
   "metadata": {},
   "source": [
    "### Q3 빅데이터반 학급 10명의 점수가 아래와 같을 때 for문을 활용하여 평균 점수를 구해보자\n"
   ]
  },
  {
   "cell_type": "code",
   "execution_count": 138,
   "id": "1c23fc5f",
   "metadata": {},
   "outputs": [
    {
     "name": "stdout",
     "output_type": "stream",
     "text": [
      "86.0\n"
     ]
    }
   ],
   "source": [
    "score=[70,60,55,75,95,90,80,80,85,100]\n",
    "sum_s=score[0]\n",
    "for i in score:\n",
    "    sum_s += i\n",
    "mean_s=sum_s/len(score)\n",
    "print(mean_s)"
   ]
  },
  {
   "cell_type": "markdown",
   "id": "274f6591",
   "metadata": {},
   "source": [
    "### Q4 아래의 리스트에서 홀수에만 2를 곱해 저장하는 코드가 아래와 같이 표현되어 있다. 그렇다면 아래의 코드를 리스트 내포로 표현해보자."
   ]
  },
  {
   "cell_type": "code",
   "execution_count": 118,
   "id": "27a912d0",
   "metadata": {},
   "outputs": [
    {
     "data": {
      "text/plain": [
       "10"
      ]
     },
     "execution_count": 118,
     "metadata": {},
     "output_type": "execute_result"
    }
   ],
   "source": [
    "numbers=[1,2,3,4,5]\n",
    "result=[]\n",
    "for n in numbers:\n",
    "    if n%2==1:\n",
    "        result.append(n*2)"
   ]
  },
  {
   "cell_type": "code",
   "execution_count": 133,
   "id": "93db7d7a",
   "metadata": {},
   "outputs": [
    {
     "name": "stdout",
     "output_type": "stream",
     "text": [
      "[2, 6, 10]\n"
     ]
    }
   ],
   "source": [
    "numbers=[1,2,3,4,5]\n",
    "result=[n*2 for n in numbers if n%2==1]\n",
    "print(result)"
   ]
  },
  {
   "cell_type": "code",
   "execution_count": 162,
   "id": "ddd19618",
   "metadata": {},
   "outputs": [
    {
     "name": "stdout",
     "output_type": "stream",
     "text": [
      "[2, 2, 6, 4, 10]\n"
     ]
    }
   ],
   "source": [
    "numbers=[1,2,3,4,5]\n",
    "result2=[n*2 if n%2==1 else n for n in numbers]\n",
    "print(result2)"
   ]
  },
  {
   "cell_type": "markdown",
   "id": "c2bfbdb0",
   "metadata": {},
   "source": [
    "***"
   ]
  },
  {
   "cell_type": "code",
   "execution_count": 163,
   "id": "55bd070b",
   "metadata": {},
   "outputs": [
    {
     "name": "stdout",
     "output_type": "stream",
     "text": [
      "[2, 4, 6, 8, 10, 12, 14, 16, 18, 20]\n",
      "[3, 6, 9, 12, 15, 18, 21, 24, 27, 30]\n",
      "[4, 8, 12, 16, 20, 24, 28, 32, 36, 40]\n",
      "[5, 10, 15, 20, 25, 30, 35, 40, 45, 50]\n",
      "[6, 12, 18, 24, 30, 36, 42, 48, 54, 60]\n",
      "[7, 14, 21, 28, 35, 42, 49, 56, 63, 70]\n",
      "[8, 16, 24, 32, 40, 48, 56, 64, 72, 80]\n",
      "[9, 18, 27, 36, 45, 54, 63, 72, 81, 90]\n",
      "[10, 20, 30, 40, 50, 60, 70, 80, 90, 100]\n",
      "[11, 22, 33, 44, 55, 66, 77, 88, 99, 110]\n"
     ]
    }
   ],
   "source": [
    "multiple = [10*[0] for i in range(1,15)]\n",
    "\n",
    "multiple = []\n",
    "for i in range(1,15):\n",
    "    multiple.append(10*[0])\n",
    "\n",
    "for i in range(0,10):\n",
    "    for j in range(0,10):\n",
    "        multiple[i][j] = (i+2) * (j+1)        \n",
    "    print(multiple[i])  "
   ]
  },
  {
   "cell_type": "code",
   "execution_count": 11,
   "id": "a603a029",
   "metadata": {},
   "outputs": [
    {
     "data": {
      "text/plain": [
       "[1, 2, 3, 4, 5, 6, 7, 8]"
      ]
     },
     "execution_count": 11,
     "metadata": {},
     "output_type": "execute_result"
    }
   ],
   "source": [
    "list(range(1,9))"
   ]
  },
  {
   "cell_type": "code",
   "execution_count": 10,
   "id": "78a006b4",
   "metadata": {},
   "outputs": [
    {
     "name": "stdout",
     "output_type": "stream",
     "text": [
      "[[0, 0, 0, 0, 0, 0, 0, 0, 0], [0, 0, 0, 0, 0, 0, 0, 0, 0], [0, 0, 0, 0, 0, 0, 0, 0, 0], [0, 0, 0, 0, 0, 0, 0, 0, 0], [0, 0, 0, 0, 0, 0, 0, 0, 0], [0, 0, 0, 0, 0, 0, 0, 0, 0], [0, 0, 0, 0, 0, 0, 0, 0, 0], [0, 0, 0, 0, 0, 0, 0, 0, 0]]\n"
     ]
    }
   ],
   "source": [
    "multiple = [9*[0] for i in range(1,9)]\n",
    "print(multiple)"
   ]
  },
  {
   "cell_type": "code",
   "execution_count": 12,
   "id": "5e5ff0f7",
   "metadata": {},
   "outputs": [
    {
     "name": "stdout",
     "output_type": "stream",
     "text": [
      "[2, 4, 6, 8, 10, 12, 14, 16, 18]\n",
      "[3, 6, 9, 12, 15, 18, 21, 24, 27]\n",
      "[4, 8, 12, 16, 20, 24, 28, 32, 36]\n",
      "[5, 10, 15, 20, 25, 30, 35, 40, 45]\n",
      "[6, 12, 18, 24, 30, 36, 42, 48, 54]\n",
      "[7, 14, 21, 28, 35, 42, 49, 56, 63]\n",
      "[8, 16, 24, 32, 40, 48, 56, 64, 72]\n",
      "[9, 18, 27, 36, 45, 54, 63, 72, 81]\n"
     ]
    }
   ],
   "source": [
    "multiple = [9*[0] for i in range(1,9)]\n",
    "\n",
    "for i in range(0,8):\n",
    "    for j in range(0,9):\n",
    "        multiple[i][j] = (i+2) * (j+1)        \n",
    "    print(multiple[i]) "
   ]
  }
 ],
 "metadata": {
  "kernelspec": {
   "display_name": "Python 3 (ipykernel)",
   "language": "python",
   "name": "python3"
  },
  "language_info": {
   "codemirror_mode": {
    "name": "ipython",
    "version": 3
   },
   "file_extension": ".py",
   "mimetype": "text/x-python",
   "name": "python",
   "nbconvert_exporter": "python",
   "pygments_lexer": "ipython3",
   "version": "3.9.12"
  }
 },
 "nbformat": 4,
 "nbformat_minor": 5
}
