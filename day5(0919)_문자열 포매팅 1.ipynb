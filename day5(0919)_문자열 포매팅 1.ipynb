{
 "cells": [
  {
   "cell_type": "markdown",
   "id": "7f159cbe",
   "metadata": {},
   "source": [
    "## 문자열 포매팅 따라하기"
   ]
  },
  {
   "cell_type": "markdown",
   "id": "8f6d2944",
   "metadata": {},
   "source": [
    "### format 함수를 활용한 포매팅"
   ]
  },
  {
   "cell_type": "markdown",
   "id": "702ff8c1",
   "metadata": {},
   "source": [
    "#### 숫자를 바로 대입하기"
   ]
  },
  {
   "cell_type": "code",
   "execution_count": 1,
   "id": "52aee269",
   "metadata": {},
   "outputs": [
    {
     "data": {
      "text/plain": [
       "'I eat 3 apples'"
      ]
     },
     "execution_count": 1,
     "metadata": {},
     "output_type": "execute_result"
    }
   ],
   "source": [
    "\"I eat {0} apples\".format(3)"
   ]
  },
  {
   "cell_type": "markdown",
   "id": "71bd8388",
   "metadata": {},
   "source": [
    "#### 문자를 바로 대입하기"
   ]
  },
  {
   "cell_type": "code",
   "execution_count": 2,
   "id": "ac4d4343",
   "metadata": {},
   "outputs": [
    {
     "data": {
      "text/plain": [
       "'I eat five apples'"
      ]
     },
     "execution_count": 2,
     "metadata": {},
     "output_type": "execute_result"
    }
   ],
   "source": [
    "\"I eat {0} apples\".format('five')"
   ]
  },
  {
   "cell_type": "markdown",
   "id": "ee490e91",
   "metadata": {},
   "source": [
    "#### 변수를 활용한 대입"
   ]
  },
  {
   "cell_type": "code",
   "execution_count": 4,
   "id": "7dce7806",
   "metadata": {},
   "outputs": [
    {
     "data": {
      "text/plain": [
       "'I eat 100 apples'"
      ]
     },
     "execution_count": 4,
     "metadata": {},
     "output_type": "execute_result"
    }
   ],
   "source": [
    "num=100\n",
    "\"I eat {0} apples\".format(num)"
   ]
  },
  {
   "cell_type": "markdown",
   "id": "601bc59f",
   "metadata": {},
   "source": [
    "#### 2개 이상의 값을 넣기"
   ]
  },
  {
   "cell_type": "code",
   "execution_count": 5,
   "id": "a5042ceb",
   "metadata": {},
   "outputs": [
    {
     "data": {
      "text/plain": [
       "'I eat 100 apples. so I was sick for three days'"
      ]
     },
     "execution_count": 5,
     "metadata": {},
     "output_type": "execute_result"
    }
   ],
   "source": [
    "# 미리 변수를 설정한 후 대입- 1\n",
    "num=100\n",
    "day='three'\n",
    "\n",
    "\"I ate {0} apples. so I was sick for {1} days\".format(num,day)"
   ]
  },
  {
   "cell_type": "code",
   "execution_count": 7,
   "id": "bbe06ef6",
   "metadata": {},
   "outputs": [
    {
     "data": {
      "text/plain": [
       "'I ate 10 apples. so I was sick for 5 days'"
      ]
     },
     "execution_count": 7,
     "metadata": {},
     "output_type": "execute_result"
    }
   ],
   "source": [
    "# format 함수 내에서 파라미터(매개변수)처럼 활용- 2\n",
    "\n",
    "\"I ate {number} apples. so I was sick for {date} days\".format(number=10,date=5)"
   ]
  },
  {
   "cell_type": "code",
   "execution_count": 10,
   "id": "db07fdac",
   "metadata": {},
   "outputs": [
    {
     "data": {
      "text/plain": [
       "'I ate 10 apples. so I was sick for 5 days'"
      ]
     },
     "execution_count": 10,
     "metadata": {},
     "output_type": "execute_result"
    }
   ],
   "source": [
    "# 1번과 2번을 합쳐서 활용 가능\n",
    "\n",
    "\"I ate {:1} apples. so I was sick for {date} days\".format(10,date=5)"
   ]
  },
  {
   "cell_type": "markdown",
   "id": "98cb3c99",
   "metadata": {},
   "source": [
    "### format 함수를 활용한 정렬"
   ]
  },
  {
   "cell_type": "markdown",
   "id": "88e23f00",
   "metadata": {},
   "source": [
    "#### 왼쪽 정렬"
   ]
  },
  {
   "cell_type": "code",
   "execution_count": 15,
   "id": "fb2272a5",
   "metadata": {},
   "outputs": [
    {
     "data": {
      "text/plain": [
       "'Hi        '"
      ]
     },
     "execution_count": 15,
     "metadata": {},
     "output_type": "execute_result"
    }
   ],
   "source": [
    "\"{0:<10}\".format('Hi')"
   ]
  },
  {
   "cell_type": "markdown",
   "id": "936c87ae",
   "metadata": {},
   "source": [
    "#### 오른쪽 정렬"
   ]
  },
  {
   "cell_type": "code",
   "execution_count": 14,
   "id": "13f8ef5f",
   "metadata": {},
   "outputs": [
    {
     "data": {
      "text/plain": [
       "'        Hi'"
      ]
     },
     "execution_count": 14,
     "metadata": {},
     "output_type": "execute_result"
    }
   ],
   "source": [
    "\"{0:>10}\".format('Hi')"
   ]
  },
  {
   "cell_type": "markdown",
   "id": "b20e4e29",
   "metadata": {},
   "source": [
    "#### 가운데 정렬"
   ]
  },
  {
   "cell_type": "code",
   "execution_count": 16,
   "id": "089862dc",
   "metadata": {},
   "outputs": [
    {
     "data": {
      "text/plain": [
       "'    Hi    '"
      ]
     },
     "execution_count": 16,
     "metadata": {},
     "output_type": "execute_result"
    }
   ],
   "source": [
    "\"{0:^10}\".format('Hi')"
   ]
  },
  {
   "cell_type": "markdown",
   "id": "a517c9df",
   "metadata": {},
   "source": [
    "##### 응용편"
   ]
  },
  {
   "cell_type": "code",
   "execution_count": 20,
   "id": "4a1cdeea",
   "metadata": {},
   "outputs": [
    {
     "data": {
      "text/plain": [
       "'****Hi****'"
      ]
     },
     "execution_count": 20,
     "metadata": {},
     "output_type": "execute_result"
    }
   ],
   "source": [
    "\"{0:*^10}\".format('Hi')"
   ]
  },
  {
   "cell_type": "code",
   "execution_count": 22,
   "id": "50ac8ea2",
   "metadata": {},
   "outputs": [
    {
     "data": {
      "text/plain": [
       "'님 나 아심????'"
      ]
     },
     "execution_count": 22,
     "metadata": {},
     "output_type": "execute_result"
    }
   ],
   "source": [
    "\"{0:?<10}\".format('님 나 아심')"
   ]
  },
  {
   "cell_type": "markdown",
   "id": "b277825c",
   "metadata": {},
   "source": [
    "##### 소수점 또는 문자 표현"
   ]
  },
  {
   "cell_type": "code",
   "execution_count": 25,
   "id": "a0a85934",
   "metadata": {},
   "outputs": [
    {
     "data": {
      "text/plain": [
       "'   168.912'"
      ]
     },
     "execution_count": 25,
     "metadata": {},
     "output_type": "execute_result"
    }
   ],
   "source": [
    "# height\n",
    "height=168.912345  # 연속형 자료\n",
    "\"{0:10.3f}\".format(height)"
   ]
  },
  {
   "cell_type": "code",
   "execution_count": 27,
   "id": "223ebd5d",
   "metadata": {},
   "outputs": [
    {
     "data": {
      "text/plain": [
       "'{and}는 그리고 라는 뜻 입니다'"
      ]
     },
     "execution_count": 27,
     "metadata": {},
     "output_type": "execute_result"
    }
   ],
   "source": [
    "'{and}는 그리고 라는 뜻 입니다'"
   ]
  },
  {
   "cell_type": "code",
   "execution_count": 29,
   "id": "579b73df",
   "metadata": {},
   "outputs": [
    {
     "data": {
      "text/plain": [
       "'{and}는 그리고 라는 뜻 입니다'"
      ]
     },
     "execution_count": 29,
     "metadata": {},
     "output_type": "execute_result"
    }
   ],
   "source": [
    "'{{and}}는 그리고 라는 뜻 입니다'.format()"
   ]
  },
  {
   "cell_type": "markdown",
   "id": "b57a285f",
   "metadata": {},
   "source": [
    "### f 문자열 포매팅"
   ]
  },
  {
   "cell_type": "code",
   "execution_count": 30,
   "id": "b9068d37",
   "metadata": {},
   "outputs": [
    {
     "data": {
      "text/plain": [
       "'제 이름은 홍길동입니다. 나이는 20입니다.'"
      ]
     },
     "execution_count": 30,
     "metadata": {},
     "output_type": "execute_result"
    }
   ],
   "source": [
    "# python 3.6 버전부터..\n",
    "name='홍길동'\n",
    "age=20\n",
    "f'제 이름은 {name}입니다. 나이는 {age}입니다.'"
   ]
  },
  {
   "cell_type": "code",
   "execution_count": 1,
   "id": "45f4aede",
   "metadata": {},
   "outputs": [
    {
     "data": {
      "text/plain": [
       "'저는 내년이면 30 입니다.'"
      ]
     },
     "execution_count": 1,
     "metadata": {},
     "output_type": "execute_result"
    }
   ],
   "source": [
    "# 참조 가능\n",
    "age=29\n",
    "f'저는 내년이면 {age+1} 입니다.'"
   ]
  },
  {
   "cell_type": "code",
   "execution_count": 38,
   "id": "41d504f1",
   "metadata": {},
   "outputs": [
    {
     "name": "stdout",
     "output_type": "stream",
     "text": [
      "hi        \n",
      "        hi\n",
      "    hi    \n"
     ]
    }
   ],
   "source": [
    "# f 포매팅 정렬\n",
    "print(f'{\"hi\":<10}')  # 왼쪽 정렬\n",
    "print(f'{\"hi\":>10}')  # 오른쪽 정렬\n",
    "print(f'{\"hi\":^10}')  # 가운데 정렬"
   ]
  }
 ],
 "metadata": {
  "kernelspec": {
   "display_name": "Python 3 (ipykernel)",
   "language": "python",
   "name": "python3"
  },
  "language_info": {
   "codemirror_mode": {
    "name": "ipython",
    "version": 3
   },
   "file_extension": ".py",
   "mimetype": "text/x-python",
   "name": "python",
   "nbconvert_exporter": "python",
   "pygments_lexer": "ipython3",
   "version": "3.9.12"
  }
 },
 "nbformat": 4,
 "nbformat_minor": 5
}
