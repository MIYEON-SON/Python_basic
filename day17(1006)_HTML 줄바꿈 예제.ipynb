{
 "cells": [
  {
   "cell_type": "code",
   "execution_count": 1,
   "id": "42870cf6",
   "metadata": {},
   "outputs": [
    {
     "name": "stdout",
     "output_type": "stream",
     "text": [
      "Writing C:/Users/ASIA-16/br_example_constitution.html\n"
     ]
    }
   ],
   "source": [
    "%%writefile C:/Users/ASIA-16/br_example_constitution.html\n",
    "<!doctype html>\n",
    "<html>\n",
    "  <head>\n",
    "    <meta charset=\"utf-8\">\n",
    "    <title>줄 바꿈 테스트 예제</title>\n",
    "  </head>\n",
    "  <body>\n",
    "  <p id=\"title\"><b>대한민국헌법</b></p>\n",
    "  <p id=\"content\">제1조 <br/>①대한민국은 민주공화국이다.<br/>②대한민국의 주권은 국민에게 있고, 모든 권력은 국민으로부터 나온다.</p>\n",
    "  <p id=\"content\">제2조 <br/>①대한민국의 국민이 되는 요건은 법률로 정한다.<br/>②국가는 법률이 정하는 바에 의하여 재외국민을 보호할 의무를 진다.</p>\n",
    "  </body>\n",
    "</html>"
   ]
  },
  {
   "cell_type": "code",
   "execution_count": 30,
   "id": "54f3a594",
   "metadata": {},
   "outputs": [],
   "source": [
    "import requests as req\n",
    "from bs4 import BeautifulSoup\n",
    "\n",
    "url='https://tbever.com/%EA%B5%AD%EB%82%B4-%EC%9B%B9%EC%82%AC%EC%9D%B4%ED%8A%B8-%EB%9E%AD%ED%82%B9-top50/'\n",
    "req.get(url).text\n",
    "\n",
    "html_website_ranking=req.get(url).text # 해당 사이트에서 text를 가져옴.\n",
    "\n",
    "# Parsing\n",
    "soup_website_ranking=BeautifulSoup(html_website_ranking,'lxml')\n",
    "\n",
    "# p태그 요소 안에 span 하위의 a태그의 요소를 찾는다\n",
    "web_ranking=soup_website_ranking.select('p span')"
   ]
  },
  {
   "cell_type": "code",
   "execution_count": 35,
   "id": "ed8849b4",
   "metadata": {},
   "outputs": [
    {
     "data": {
      "text/plain": [
       "[<span style=\"color: #000000\">2020년 6월 기준</span>,\n",
       " <span style=\"color: #000000\"><strong>국내 웹사이트 접속자 랭킹 TOP50</strong>을 살펴봤어.</span>,\n",
       " <span style=\"color: #000000\">수치가 100% 정확하다고 볼 수는 없지만,</span>,\n",
       " <span style=\"color: #000000\">그래도 접속자 랭킹을 알아보는 웹사이트 중에서는</span>,\n",
       " <span style=\"color: #000000\">시밀러웹(<span style=\"color: #0000ff\"><a class=\"broken_link\" href=\"https://www.similarweb.com/\" rel=\"noopener noreferrer\" style=\"color: #0000ff\" target=\"_blank\">Similar Web</a></span>)이 가장 알려져 있고 공신력이 있어서</span>,\n",
       " <span style=\"color: #0000ff\"><a class=\"broken_link\" href=\"https://www.similarweb.com/\" rel=\"noopener noreferrer\" style=\"color: #0000ff\" target=\"_blank\">Similar Web</a></span>,\n",
       " <span style=\"color: #000000\">참고 정도로 보면 좋음.</span>,\n",
       " <span style=\"color: #000000\">01위. 네이버. <a href=\"https://naver.com\" rel=\"noopener noreferrer\" target=\"_blank\">https://naver.com</a></span>,\n",
       " <span style=\"color: #000000\">02위. 구글닷컴. <a href=\"https://google.com\" rel=\"noopener noreferrer\" target=\"_blank\">https://google.com</a></span>,\n",
       " <span style=\"color: #000000\">03위. 유튜브. <a href=\"https://youtube.com\" rel=\"noopener noreferrer\" target=\"_blank\">https://youtube.com</a></span>,\n",
       " <span style=\"color: #000000\">04위. 다음. <a href=\"https://daum.net\" rel=\"noopener noreferrer\" target=\"_blank\">https://daum.net</a></span>,\n",
       " <span style=\"color: #000000\">05위. 페이스북. <a href=\"https://facebook.com\" rel=\"noopener noreferrer\" target=\"_blank\">https://facebook.com</a></span>,\n",
       " <span style=\"color: #000000\">06위. 네이버뉴스. <a href=\"https://news.naver.com\" rel=\"noopener noreferrer\" target=\"_blank\">https://news.naver.com</a></span>,\n",
       " <span style=\"color: #000000\">07위. 디씨인사이드. <a href=\"https://dcinside.com\" rel=\"noopener noreferrer\" target=\"_blank\">https://dcinside.com</a></span>,\n",
       " <span style=\"color: #000000\">08위. 구글코리아. <a href=\"https://google.co.kr\" rel=\"noopener noreferrer\" target=\"_blank\">https://google.co.kr</a></span>,\n",
       " <span style=\"color: #000000\">09위. 트위터. <a href=\"https://twitter.com\" rel=\"noopener noreferrer\" target=\"_blank\">https://twitter.com</a></span>,\n",
       " <span style=\"color: #000000\">10위. 네이버쇼핑. <a href=\"https://shopping.naver.com\" rel=\"noopener noreferrer\" target=\"_blank\">https://shopping.naver.com</a></span>,\n",
       " <span style=\"color: #000000\">11위. 네이버지도. <a href=\"https://map.naver.com\" rel=\"noopener noreferrer\" target=\"_blank\">https://map.naver.com</a></span>,\n",
       " <span style=\"color: #000000\">12위. 티스토리. <a href=\"https://tistory.com\" rel=\"noopener noreferrer\" target=\"_blank\">https://tistory.com</a></span>,\n",
       " <span style=\"color: #000000\">13위. 쿠팡. <a href=\"https://www.coupang.com\" rel=\"noopener noreferrer\" target=\"_blank\">https://www.coupang.com</a></span>,\n",
       " <span style=\"color: #000000\">14위. 카카오. <a href=\"https://www.kakaocorp.com\" rel=\"noopener noreferrer\" target=\"_blank\">https://www.kakaocorp.com</a></span>,\n",
       " <span style=\"color: #000000\">15위. 루리웹. <a href=\"https://ruliweb.com\" rel=\"noopener noreferrer\" target=\"_blank\">https://ruliweb.com</a></span>,\n",
       " <span style=\"color: #000000\">16위. 인스타그램. <a href=\"https://www.instagram.com\" rel=\"noopener noreferrer\" target=\"_blank\">https://www.instagram.com</a></span>,\n",
       " <span style=\"color: #000000\">17위. 나무위키. <a href=\"https://namu.wiki\" rel=\"noopener noreferrer\" target=\"_blank\">https://namu.wiki</a></span>,\n",
       " <span style=\"color: #000000\">18위. 네이트. <a href=\"https://www.nate.com\" rel=\"noopener noreferrer\" target=\"_blank\">https://www.nate.com</a></span>,\n",
       " <span style=\"color: #000000\">19위. 에펨코리아. <a href=\"https://www.fmkorea.com\" rel=\"noopener noreferrer\" target=\"_blank\">https://www.fmkorea.com</a></span>,\n",
       " <span style=\"color: #000000\">20위. 뽐뿌. <a href=\"http://ppomppu.co.kr\" rel=\"noopener noreferrer\" target=\"_blank\">http://ppomppu.co.kr</a></span>,\n",
       " <span style=\"color: #000000\">티스토리가 12위에 ㄷㄷ</span>,\n",
       " <span style=\"color: #000000\">아직 건재하다는걸 보여주고 있음.</span>,\n",
       " <span style=\"color: #000000\">21위. 동아닷컴. <a href=\"https://www.donga.com\" rel=\"noopener noreferrer\" target=\"_blank\">https://www.donga.com</a></span>,\n",
       " <span style=\"color: #000000\">22위. 옥션. <a href=\"http://auction.co.kr\" rel=\"noopener noreferrer\" target=\"_blank\">http://auction.co.kr</a></span>,\n",
       " <span style=\"color: #000000\">23위. 폰허브. pornhub.com</span>,\n",
       " <span style=\"color: #000000\">24위. 11번가. <a href=\"https://www.11st.co.kr\" rel=\"noopener noreferrer\" target=\"_blank\">https://www.11st.co.kr</a></span>,\n",
       " <span style=\"color: #000000\">25위. 지마켓. <a href=\"https://www.gmarket.co.kr\" rel=\"noopener noreferrer\" target=\"_blank\">https://www.gmarket.co.kr</a></span>,\n",
       " <span style=\"color: #000000\">26위. 에듀넷. <a href=\"http://info.edunet.net\" rel=\"noopener noreferrer\" target=\"_blank\">http://info.edunet.net</a></span>,\n",
       " <span style=\"color: #000000\">27위. 아프리카TV. <a href=\"http://afreecatv.com\" rel=\"noopener noreferrer\" target=\"_blank\">http://afreecatv.com</a></span>,\n",
       " <span style=\"color: #000000\">28위. 이솦. <a href=\"http://ebssw.kr\" rel=\"noopener noreferrer\" target=\"_blank\">http://ebssw.kr</a></span>,\n",
       " <span style=\"color: #000000\">29위. 인벤. <a href=\"http://www.inven.co.kr\" rel=\"noopener noreferrer\" target=\"_blank\">http://www.inven.co.kr</a></span>,\n",
       " <span style=\"color: #000000\">30위. 네이버금융. <a href=\"https://finance.naver.com\" rel=\"noopener noreferrer\" target=\"_blank\">https://finance.naver.com</a></span>,\n",
       " <span style=\"color: #000000\">31위. 더쿠. <a href=\"https://theqoo.net\" rel=\"noopener noreferrer\" target=\"_blank\">https://theqoo.net</a></span>,\n",
       " <span style=\"color: #000000\">32위. 클리앙. <a href=\"https://www.clien.net\" rel=\"noopener noreferrer\" target=\"_blank\">https://www.clien.net</a></span>,\n",
       " <span style=\"color: #000000\">33위. 이토랜드. <a href=\"http://etoland.co.kr\" rel=\"noopener noreferrer\" target=\"_blank\">http://etoland.co.kr</a></span>,\n",
       " <span style=\"color: #000000\">34위. 네이버스포츠. <a href=\"https://sports.news.naver.com\" rel=\"noopener noreferrer\" target=\"_blank\">https://sports.news.naver.com</a></span>,\n",
       " <span style=\"color: #000000\">35위. 조선닷컴. <a href=\"http://www.chosun.com\" rel=\"noopener noreferrer\" target=\"_blank\">http://www.chosun.com</a></span>,\n",
       " <span style=\"color: #000000\">36위. 일베. <a href=\"https://www.ilbe.com\" rel=\"noopener noreferrer\" target=\"_blank\">https://www.ilbe.com</a></span>,\n",
       " <span style=\"color: #000000\">37위. 네이트뉴스. <a href=\"https://news.nate.com\" rel=\"noopener noreferrer\" target=\"_blank\">https://news.nate.com</a></span>,\n",
       " <span style=\"color: #000000\">38위. 다나와닷컴. <a href=\"http://danawa.com\" rel=\"noopener noreferrer\" target=\"_blank\">http://danawa.com</a></span>,\n",
       " <span style=\"color: #000000\">39위. 티몬. <a href=\"https://www.tmon.co.kr\" rel=\"noopener noreferrer\" target=\"_blank\">https://www.tmon.co.kr</a></span>,\n",
       " <span style=\"color: #000000\">40위. 트위치. <a href=\"https://www.twitch.tv\" rel=\"noopener noreferrer\" target=\"_blank\">https://www.twitch.tv</a></span>,\n",
       " <span style=\"color: #000000\">41위. 보배드림. <a href=\"https://bobaedream.co.kr\" rel=\"noopener noreferrer\" target=\"_blank\">https://bobaedream.co.kr</a></span>,\n",
       " <span style=\"color: #000000\">42위. 유플러스. <a href=\"http://www.uplus.co.kr\" rel=\"noopener noreferrer\" target=\"_blank\">http://www.uplus.co.kr</a></span>,\n",
       " <span style=\"color: #000000\">43위. 조인스프라임. <a href=\"https://www.joins.com\" rel=\"noopener noreferrer\" target=\"_blank\">https://www.joins.com</a></span>,\n",
       " <span style=\"color: #000000\">44위. 넥슨. <a href=\"https://www.nexon.com\" rel=\"noopener noreferrer\" target=\"_blank\">https://www.nexon.com</a></span>,\n",
       " <span style=\"color: #000000\">45위. 위메프. <a href=\"https://front.wemakeprice.com\" rel=\"noopener noreferrer\" target=\"_blank\">https://front.wemakeprice.com</a></span>,\n",
       " <span style=\"color: #000000\">46위. 인터파크. <a href=\"http://interpark.com\" rel=\"noopener noreferrer\" target=\"_blank\">http://interpark.com</a></span>,\n",
       " <span style=\"color: #000000\">47위. 위키배과. <a href=\"https://www.wikipedia.org\" rel=\"noopener noreferrer\" target=\"_blank\">https://www.wikipedia.org</a></span>,\n",
       " <span style=\"color: #000000\">48위. 웃대. <a href=\"http://web.humoruniv.com\" rel=\"noopener noreferrer\" target=\"_blank\">http://web.humoruniv.com</a></span>,\n",
       " <span style=\"color: #000000\">49위. 오버워치 전적검색. <a href=\"https://www.op.gg\" rel=\"noopener noreferrer\" target=\"_blank\">https://www.op.gg</a></span>,\n",
       " <span style=\"color: #000000\">50위. x비디오. xvideo.com</span>,\n",
       " <span style=\"color: #000000\"># 참고 링크.</span>,\n",
       " <span style=\"color: #000000\"><a href=\"https://www.similarweb.com/top-websites/korea--republic-of/\" rel=\"noopener noreferrer\" target=\"_blank\">시밀러웹(Similar Web) 대한민국 웹사이트 랭킹</a>.</span>,\n",
       " <span id=\"email-notes\">이메일 주소는 공개되지 않습니다.</span>,\n",
       " <span aria-hidden=\"true\" class=\"required-field-message\">필수 필드는 <span aria-hidden=\"true\" class=\"required\">*</span>로 표시됩니다</span>,\n",
       " <span aria-hidden=\"true\" class=\"required\">*</span>,\n",
       " <span aria-hidden=\"true\" class=\"required\">*</span>,\n",
       " <span aria-hidden=\"true\" class=\"required\">*</span>,\n",
       " <span aria-hidden=\"true\" class=\"required\">*</span>]"
      ]
     },
     "execution_count": 35,
     "metadata": {},
     "output_type": "execute_result"
    }
   ],
   "source": [
    "web_ranking[:]"
   ]
  },
  {
   "cell_type": "code",
   "execution_count": 43,
   "id": "d2ad3a5c",
   "metadata": {},
   "outputs": [
    {
     "data": {
      "text/plain": [
       "'02위. 구글닷컴. https://google.com'"
      ]
     },
     "execution_count": 43,
     "metadata": {},
     "output_type": "execute_result"
    }
   ],
   "source": [
    "# Naver 사이트 추출\n",
    "web_ranking[8].get_text()"
   ]
  },
  {
   "cell_type": "code",
   "execution_count": 48,
   "id": "f0672254",
   "metadata": {},
   "outputs": [
    {
     "data": {
      "text/plain": [
       "str"
      ]
     },
     "execution_count": 48,
     "metadata": {},
     "output_type": "execute_result"
    }
   ],
   "source": [
    "test=web_ranking[8].get_text()\n",
    "type(test)"
   ]
  },
  {
   "cell_type": "code",
   "execution_count": 19,
   "id": "1666d7e6",
   "metadata": {},
   "outputs": [],
   "source": [
    "# for문을 활용하여 전체 사이트 추출\n",
    "\n",
    "result=[]\n",
    "for web_site in web_ranking[1:]:\n",
    "    result.append(web_site.get_text())"
   ]
  },
  {
   "cell_type": "code",
   "execution_count": 28,
   "id": "ce6a43d9",
   "metadata": {},
   "outputs": [],
   "source": [
    "result1=[web_site.get_text() for web_site in web_ranking[1:]]"
   ]
  },
  {
   "cell_type": "code",
   "execution_count": 29,
   "id": "7339835c",
   "metadata": {
    "collapsed": true
   },
   "outputs": [
    {
     "data": {
      "text/plain": [
       "['https://naver.com',\n",
       " 'https://google.com',\n",
       " 'https://youtube.com',\n",
       " 'https://daum.net',\n",
       " 'https://facebook.com',\n",
       " 'https://news.naver.com',\n",
       " 'https://dcinside.com',\n",
       " 'https://google.co.kr',\n",
       " 'https://twitter.com',\n",
       " 'https://shopping.naver.com',\n",
       " 'https://map.naver.com',\n",
       " 'https://tistory.com',\n",
       " 'https://www.coupang.com',\n",
       " 'https://www.kakaocorp.com',\n",
       " 'https://ruliweb.com',\n",
       " 'https://www.instagram.com',\n",
       " 'https://namu.wiki',\n",
       " 'https://www.nate.com',\n",
       " 'https://www.fmkorea.com',\n",
       " 'http://ppomppu.co.kr',\n",
       " 'https://www.donga.com',\n",
       " 'http://auction.co.kr',\n",
       " 'https://www.11st.co.kr',\n",
       " 'https://www.gmarket.co.kr',\n",
       " 'http://info.edunet.net',\n",
       " 'http://afreecatv.com',\n",
       " 'http://ebssw.kr',\n",
       " 'http://www.inven.co.kr',\n",
       " 'https://finance.naver.com',\n",
       " 'https://theqoo.net',\n",
       " 'https://www.clien.net',\n",
       " 'http://etoland.co.kr',\n",
       " 'https://sports.news.naver.com',\n",
       " 'http://www.chosun.com',\n",
       " 'https://www.ilbe.com',\n",
       " 'https://news.nate.com',\n",
       " 'http://danawa.com',\n",
       " 'https://www.tmon.co.kr',\n",
       " 'https://www.twitch.tv',\n",
       " 'https://bobaedream.co.kr',\n",
       " 'http://www.uplus.co.kr',\n",
       " 'https://www.joins.com',\n",
       " 'https://www.nexon.com',\n",
       " 'https://front.wemakeprice.com',\n",
       " 'http://interpark.com',\n",
       " 'https://www.wikipedia.org',\n",
       " 'http://web.humoruniv.com',\n",
       " 'https://www.op.gg',\n",
       " '시밀러웹(Similar Web) 대한민국 웹사이트 랭킹']"
      ]
     },
     "execution_count": 29,
     "metadata": {},
     "output_type": "execute_result"
    }
   ],
   "source": [
    "result1"
   ]
  },
  {
   "cell_type": "code",
   "execution_count": 54,
   "id": "e04cfbf2",
   "metadata": {},
   "outputs": [],
   "source": [
    "import pandas as pd\n",
    "result_df=pd.DataFrame(result1,columns=['website'])[:48]\n",
    "result_df.to_csv('C:/Users/ASIA-16/Desktop/Digital_dev/test_1.csv')"
   ]
  },
  {
   "cell_type": "markdown",
   "id": "84082a15",
   "metadata": {},
   "source": [
    "### 줄바꿈 예제 _ 415page"
   ]
  },
  {
   "cell_type": "code",
   "execution_count": 56,
   "id": "c7367150",
   "metadata": {},
   "outputs": [
    {
     "data": {
      "text/plain": [
       "'<!doctype html>\\n<html>\\n  <head>\\n    <meta charset=\"utf-8\">\\n    <title>줄 바꿈 테스트 예제</title>\\n  </head>\\n  <body>\\n  <p id=\"title\"><b>대한민국헌법</b></p>\\n  <p id=\"content\">제1조 <br/>①대한민국은 민주공화국이다.<br/>②대한민국의 주권은 국민에게 있고, 모든 권력은 국민으로부터 나온다.</p>\\n  <p id=\"content\">제2조 <br/>①대한민국의 국민이 되는 요건은 법률로 정한다.<br/>②국가는 법률이 정하는 바에 의하여 재외국민을 보호할 의무를 진다.</p>\\n  </body>\\n</html>\\n'"
      ]
     },
     "execution_count": 56,
     "metadata": {},
     "output_type": "execute_result"
    }
   ],
   "source": [
    "from bs4 import BeautifulSoup\n",
    "\n",
    "f=open('C:/Users/ASIA-16/br_example_constitution.html',encoding='utf-8')\n",
    "html_source=f.read()\n",
    "f.close\n",
    "\n",
    "html_source"
   ]
  },
  {
   "cell_type": "code",
   "execution_count": 72,
   "id": "f03501a8",
   "metadata": {},
   "outputs": [
    {
     "name": "stdout",
     "output_type": "stream",
     "text": [
      "대한민국헌법\n",
      "['제1조 ①대한민국은 민주공화국이다.②대한민국의 주권은 국민에게 있고, 모든 권력은 국민으로부터 나온다.', '제2조 ①대한민국의 국민이 되는 요건은 법률로 정한다.②국가는 법률이 정하는 바에 의하여 재외국민을 보호할 의무를 진다.']\n",
      "제1조 ①대한민국은 민주공화국이다.②대한민국의 주권은 국민에게 있고, 모든 권력은 국민으로부터 나온다.\n",
      "제2조 ①대한민국의 국민이 되는 요건은 법률로 정한다.②국가는 법률이 정하는 바에 의하여 재외국민을 보호할 의무를 진다.\n"
     ]
    }
   ],
   "source": [
    "# Parsing\n",
    "soup=BeautifulSoup(html_source,'lxml')\n",
    "# soup.select('p b')  select로 가져오는 방식\n",
    "# 교재대로\n",
    "title=soup.find('p',{'id':'title'})\n",
    "contents=soup.find_all('p',{'id':'content'})\n",
    "\n",
    "print(title.get_text())\n",
    "\n",
    "# list에 담는다.\n",
    "result_cnt=[cnt.get_text() for cnt in contents]\n",
    "print(result_cnt)\n",
    "\n",
    "# content의 결과값 추출\n",
    "# for content in contents:\n",
    "#     print(content.get_text())"
   ]
  },
  {
   "cell_type": "code",
   "execution_count": 160,
   "id": "7ea7ee6a",
   "metadata": {},
   "outputs": [
    {
     "ename": "SyntaxError",
     "evalue": "invalid syntax (1210394352.py, line 1)",
     "output_type": "error",
     "traceback": [
      "\u001b[1;36m  Input \u001b[1;32mIn [160]\u001b[1;36m\u001b[0m\n\u001b[1;33m    <!DOCTYPE html>\u001b[0m\n\u001b[1;37m    ^\u001b[0m\n\u001b[1;31mSyntaxError\u001b[0m\u001b[1;31m:\u001b[0m invalid syntax\n"
     ]
    }
   ],
   "source": [
    "<!DOCTYPE html>\n",
    "<html>\n",
    "<head>\n",
    "<meta charset=\"utf-8\"/>\n",
    "<title>줄 바꿈 테스트 예제</title>\n",
    "</head>\n",
    "<body>\n",
    "<p id=\"title\"><b>대한민국헌법</b></p>\n",
    "<p id=\"content\">제1조 <br/>①대한민국은 민주공화국이다.<br/>②대한민국의 주권은 국민에게 있고, 모든 권력은 국민으로부터 나온다.</p>\n",
    "<p id=\"content\">제2조 <br/>①대한민국의 국민이 되는 요건은 법률로 정한다.<br/>②국가는 법률이 정하는 바에 의하여 재외국민을 보호할 의무를 진다.</p>\n",
    "</body>\n",
    "</html>"
   ]
  },
  {
   "cell_type": "code",
   "execution_count": 163,
   "id": "f2c521fe",
   "metadata": {},
   "outputs": [
    {
     "name": "stdout",
     "output_type": "stream",
     "text": [
      "<p id=\"content\">제1조 <br/>①대한민국은 민주공화국이다.<br/>②대한민국의 주권은 국민에게 있고, 모든 권력은 국민으로부터 나온다.</p>\n"
     ]
    }
   ],
   "source": [
    "html1='<p id=\"content\">제1조 <br/>①대한민국은 민주공화국이다.<br/>②대한민국의 주권은 국민에게 있고, 모든 권력은 국민으로부터 나온다.</p>'\n",
    "\n",
    "# html1의 parsing\n",
    "soup1=BeautifulSoup(html1,'lxml')\n",
    "\n",
    "# p태그의 요소를 찾아보자.\n",
    "content1=soup1.find('p',{'id':'content'})  # html과 body를 삭제\n",
    "print(content1)"
   ]
  },
  {
   "cell_type": "code",
   "execution_count": 164,
   "id": "fbec7678",
   "metadata": {},
   "outputs": [
    {
     "data": {
      "text/plain": [
       "<br/>"
      ]
     },
     "execution_count": 164,
     "metadata": {},
     "output_type": "execute_result"
    }
   ],
   "source": [
    "br_content=content1.find('br')  # br태그를 찾기\n",
    "br_content\n",
    "\n",
    "# br태그를 \\n으로 바꾸자\n",
    "br_content.replace_with('\\n')\n",
    "\n",
    "# test=str(content1).replace('<br/>','\\n')  # conotent1의 type이 string이 아니어서 replace 함수 바로 못 씀.\n",
    "# test"
   ]
  },
  {
   "cell_type": "code",
   "execution_count": 165,
   "id": "9861b8d0",
   "metadata": {},
   "outputs": [
    {
     "name": "stdout",
     "output_type": "stream",
     "text": [
      "<p id=\"content\">제1조 \n",
      "①대한민국은 민주공화국이다.\n",
      "②대한민국의 주권은 국민에게 있고, 모든 권력은 국민으로부터 나온다.</p>\n"
     ]
    }
   ],
   "source": [
    "# for문을 통해 전체 br을 바꿔 보자\n",
    "br_contents=content1.find_all('br')\n",
    "\n",
    "for br_cnt in br_contents:\n",
    "    br_cnt.replace_with('\\n')\n",
    "print(content1)"
   ]
  },
  {
   "cell_type": "code",
   "execution_count": 138,
   "id": "4551192a",
   "metadata": {},
   "outputs": [
    {
     "data": {
      "text/plain": [
       "[<br/>]"
      ]
     },
     "execution_count": 138,
     "metadata": {},
     "output_type": "execute_result"
    }
   ],
   "source": [
    "br_contents"
   ]
  },
  {
   "cell_type": "code",
   "execution_count": 170,
   "id": "08502a9e",
   "metadata": {
    "scrolled": true
   },
   "outputs": [
    {
     "name": "stdout",
     "output_type": "stream",
     "text": [
      "대한민국헌법 \n",
      "\n",
      "제1조 \n",
      "①대한민국은 민주공화국이다.\n",
      "②대한민국의 주권은 국민에게 있고, 모든 권력은 국민으로부터 나온다. \n",
      "\n"
     ]
    }
   ],
   "source": [
    "# 419 page\n",
    "\n",
    "from bs4 import BeautifulSoup\n",
    "\n",
    "soup4=BeautifulSoup(html_source,'lxml')\n",
    "title4=soup4.find('p',{'id':'title'})\n",
    "contents4=soup4.find('p',{'id':'content'})\n",
    "br_contents=contents4.find_all('br')\n",
    "print(title4.get_text(),'\\n')\n",
    "\n",
    "for cnt in br_contents:\n",
    "    cnt.replace_with('\\n')\n",
    "print(contents4.get_text(),'\\n')"
   ]
  },
  {
   "cell_type": "code",
   "execution_count": null,
   "id": "70f7f575",
   "metadata": {},
   "outputs": [],
   "source": []
  }
 ],
 "metadata": {
  "kernelspec": {
   "display_name": "Python 3 (ipykernel)",
   "language": "python",
   "name": "python3"
  },
  "language_info": {
   "codemirror_mode": {
    "name": "ipython",
    "version": 3
   },
   "file_extension": ".py",
   "mimetype": "text/x-python",
   "name": "python",
   "nbconvert_exporter": "python",
   "pygments_lexer": "ipython3",
   "version": "3.9.12"
  }
 },
 "nbformat": 4,
 "nbformat_minor": 5
}
