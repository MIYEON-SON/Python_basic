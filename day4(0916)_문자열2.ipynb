{
 "cells": [
  {
   "cell_type": "markdown",
   "id": "e777c80b",
   "metadata": {},
   "source": [
    "## 문자열 슬라이싱"
   ]
  },
  {
   "cell_type": "code",
   "execution_count": 1,
   "id": "71dc92dd",
   "metadata": {},
   "outputs": [
    {
     "data": {
      "text/plain": [
       "'List'"
      ]
     },
     "execution_count": 1,
     "metadata": {},
     "output_type": "execute_result"
    }
   ],
   "source": [
    "a = 'Life is too short, you need python'\n",
    "b = a[0]+a[1]+a[6]+a[-4]\n",
    "b"
   ]
  },
  {
   "cell_type": "code",
   "execution_count": 3,
   "id": "52ce5212",
   "metadata": {},
   "outputs": [
    {
     "data": {
      "text/plain": [
       "'Life'"
      ]
     },
     "execution_count": 3,
     "metadata": {},
     "output_type": "execute_result"
    }
   ],
   "source": [
    "a[0:4]  # 마지막 수 4는 세지 않음"
   ]
  },
  {
   "cell_type": "code",
   "execution_count": 5,
   "id": "491f8890",
   "metadata": {},
   "outputs": [
    {
     "data": {
      "text/plain": [
       "'Life '"
      ]
     },
     "execution_count": 5,
     "metadata": {},
     "output_type": "execute_result"
    }
   ],
   "source": [
    "a[0:5]"
   ]
  },
  {
   "cell_type": "markdown",
   "id": "4d84dbd2",
   "metadata": {},
   "source": [
    "#### 'Life'와 'Life '가 같지 않음에 유의"
   ]
  },
  {
   "cell_type": "code",
   "execution_count": 6,
   "id": "52f1b5f7",
   "metadata": {},
   "outputs": [
    {
     "data": {
      "text/plain": [
       "'is'"
      ]
     },
     "execution_count": 6,
     "metadata": {},
     "output_type": "execute_result"
    }
   ],
   "source": [
    "a[5:7]"
   ]
  },
  {
   "cell_type": "code",
   "execution_count": 7,
   "id": "a7f7035d",
   "metadata": {},
   "outputs": [
    {
     "data": {
      "text/plain": [
       "'short'"
      ]
     },
     "execution_count": 7,
     "metadata": {},
     "output_type": "execute_result"
    }
   ],
   "source": [
    "# short 를 추출. s는 12번째\n",
    "a[12:17]"
   ]
  },
  {
   "cell_type": "code",
   "execution_count": 9,
   "id": "63b11f4d",
   "metadata": {},
   "outputs": [
    {
     "data": {
      "text/plain": [
       "'you need python'"
      ]
     },
     "execution_count": 9,
     "metadata": {},
     "output_type": "execute_result"
    }
   ],
   "source": [
    "a[19:]  # 시작점부터 끝까지 호출"
   ]
  },
  {
   "cell_type": "code",
   "execution_count": 10,
   "id": "cdc5b984",
   "metadata": {},
   "outputs": [
    {
     "data": {
      "text/plain": [
       "'Life is too short, you need python'"
      ]
     },
     "execution_count": 10,
     "metadata": {},
     "output_type": "execute_result"
    }
   ],
   "source": [
    "a[:]  # 전체 데이터 호출"
   ]
  },
  {
   "cell_type": "code",
   "execution_count": 11,
   "id": "98ae82d4",
   "metadata": {},
   "outputs": [
    {
     "data": {
      "text/plain": [
       "34"
      ]
     },
     "execution_count": 11,
     "metadata": {},
     "output_type": "execute_result"
    }
   ],
   "source": [
    "len(a)"
   ]
  },
  {
   "cell_type": "code",
   "execution_count": 12,
   "id": "e3fd393d",
   "metadata": {},
   "outputs": [
    {
     "data": {
      "text/plain": [
       "'Life is too short, you need python'"
      ]
     },
     "execution_count": 12,
     "metadata": {},
     "output_type": "execute_result"
    }
   ],
   "source": [
    "a[:34]"
   ]
  },
  {
   "cell_type": "code",
   "execution_count": 16,
   "id": "39000c60",
   "metadata": {},
   "outputs": [],
   "source": [
    "# Q1.\n",
    "# year, month, day, weather 라는 변수에 각 값에 해당하는 값 할당.\n",
    "#슬라이싱 기법 사용해서\n",
    "\n",
    "x = \"20220916Rainy\"\n",
    "year=x[0:4]\n",
    "month=x[4:6]\n",
    "day=x[6:8]\n",
    "weather=x[8:]"
   ]
  },
  {
   "cell_type": "code",
   "execution_count": 20,
   "id": "9d0a995c",
   "metadata": {},
   "outputs": [
    {
     "data": {
      "text/plain": [
       "'Rainy'"
      ]
     },
     "execution_count": 20,
     "metadata": {},
     "output_type": "execute_result"
    }
   ],
   "source": [
    "weather"
   ]
  },
  {
   "cell_type": "code",
   "execution_count": 22,
   "id": "33f8f012",
   "metadata": {},
   "outputs": [
    {
     "data": {
      "text/plain": [
       "'Python'"
      ]
     },
     "execution_count": 22,
     "metadata": {},
     "output_type": "execute_result"
    }
   ],
   "source": [
    "# Q2.\n",
    "# \"Python\" 이라 적어야 되는 문장을 실수로 \"Pithon\"이라 적었다.\n",
    "#  'i'를 'y'로 변경하려면 어떻게 해야 할까?\n",
    "\n",
    "x= 'Pithon'\n",
    "#x[1]='y'\n",
    "\n",
    "x[0]+'y'+x[2:]"
   ]
  },
  {
   "cell_type": "code",
   "execution_count": 26,
   "id": "39edf147",
   "metadata": {},
   "outputs": [
    {
     "data": {
      "text/plain": [
       "'Python'"
      ]
     },
     "execution_count": 26,
     "metadata": {},
     "output_type": "execute_result"
    }
   ],
   "source": [
    "# 함수를 사용하면?\n",
    "x.replace('i','y')"
   ]
  },
  {
   "cell_type": "markdown",
   "id": "275bfb31",
   "metadata": {},
   "source": [
    "## 문자열 포매팅"
   ]
  },
  {
   "cell_type": "markdown",
   "id": "dcbca970",
   "metadata": {},
   "source": [
    "> \" 현재 온도는 18도 입니다\"\n",
    ">\n",
    "> \" 현재 온도는 20도 입니다\""
   ]
  },
  {
   "cell_type": "markdown",
   "id": "006583e4",
   "metadata": {},
   "source": [
    "#### 1. 숫자를 바로 대입"
   ]
  },
  {
   "cell_type": "code",
   "execution_count": 30,
   "id": "e5b4ae37",
   "metadata": {},
   "outputs": [
    {
     "data": {
      "text/plain": [
       "'I eat 3 pythons'"
      ]
     },
     "execution_count": 30,
     "metadata": {},
     "output_type": "execute_result"
    }
   ],
   "source": [
    "\"I eat %d pythons\" % 3"
   ]
  },
  {
   "cell_type": "markdown",
   "id": "4c9f6327",
   "metadata": {},
   "source": [
    "#### 2. 문자열을 바로 대입"
   ]
  },
  {
   "cell_type": "code",
   "execution_count": 35,
   "id": "04ccab09",
   "metadata": {},
   "outputs": [
    {
     "data": {
      "text/plain": [
       "'I eat five pythons'"
      ]
     },
     "execution_count": 35,
     "metadata": {},
     "output_type": "execute_result"
    }
   ],
   "source": [
    "\"I eat %s pythons\" % 'five'"
   ]
  },
  {
   "cell_type": "markdown",
   "id": "d952724c",
   "metadata": {},
   "source": [
    "#### 3. 숫자 값을 나타내는 변수로 대입"
   ]
  },
  {
   "cell_type": "code",
   "execution_count": 36,
   "id": "884a92bb",
   "metadata": {},
   "outputs": [
    {
     "data": {
      "text/plain": [
       "'I eat 3 pythons'"
      ]
     },
     "execution_count": 36,
     "metadata": {},
     "output_type": "execute_result"
    }
   ],
   "source": [
    "num=3\n",
    "\"I eat %d pythons\" % num"
   ]
  },
  {
   "cell_type": "markdown",
   "id": "70ce2210",
   "metadata": {},
   "source": [
    "#### 2개 이상의 값 대입"
   ]
  },
  {
   "cell_type": "code",
   "execution_count": 40,
   "id": "98a1c284",
   "metadata": {},
   "outputs": [
    {
     "data": {
      "text/plain": [
       "'I ate 15 apples. so I was sick for Seven days.'"
      ]
     },
     "execution_count": 40,
     "metadata": {},
     "output_type": "execute_result"
    }
   ],
   "source": [
    "\"I ate %d apples. so I was sick for %s days.\" % (15,'Seven')"
   ]
  },
  {
   "cell_type": "code",
   "execution_count": 42,
   "id": "83bd01b9",
   "metadata": {},
   "outputs": [
    {
     "data": {
      "text/plain": [
       "'I ate 15 apples. so I was sick for Seven days.'"
      ]
     },
     "execution_count": 42,
     "metadata": {},
     "output_type": "execute_result"
    }
   ],
   "source": [
    "num=15\n",
    "day='Seven'\n",
    "\n",
    "\"I ate %d apples. so I was sick for %s days.\" % (num,day)"
   ]
  },
  {
   "attachments": {
    "image-2.png": {
     "image/png": "[encoded data removed]"
    }
   },
   "cell_type": "markdown",
   "id": "14aaeb69",
   "metadata": {},
   "source": [
    "![image-2.png](attachment:image-2.png)"
   ]
  },
  {
   "cell_type": "markdown",
   "id": "f53c0bb3",
   "metadata": {},
   "source": [
    "|코드|설명|\n",
    "|---|---|\n",
    "|%s|문자열(string)|\n",
    "|%c|문자1개(character)|\n",
    "|%d|정수(integer)|"
   ]
  },
  {
   "cell_type": "code",
   "execution_count": 45,
   "id": "39731b7b",
   "metadata": {},
   "outputs": [
    {
     "data": {
      "text/plain": [
       "'Accuracy is 98%'"
      ]
     },
     "execution_count": 45,
     "metadata": {},
     "output_type": "execute_result"
    }
   ],
   "source": [
    "# 주의사항 % 문자 활용 시\n",
    "\"Accuracy is %d%%\" % 98"
   ]
  },
  {
   "cell_type": "markdown",
   "id": "a455b57b",
   "metadata": {},
   "source": [
    "### 포맷 코드와 숫자 함께 사용"
   ]
  },
  {
   "cell_type": "markdown",
   "id": "cfebb035",
   "metadata": {},
   "source": [
    "#### 1. 정렬 및 공백"
   ]
  },
  {
   "cell_type": "code",
   "execution_count": 48,
   "id": "ab9bc6ea",
   "metadata": {},
   "outputs": [
    {
     "name": "stdout",
     "output_type": "stream",
     "text": [
      "   hi\n",
      "hi   \n"
     ]
    }
   ],
   "source": [
    "# 5칸을 설정 후 오른쪽 정렬\n",
    "print(\"%5s\" % 'hi')\n",
    "# 5칸을 설정 후 왼쪽 정렬\n",
    "print(\"%-5s\" % 'hi')"
   ]
  },
  {
   "cell_type": "markdown",
   "id": "4913e037",
   "metadata": {},
   "source": [
    "#### 2. 소수점 표현"
   ]
  },
  {
   "cell_type": "code",
   "execution_count": 50,
   "id": "cfa8c34e",
   "metadata": {},
   "outputs": [
    {
     "data": {
      "text/plain": [
       "'3.14'"
      ]
     },
     "execution_count": 50,
     "metadata": {},
     "output_type": "execute_result"
    }
   ],
   "source": [
    "# 소수점 둘째 자리까지\n",
    "num=3.14159321234\n",
    "\"%0.2f\" % num"
   ]
  },
  {
   "cell_type": "code",
   "execution_count": 51,
   "id": "aadc5006",
   "metadata": {},
   "outputs": [
    {
     "data": {
      "text/plain": [
       "'3.1416'"
      ]
     },
     "execution_count": 51,
     "metadata": {},
     "output_type": "execute_result"
    }
   ],
   "source": [
    "\"%0.4f\" % num"
   ]
  },
  {
   "cell_type": "markdown",
   "id": "4a5c064e",
   "metadata": {},
   "source": [
    "## format 함수 활용"
   ]
  },
  {
   "cell_type": "code",
   "execution_count": 52,
   "id": "74d1b6fe",
   "metadata": {},
   "outputs": [
    {
     "data": {
      "text/plain": [
       "'I ate 3 apples. so I was sick for seven days.'"
      ]
     },
     "execution_count": 52,
     "metadata": {},
     "output_type": "execute_result"
    }
   ],
   "source": [
    "\"I ate {0} apples. so I was sick for {1} days.\".format(3,'seven')"
   ]
  }
 ],
 "metadata": {
  "kernelspec": {
   "display_name": "Python 3 (ipykernel)",
   "language": "python",
   "name": "python3"
  },
  "language_info": {
   "codemirror_mode": {
    "name": "ipython",
    "version": 3
   },
   "file_extension": ".py",
   "mimetype": "text/x-python",
   "name": "python",
   "nbconvert_exporter": "python",
   "pygments_lexer": "ipython3",
   "version": "3.9.12"
  }
 },
 "nbformat": 4,
 "nbformat_minor": 5
}
