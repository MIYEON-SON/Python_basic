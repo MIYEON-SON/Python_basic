{
 "cells": [
  {
   "cell_type": "code",
   "execution_count": 1,
   "id": "8918b70c",
   "metadata": {},
   "outputs": [],
   "source": [
    "# 함수를 생성하는 방법\n",
    "def add(x,y):  # x,y가 파라미터\n",
    "    return x+y"
   ]
  },
  {
   "cell_type": "code",
   "execution_count": 3,
   "id": "67ecc948",
   "metadata": {},
   "outputs": [
    {
     "data": {
      "text/plain": [
       "4"
      ]
     },
     "execution_count": 3,
     "metadata": {},
     "output_type": "execute_result"
    }
   ],
   "source": [
    "var1=1\n",
    "var2=3\n",
    "add(var1,var2)  # var1, var2가 인수"
   ]
  },
  {
   "cell_type": "code",
   "execution_count": 4,
   "id": "460d5fd2",
   "metadata": {},
   "outputs": [],
   "source": [
    "# 결과값이 없다.\n",
    "def mul(a,b):\n",
    "    print('{0}와 {1}의 곱은 {2}이다'.format(a,b,a*b))"
   ]
  },
  {
   "cell_type": "code",
   "execution_count": 5,
   "id": "12cfd48c",
   "metadata": {},
   "outputs": [
    {
     "name": "stdout",
     "output_type": "stream",
     "text": [
      "4와 5의 곱은 20이다\n"
     ]
    }
   ],
   "source": [
    "mul(4,5)"
   ]
  },
  {
   "cell_type": "markdown",
   "id": "4da60079",
   "metadata": {},
   "source": [
    "#### 매개변수를 지정하여 호출"
   ]
  },
  {
   "cell_type": "code",
   "execution_count": 6,
   "id": "d1c970bb",
   "metadata": {},
   "outputs": [
    {
     "name": "stdout",
     "output_type": "stream",
     "text": [
      "6와 3의 곱은 18이다\n"
     ]
    }
   ],
   "source": [
    "mul(b=3,a=6)  # 파라미터에 직접 대응하는 것이 매개변수를 지정한다는 뜻"
   ]
  },
  {
   "cell_type": "markdown",
   "id": "c0a8c61f",
   "metadata": {},
   "source": [
    "#### 입력값이 몇 개가 될지 모를 때?"
   ]
  },
  {
   "cell_type": "code",
   "execution_count": 9,
   "id": "bb3a1b97",
   "metadata": {},
   "outputs": [],
   "source": [
    "def add_many(*args):\n",
    "    l1=0\n",
    "    for i in args:\n",
    "        l1 += i\n",
    "    return l1 "
   ]
  },
  {
   "cell_type": "code",
   "execution_count": 10,
   "id": "eac8878f",
   "metadata": {},
   "outputs": [
    {
     "data": {
      "text/plain": [
       "11"
      ]
     },
     "execution_count": 10,
     "metadata": {},
     "output_type": "execute_result"
    }
   ],
   "source": [
    "add_many(2,4,5)"
   ]
  },
  {
   "cell_type": "code",
   "execution_count": 17,
   "id": "72f70ae7",
   "metadata": {},
   "outputs": [],
   "source": [
    "# *args를 활용한 입력값 여러 개를 받는 함수\n",
    "def add_mul(choice, *args):\n",
    "    if choice == 'add':\n",
    "        result=0       # *******주의********\n",
    "        for i in args:\n",
    "            result += i\n",
    "    elif choice == 'mul':\n",
    "        result=1       # *******주의********\n",
    "        for i in args:\n",
    "            result *= i\n",
    "    return result"
   ]
  },
  {
   "cell_type": "code",
   "execution_count": 18,
   "id": "9e843e9a",
   "metadata": {},
   "outputs": [
    {
     "data": {
      "text/plain": [
       "60"
      ]
     },
     "execution_count": 18,
     "metadata": {},
     "output_type": "execute_result"
    }
   ],
   "source": [
    "add_mul('mul',3,4,5)"
   ]
  },
  {
   "cell_type": "code",
   "execution_count": 19,
   "id": "33553e53",
   "metadata": {},
   "outputs": [],
   "source": [
    "# 함수의 결과값은 늘 하나 -1\n",
    "def add_and_sub(a,b):\n",
    "    return a+b, b-a"
   ]
  },
  {
   "cell_type": "code",
   "execution_count": 20,
   "id": "d934fbda",
   "metadata": {
    "scrolled": true
   },
   "outputs": [
    {
     "name": "stdout",
     "output_type": "stream",
     "text": [
      "(15, 5)\n"
     ]
    }
   ],
   "source": [
    "result=add_and_sub(5,10)\n",
    "print(result)"
   ]
  },
  {
   "cell_type": "code",
   "execution_count": 22,
   "id": "fbedb2d0",
   "metadata": {},
   "outputs": [
    {
     "data": {
      "text/plain": [
       "9"
      ]
     },
     "execution_count": 22,
     "metadata": {},
     "output_type": "execute_result"
    }
   ],
   "source": [
    "# 함수의 결과값은 늘 하나 -2\n",
    "def add_and_sub(a,b):\n",
    "    return a+b\n",
    "    return b-a\n",
    "\n",
    "# 첫 번째 리턴 값인 a+b만 값으로 갖는다.\n",
    "add_and_sub(4,5)"
   ]
  },
  {
   "cell_type": "code",
   "execution_count": 54,
   "id": "2189d148",
   "metadata": {},
   "outputs": [],
   "source": [
    "# 리턴의 또 다른 쓰임새\n",
    "# 특정한 값이나 상황에서 함수를 그냥 빠져나가버리게 하는 용도 :: return만 활용\n",
    "def say_nickname(nick):\n",
    "    if nick=='더쿠':\n",
    "        return\n",
    "    else:\n",
    "        print('나의 별명은 %s입니다.' % nick)"
   ]
  },
  {
   "cell_type": "code",
   "execution_count": 55,
   "id": "274788cd",
   "metadata": {},
   "outputs": [],
   "source": [
    "say_nickname('더쿠')"
   ]
  },
  {
   "cell_type": "code",
   "execution_count": 56,
   "id": "85786646",
   "metadata": {},
   "outputs": [
    {
     "name": "stdout",
     "output_type": "stream",
     "text": [
      "나의 별명은 아미입니다.\n"
     ]
    }
   ],
   "source": [
    "say_nickname('아미')"
   ]
  },
  {
   "cell_type": "code",
   "execution_count": 34,
   "id": "4f57d558",
   "metadata": {},
   "outputs": [],
   "source": [
    "# 매개변수에 초기값 미리 설정 :: default\n",
    "def intro_myself(name, age, man=True):\n",
    "    print('나의 이름은 {0}이고 나이는 {1}입니다'.format(name,age))\n",
    "    if man:\n",
    "        print('남성입니다')\n",
    "    else:\n",
    "        print('여성입니다')"
   ]
  },
  {
   "cell_type": "code",
   "execution_count": 38,
   "id": "036de509",
   "metadata": {},
   "outputs": [
    {
     "name": "stdout",
     "output_type": "stream",
     "text": [
      "나의 이름은 미연이고 나이는 20입니다\n",
      "여성입니다\n"
     ]
    }
   ],
   "source": [
    "intro_myself('미연',20,False)"
   ]
  },
  {
   "cell_type": "code",
   "execution_count": 39,
   "id": "9d0a0258",
   "metadata": {},
   "outputs": [
    {
     "ename": "SyntaxError",
     "evalue": "non-default argument follows default argument (3347469811.py, line 4)",
     "output_type": "error",
     "traceback": [
      "\u001b[1;36m  Input \u001b[1;32mIn [39]\u001b[1;36m\u001b[0m\n\u001b[1;33m    def intro_myself(man=True, name, age):\u001b[0m\n\u001b[1;37m                                     ^\u001b[0m\n\u001b[1;31mSyntaxError\u001b[0m\u001b[1;31m:\u001b[0m non-default argument follows default argument\n"
     ]
    }
   ],
   "source": [
    "# 매개변수에 초기값 미리 설정 :: default\n",
    "## 위 함수 생성 시 주의점 1 - default 값의 위치\n",
    "def intro_myself(man=True, name, age):\n",
    "    print('나의 이름은 {0}이고 나이는 {1}입니다'.format(name,age))\n",
    "    if man:\n",
    "        print('남성입니다')\n",
    "    else:\n",
    "        print('여성입니다')"
   ]
  },
  {
   "cell_type": "markdown",
   "id": "5c4d0c66",
   "metadata": {},
   "source": [
    "> 함수 안에서 선언된 변수의 효력의 범위\n",
    " \n",
    "> global과 local이라는 개념에 대해 설명\n"
   ]
  },
  {
   "cell_type": "code",
   "execution_count": 46,
   "id": "89ee2ee3",
   "metadata": {},
   "outputs": [],
   "source": [
    "#global:: 광역변수, local:: 지역변수\n",
    "\n",
    "a=1  # def 밖에 존재 - gloabl한 변수\n",
    "def test_var(a): \n",
    "    a=a+1  # def 안에 존재 - local한 a"
   ]
  },
  {
   "cell_type": "code",
   "execution_count": 45,
   "id": "423cb4b9",
   "metadata": {},
   "outputs": [],
   "source": [
    "test_var(2)"
   ]
  },
  {
   "cell_type": "code",
   "execution_count": 42,
   "id": "1dae384c",
   "metadata": {},
   "outputs": [
    {
     "name": "stdout",
     "output_type": "stream",
     "text": [
      "1\n"
     ]
    }
   ],
   "source": [
    "print(a)"
   ]
  },
  {
   "cell_type": "code",
   "execution_count": 48,
   "id": "ddf36d98",
   "metadata": {},
   "outputs": [
    {
     "data": {
      "text/plain": [
       "2"
      ]
     },
     "execution_count": 48,
     "metadata": {},
     "output_type": "execute_result"
    }
   ],
   "source": [
    "# 위와 같이 함수 안의 변수와 함수 밖의 변수를 함께 활용하고 싶다면? \n",
    "# 1. return을 활용 가능\n",
    "\n",
    "a=1  # def 밖에 존재 - gloabl한 변수\n",
    "def test_var(a): \n",
    "    a=a+1  # def 안에 존재 - local한 a\n",
    "    return a\n",
    "\n",
    "test_var(a)"
   ]
  },
  {
   "cell_type": "code",
   "execution_count": 52,
   "id": "b487197a",
   "metadata": {},
   "outputs": [
    {
     "name": "stdout",
     "output_type": "stream",
     "text": [
      "101\n"
     ]
    }
   ],
   "source": [
    "# 위와 같이 함수 안의 변수와 함수 밖의 변수를 함께 활용하고 싶다면? \n",
    "# 2. global\n",
    "\n",
    "b=100\n",
    "def test_var(): \n",
    "    global b\n",
    "    b +=1\n",
    "\n",
    "test_var()\n",
    "print(b)"
   ]
  },
  {
   "cell_type": "markdown",
   "id": "f2f8d942",
   "metadata": {},
   "source": [
    "# lambda식"
   ]
  },
  {
   "cell_type": "code",
   "execution_count": 1,
   "id": "08dd85a5",
   "metadata": {},
   "outputs": [
    {
     "name": "stdout",
     "output_type": "stream",
     "text": [
      "9\n"
     ]
    }
   ],
   "source": [
    "add=lambda a,b: a+b\n",
    "result=add(4,5)\n",
    "print(result)"
   ]
  },
  {
   "cell_type": "code",
   "execution_count": 3,
   "id": "ed750174",
   "metadata": {},
   "outputs": [
    {
     "data": {
      "text/plain": [
       "25"
      ]
     },
     "execution_count": 3,
     "metadata": {},
     "output_type": "execute_result"
    }
   ],
   "source": [
    "lambda_squre=lambda x: x**2\n",
    "lambda_squre(5)"
   ]
  },
  {
   "cell_type": "code",
   "execution_count": 2,
   "id": "6988d16c",
   "metadata": {},
   "outputs": [
    {
     "name": "stdout",
     "output_type": "stream",
     "text": [
      "3의 제곱은: 9\n"
     ]
    }
   ],
   "source": [
    "# 함수로 만든 get_squre\n",
    "def get_squre(a):\n",
    "    return a**2\n",
    "print('3의 제곱은:',get_squre(3))"
   ]
  },
  {
   "cell_type": "code",
   "execution_count": 57,
   "id": "17fa3283",
   "metadata": {},
   "outputs": [
    {
     "data": {
      "text/plain": [
       "[1, 4, 9]"
      ]
     },
     "execution_count": 57,
     "metadata": {},
     "output_type": "execute_result"
    }
   ],
   "source": [
    "# map이라는 함수와 엮어서 쓰자\n",
    "a=[1,2,3]\n",
    "list(map(lambda x: x**2, a))"
   ]
  },
  {
   "cell_type": "code",
   "execution_count": null,
   "id": "556b5401",
   "metadata": {},
   "outputs": [],
   "source": []
  },
  {
   "cell_type": "code",
   "execution_count": 58,
   "id": "09640029",
   "metadata": {},
   "outputs": [
    {
     "name": "stdout",
     "output_type": "stream",
     "text": [
      "Help on class map in module builtins:\n",
      "\n",
      "class map(object)\n",
      " |  map(func, *iterables) --> map object\n",
      " |  \n",
      " |  Make an iterator that computes the function using arguments from\n",
      " |  each of the iterables.  Stops when the shortest iterable is exhausted.\n",
      " |  \n",
      " |  Methods defined here:\n",
      " |  \n",
      " |  __getattribute__(self, name, /)\n",
      " |      Return getattr(self, name).\n",
      " |  \n",
      " |  __iter__(self, /)\n",
      " |      Implement iter(self).\n",
      " |  \n",
      " |  __next__(self, /)\n",
      " |      Implement next(self).\n",
      " |  \n",
      " |  __reduce__(...)\n",
      " |      Return state information for pickling.\n",
      " |  \n",
      " |  ----------------------------------------------------------------------\n",
      " |  Static methods defined here:\n",
      " |  \n",
      " |  __new__(*args, **kwargs) from builtins.type\n",
      " |      Create and return a new object.  See help(type) for accurate signature.\n",
      "\n"
     ]
    }
   ],
   "source": [
    "help(map)"
   ]
  }
 ],
 "metadata": {
  "kernelspec": {
   "display_name": "Python 3 (ipykernel)",
   "language": "python",
   "name": "python3"
  },
  "language_info": {
   "codemirror_mode": {
    "name": "ipython",
    "version": 3
   },
   "file_extension": ".py",
   "mimetype": "text/x-python",
   "name": "python",
   "nbconvert_exporter": "python",
   "pygments_lexer": "ipython3",
   "version": "3.9.12"
  }
 },
 "nbformat": 4,
 "nbformat_minor": 5
}
